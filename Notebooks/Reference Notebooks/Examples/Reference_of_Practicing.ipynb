{
  "nbformat": 4,
  "nbformat_minor": 0,
  "metadata": {
    "colab": {
      "name": "Reference of Practicing.ipynb",
      "private_outputs": true,
      "provenance": [],
      "collapsed_sections": [],
      "machine_shape": "hm",
      "authorship_tag": "ABX9TyNO1McKXKN4gkydyVfBS9kC",
      "include_colab_link": true
    },
    "kernelspec": {
      "name": "python3",
      "display_name": "Python 3"
    },
    "language_info": {
      "name": "python"
    },
    "gpuClass": "standard"
  },
  "cells": [
    {
      "cell_type": "markdown",
      "metadata": {
        "id": "view-in-github",
        "colab_type": "text"
      },
      "source": [
        "<a href=\"https://colab.research.google.com/github/sea-surface-teleconnections/sea-surface-teleconnections/blob/main/Reference_of_Practicing.ipynb\" target=\"_parent\"><img src=\"https://colab.research.google.com/assets/colab-badge.svg\" alt=\"Open In Colab\"/></a>"
      ]
    },
    {
      "cell_type": "markdown",
      "source": [
        "# Install & Import Libraries, Dependencies\n",
        "\n",
        "\n",
        "---\n",
        "\n",
        "\n",
        "\n",
        "---\n",
        "\n"
      ],
      "metadata": {
        "id": "JdE1RZ8kVqbr"
      }
    },
    {
      "cell_type": "code",
      "source": [
        "!pip install netCDF4\n",
        "!pip install nctoolkit"
      ],
      "metadata": {
        "id": "6I2gtXgkMc9D"
      },
      "execution_count": null,
      "outputs": []
    },
    {
      "cell_type": "code",
      "source": [
        "import warnings\n",
        "warnings.filterwarnings('ignore')"
      ],
      "metadata": {
        "id": "BRZ4GV3m5MjX"
      },
      "execution_count": null,
      "outputs": []
    },
    {
      "cell_type": "code",
      "source": [
        "import datetime\n",
        "import numpy as np\n",
        "import netCDF4 as nc4\n",
        "import netCDF4\n",
        "from netCDF4 import num2date\n",
        "import numpy as np\n",
        "import os\n",
        "import pandas as pd\n",
        "import nctoolkit as nc\n",
        "import datetime\n",
        "import os"
      ],
      "metadata": {
        "id": "bCySh0G15Psj"
      },
      "execution_count": null,
      "outputs": []
    },
    {
      "cell_type": "markdown",
      "source": [
        "#Reading Large Files \n",
        "\n",
        "\n",
        "---\n",
        "\n",
        "\n",
        "Read Meta Data Information First\n",
        "\n",
        "\n",
        "---\n",
        "\n"
      ],
      "metadata": {
        "id": "FhhHfboddDW2"
      }
    },
    {
      "cell_type": "code",
      "source": [
        "%matplotlib inline\n",
        "from netCDF4 import Dataset    \n"
      ],
      "metadata": {
        "id": "HnIwIwa6NHMh"
      },
      "execution_count": null,
      "outputs": []
    },
    {
      "cell_type": "code",
      "source": [
        "data = Dataset('/content/AVHRR_SST.0-fv02.1.nc', 'r')\n",
        "# print some metadata\n",
        "print(data)\n",
        "data.close()"
      ],
      "metadata": {
        "id": "RyM3t2NtNcSJ",
        "collapsed": true
      },
      "execution_count": null,
      "outputs": []
    },
    {
      "cell_type": "markdown",
      "source": [
        "# Reading MetaData from DataSet in 3 Lines\n",
        "\n",
        "\n",
        "\n",
        "---\n",
        "\n"
      ],
      "metadata": {
        "id": "LXMUsiaZdJ97"
      }
    },
    {
      "cell_type": "code",
      "source": [
        "import xarray as xr"
      ],
      "metadata": {
        "id": "E31ja9yd4uHM"
      },
      "execution_count": null,
      "outputs": []
    },
    {
      "cell_type": "code",
      "source": [
        "import pandas as pd"
      ],
      "metadata": {
        "id": "hPJ_y3jF4xgl"
      },
      "execution_count": null,
      "outputs": []
    },
    {
      "cell_type": "markdown",
      "source": [
        " this dataset was renamed  to avhrr_sst\n",
        " "
      ],
      "metadata": {
        "id": "k6xcMQ0hh-q5"
      }
    },
    {
      "cell_type": "code",
      "source": [
        "data = xr.open_dataset('/content/AVHRR_SST.0-fv02.1.nc')\n",
        "data"
      ],
      "metadata": {
        "id": "pp38Lrl140Cs"
      },
      "execution_count": null,
      "outputs": []
    },
    {
      "cell_type": "markdown",
      "source": [
        "# Viewing data attributes and variables\n",
        "\n",
        "\n",
        "---\n",
        "\n"
      ],
      "metadata": {
        "id": "x_71Ks-A_-ZY"
      }
    },
    {
      "cell_type": "code",
      "source": [
        "print(data.attrs)"
      ],
      "metadata": {
        "id": "wNyf2Sz28Hil"
      },
      "execution_count": null,
      "outputs": []
    },
    {
      "cell_type": "code",
      "source": [
        "print(data.variables)"
      ],
      "metadata": {
        "id": "YpB6eUTC8v57"
      },
      "execution_count": null,
      "outputs": []
    },
    {
      "cell_type": "code",
      "source": [
        "# https://nctoolkit.readthedocs.io/en/latest/datasets.html"
      ],
      "metadata": {
        "id": "u1379YCnU0uP"
      },
      "execution_count": null,
      "outputs": []
    },
    {
      "cell_type": "markdown",
      "source": [
        "#Convert to Pandas DataFrame \n",
        "\n",
        "\n",
        "\n",
        "---\n",
        "\n",
        "Different Ways:\n",
        "\n",
        "\n",
        "\n",
        "*   Customizing Manual Iteration\n",
        "*   Automated Conversion\n",
        "\n"
      ],
      "metadata": {
        "id": "dj6qOV5FQwrb"
      }
    },
    {
      "cell_type": "code",
      "source": [
        "import pandas as pd\n",
        "\n",
        "\n",
        "df = pd.DataFrame(data)\n",
        "print(df)"
      ],
      "metadata": {
        "id": "PCNO0nEv7-qS"
      },
      "execution_count": null,
      "outputs": []
    },
    {
      "cell_type": "code",
      "source": [
        "print(data['lat'])"
      ],
      "metadata": {
        "id": "K1CLgn7fCWTk"
      },
      "execution_count": null,
      "outputs": []
    },
    {
      "cell_type": "markdown",
      "source": [
        "## Plotting DataSet Variables \n",
        "\n",
        "---\n",
        "\n"
      ],
      "metadata": {
        "id": "dqy9Gkr8MVn_"
      }
    },
    {
      "cell_type": "code",
      "source": [
        ""
      ],
      "metadata": {
        "id": "fvPXmIiU4wgq"
      },
      "execution_count": null,
      "outputs": []
    },
    {
      "cell_type": "code",
      "source": [
        "!pip install rioxarray"
      ],
      "metadata": {
        "id": "2hmOvwwQMy2q"
      },
      "execution_count": null,
      "outputs": []
    },
    {
      "cell_type": "code",
      "source": [
        "import rioxarray\n",
        "import xarray\n",
        "import matplotlib.pyplot as plt"
      ],
      "metadata": {
        "id": "2GpDi4FwMT7-"
      },
      "execution_count": null,
      "outputs": []
    },
    {
      "cell_type": "code",
      "source": [
        "fn = '/content/AVHRR_SST.0-fv02.1.nc'\n",
        "#pr = rioxarray.open_rasterio(fn)\n",
        "\n",
        "print(fn)\n"
      ],
      "metadata": {
        "id": "SVs3_8M7NFWE"
      },
      "execution_count": null,
      "outputs": []
    },
    {
      "cell_type": "markdown",
      "source": [
        "# Leafmap Integration \n",
        "\n",
        "\n",
        "---\n",
        "\n",
        "\n"
      ],
      "metadata": {
        "id": "X5r5_BpDAqj3"
      }
    },
    {
      "cell_type": "code",
      "source": [
        "!pip install leafmap \n",
        "!pip install localtileserver"
      ],
      "metadata": {
        "id": "ZQgAeUk-cS73"
      },
      "execution_count": null,
      "outputs": []
    },
    {
      "cell_type": "code",
      "source": [
        "import leafmap\n",
        "filename = '/content/AVHRR_SST.0-fv02.1.nc'"
      ],
      "metadata": {
        "id": "PaF0j_kXjOer"
      },
      "execution_count": null,
      "outputs": []
    },
    {
      "cell_type": "markdown",
      "source": [
        "# Reading directly with Leaflet\n",
        "\n",
        "\n",
        "---\n",
        "\n"
      ],
      "metadata": {
        "id": "WS_3ajYJj_wp"
      }
    },
    {
      "cell_type": "code",
      "source": [
        "data.dims"
      ],
      "metadata": {
        "id": "gaIy6kehb81A"
      },
      "execution_count": null,
      "outputs": []
    },
    {
      "cell_type": "code",
      "source": [
        "data_two = leafmap.read_netcdf(filename)"
      ],
      "metadata": {
        "id": "eHBCA_Ffj5ha"
      },
      "execution_count": null,
      "outputs": []
    },
    {
      "cell_type": "code",
      "source": [
        "print(data_two)"
      ],
      "metadata": {
        "id": "lQyVK_NLkIG_"
      },
      "execution_count": null,
      "outputs": []
    },
    {
      "cell_type": "markdown",
      "source": [
        "# Convert the NetCDF\n",
        "\n",
        "\n",
        "---\n",
        "\n",
        "\n",
        "\n",
        "*   GeoTif\n",
        "*   GeoJson\n",
        "*   CSV\n",
        "\n"
      ],
      "metadata": {
        "id": "7iJ-BOb2kSRG"
      }
    },
    {
      "cell_type": "code",
      "source": [
        "tiff = '/content/AVHRR_SST.0-fv02.1.tiff'"
      ],
      "metadata": {
        "id": "qDfMuKfzkRVm"
      },
      "execution_count": null,
      "outputs": []
    },
    {
      "cell_type": "code",
      "source": [
        "leafmap.netcdf_to_tiff(filename, tiff, variables=['analysed_sst', 'sea_ice_fraction'], shift_lon=True)"
      ],
      "metadata": {
        "id": "RZbWzbCCkm0P"
      },
      "execution_count": null,
      "outputs": []
    },
    {
      "cell_type": "code",
      "source": [
        "print(tiff)"
      ],
      "metadata": {
        "id": "o_ZdKSauYttf"
      },
      "execution_count": null,
      "outputs": []
    },
    {
      "cell_type": "code",
      "source": [
        "geojson = '/content/AVHRR_SST.0-fv02.1.geojson'"
      ],
      "metadata": {
        "id": "yf4oW37AlDBK"
      },
      "execution_count": null,
      "outputs": []
    },
    {
      "cell_type": "code",
      "source": [
        "from osgeo import gdal\n",
        "import pandas as pd\n",
        "import numpy as np\n",
        "import os\n",
        "import matplotlib.pyplot as plt\n",
        "from osgeo import gdal\n",
        "import pandas as pd\n",
        "import numpy as np\n",
        "import os\n",
        "import matplotlib.pyplot as plt"
      ],
      "metadata": {
        "id": "b3i_7xXZb1Gj"
      },
      "execution_count": null,
      "outputs": []
    },
    {
      "cell_type": "code",
      "source": [
        "import leafmap.leafmap as leafmap\n",
        "import leafmap.foliumap as leafmap"
      ],
      "metadata": {
        "id": "-vYV1N4Bl7b9"
      },
      "execution_count": null,
      "outputs": []
    },
    {
      "cell_type": "markdown",
      "source": [
        "# Step 3:  Extract each time as a 2D pandas DataFrame and write it to the CSV file\n",
        "\n",
        "\n",
        "---\n",
        "\n"
      ],
      "metadata": {
        "id": "vsa33sdGAzMM"
      }
    },
    {
      "cell_type": "markdown",
      "source": [
        "# Step 4: Write to A DataTable \n",
        "---\n",
        "4 Ways to Write and Rename a columns: \n",
        "\n",
        "* Time \n",
        "* latitude \n",
        "* longitude\n",
        "* Value\n"
      ],
      "metadata": {
        "id": "v3ln-ZnQGMpg"
      }
    },
    {
      "cell_type": "code",
      "source": [
        "# Checking data is correctly identified\n",
        "data"
      ],
      "metadata": {
        "id": "ZtI33lkjH4Wl"
      },
      "execution_count": null,
      "outputs": []
    },
    {
      "cell_type": "code",
      "source": [
        "# Calling paramter be passed into Naw Name\n",
        "Data = pd.DataFrame(data)\n",
        "Data"
      ],
      "metadata": {
        "id": "YHkJkKJFaKc1"
      },
      "execution_count": null,
      "outputs": []
    },
    {
      "cell_type": "code",
      "source": [
        "# Calling paramter be passed into Naw Name\n",
        "variables = pd.DataFrame(data.variables)\n",
        "variables"
      ],
      "metadata": {
        "id": "O6VUyKwVX9Vv"
      },
      "execution_count": null,
      "outputs": []
    },
    {
      "cell_type": "markdown",
      "source": [
        "### Renaming collumns \n",
        "\n",
        "\n",
        "---\n",
        "\n"
      ],
      "metadata": {
        "id": "9Y94uo7jFcds"
      }
    },
    {
      "cell_type": "code",
      "source": [
        "variables.columns = ['variables']\n",
        "variables"
      ],
      "metadata": {
        "id": "yld91sRMFe-n"
      },
      "execution_count": null,
      "outputs": []
    },
    {
      "cell_type": "markdown",
      "source": [
        "### Read Array into Numpy Array\n",
        "\n",
        "\n",
        "---\n",
        "\n"
      ],
      "metadata": {
        "id": "vX-JKyJIjE74"
      }
    },
    {
      "cell_type": "code",
      "source": [
        "tmax=data.variables['time'][:]#Reads the whole array\n",
        "tmax\n",
        "data.keys()"
      ],
      "metadata": {
        "id": "fxgs7NPchj7g"
      },
      "execution_count": null,
      "outputs": []
    },
    {
      "cell_type": "markdown",
      "source": [
        "##  Create Path to Store Variables and Data \n",
        "\n",
        "\n",
        "\n",
        "---\n",
        "\n",
        "\n",
        "\n",
        "---\n",
        "\n",
        "\n",
        "*  Lat\n",
        "*  Long\n",
        "\n"
      ],
      "metadata": {
        "id": "68i1g_2Djf29"
      }
    },
    {
      "cell_type": "code",
      "source": [
        "lat_daymet_ds =data.variables[\"lat\"][:]\n",
        "lon_daymet_ds = data.variables['lon'][:]\n",
        "\n",
        "lat_daymet_ds\n",
        "tempa=data.variables['analysed_sst'][:]#Reads the whole array\n",
        "tempa.values\n",
        "\n",
        "data.head()"
      ],
      "metadata": {
        "id": "3w4h36ePjl7m"
      },
      "execution_count": null,
      "outputs": []
    },
    {
      "cell_type": "code",
      "source": [
        "temp = data.variables['analysed_sst'] [:]\n",
        "temp\n",
        "\n",
        "print(tempa[:])"
      ],
      "metadata": {
        "id": "TmTsSyOSsyY3"
      },
      "execution_count": null,
      "outputs": []
    },
    {
      "cell_type": "code",
      "source": [
        "df_fourtytwo = pd.DataFrame(tempa.shape, columns = [\"titleMe\"])\n",
        "df_fourtytwo"
      ],
      "metadata": {
        "id": "OmDZj9YTyLym"
      },
      "execution_count": null,
      "outputs": []
    },
    {
      "cell_type": "code",
      "source": [
        "from xarray.core.variable import Variable\n",
        "from re import search\n",
        "from numpy.core.fromnumeric import searchsorted\n",
        "df77 = pd.DataFrame(tempData.analysed_sst[:], tempData, columns = [\"Variables Values\"])"
      ],
      "metadata": {
        "id": "vIy42_z-1Y5O"
      },
      "execution_count": null,
      "outputs": []
    },
    {
      "cell_type": "code",
      "source": [
        "from numpy.ma.core import get_data\n",
        "tempa_values  = get_data(data.[:][:])\n",
        "\n",
        "data.variables\n",
        "df77"
      ],
      "metadata": {
        "id": "n32DhnTgCGt7"
      },
      "execution_count": null,
      "outputs": []
    },
    {
      "cell_type": "code",
      "source": [
        "tempData = {\n",
        "    'Variables' : ['analysed_sst', 'time', 'lat', 'lon'],\n",
        "    'time' : ['time'],\n",
        "    'temperature' : ['tempa_value'],\n",
        "}"
      ],
      "metadata": {
        "id": "6YosXy3COjk1"
      },
      "execution_count": null,
      "outputs": []
    },
    {
      "cell_type": "code",
      "source": [
        "dfObj = pd.DataFrame(tempData.items(), columns=['Variables', 'Date', ])\n",
        "dfObj"
      ],
      "metadata": {
        "id": "hLzoofSfRV-b"
      },
      "execution_count": null,
      "outputs": []
    },
    {
      "cell_type": "code",
      "source": [
        "dfObj2 = pd.DataFrame.from_dict(tempData, orient='index')\n",
        "dfObj2\n",
        "\n",
        "idea = pd.DataFrame(df77[:], time,  columns = [\"Variables\", \"time\", \"Year\"])#Reads the whole array\n",
        "idea"
      ],
      "metadata": {
        "id": "gMJxfH7gP2VH"
      },
      "execution_count": null,
      "outputs": []
    },
    {
      "cell_type": "markdown",
      "source": [
        "\n",
        "\n",
        "\n",
        "---\n",
        "\n",
        "\n",
        "\n",
        "---\n",
        "\n",
        "\n",
        "# 🌈  ⭐ Extract The Temperature Set Data Points \n",
        "\n",
        "\n",
        "\n",
        "---\n",
        "\n",
        "\n",
        "\n",
        "---\n",
        "\n"
      ],
      "metadata": {
        "id": "QV4WVUNqqBGN"
      }
    },
    {
      "cell_type": "code",
      "source": [
        "temptime = pd.DataFrame.from_records(tempa.values[:][:])\n",
        "temptime"
      ],
      "metadata": {
        "id": "OwR5u-Gujm8E"
      },
      "execution_count": null,
      "outputs": []
    },
    {
      "cell_type": "code",
      "source": [
        "from pickle import LIST\n",
        "temptime6 = list(tempa[:])"
      ],
      "metadata": {
        "id": "cQC6BOnmi070"
      },
      "execution_count": null,
      "outputs": []
    },
    {
      "cell_type": "code",
      "source": [
        "temptime6[2][70][720]"
      ],
      "metadata": {
        "id": "S2kBby-mjnq5"
      },
      "execution_count": null,
      "outputs": []
    },
    {
      "cell_type": "code",
      "source": [
        "temp[:2]"
      ],
      "metadata": {
        "id": "1dnaDim7maMg"
      },
      "execution_count": null,
      "outputs": []
    },
    {
      "cell_type": "code",
      "source": [
        "lat[2:717] \n",
        "time[2:717]\n",
        "lon[2:717]\n",
        "temp[2:717]\n",
        "latrange = lat.to_index_variable()\n",
        "latrange\n",
        "temp_range = temp.to_index_variable\n",
        "temp_range"
      ],
      "metadata": {
        "id": "0eZcw0hLnyO6"
      },
      "execution_count": null,
      "outputs": []
    },
    {
      "cell_type": "markdown",
      "source": [
        "\n",
        "\n",
        "---\n",
        "\n"
      ],
      "metadata": {
        "id": "828DSwotwqv5"
      }
    },
    {
      "cell_type": "code",
      "source": [
        "# NO IDEA WHATS HAPPENING HERE, HAVE TO GO BACK OVER IT\n",
        "\n",
        "import nctoolkit as nc\n",
        "ok5= nc.from_xarray(data)\n",
        "\n",
        "#nc.open_url\n",
        "#nc.anomaly(temp)\n",
        "temptime.dtypes"
      ],
      "metadata": {
        "id": "XwZMr8Cktaw2"
      },
      "execution_count": null,
      "outputs": []
    },
    {
      "cell_type": "code",
      "source": [
        "temptime4 = {\n",
        "    'time': ['time'], \n",
        "    'lat': ['lat'], \n",
        "    'lon': ['lon']\n",
        "    }"
      ],
      "metadata": {
        "id": "OYr02fk9UvJA"
      },
      "execution_count": null,
      "outputs": []
    },
    {
      "cell_type": "code",
      "source": [
        "# LOOKS LIKE IM CALLING TO EXTRACT TEMPERATURE\n",
        "\n",
        "for i in temptime6[:][:][:]:\n",
        "        print(*i)\n",
        "\n",
        "temptime.describe()"
      ],
      "metadata": {
        "id": "oVAwImi_Vd6l"
      },
      "execution_count": null,
      "outputs": []
    },
    {
      "cell_type": "code",
      "source": [
        "temptime.columns\n",
        "temptime5 = temptime[710][:]\n",
        "itslate = pd.Series(temptime5)\n",
        "itslate2 =pd.DataFrame(itslate)\n",
        "itslate2\n",
        "itslate2.columns = ['tempature values']\n",
        "itslate2.columns \n",
        "itslate2\n",
        "\n",
        "temptime.at_time\n",
        "for x in temptime:\n",
        "    print(temptime.at_time)\n",
        "    i = pd.DataFrame(time.dims)\n",
        "    print(i)\n",
        "    x = x-1\n",
        "\n",
        "sst.dims\n",
        "    #data.coords['time']"
      ],
      "metadata": {
        "id": "XlLzTRt9uWaD"
      },
      "execution_count": null,
      "outputs": []
    },
    {
      "cell_type": "markdown",
      "source": [
        "\n",
        "\n",
        "---\n",
        "\n"
      ],
      "metadata": {
        "id": "HKHTqOtlEt1r"
      }
    },
    {
      "cell_type": "code",
      "source": [
        "temptime55 = temptime[710][:]\n",
        "data.coords\n",
        "temptime55\n",
        "temptime65= pd.concat([date, temptime55])\n",
        "temptime65"
      ],
      "metadata": {
        "id": "OkklKR7g8oPj"
      },
      "execution_count": null,
      "outputs": []
    },
    {
      "cell_type": "code",
      "source": [
        "temptime.describe()"
      ],
      "metadata": {
        "id": "fbAv8iKWumfv"
      },
      "execution_count": null,
      "outputs": []
    },
    {
      "cell_type": "code",
      "source": [
        "temptime[710][:3]"
      ],
      "metadata": {
        "id": "E_a1b5ONskj3"
      },
      "execution_count": null,
      "outputs": []
    },
    {
      "cell_type": "code",
      "source": [
        "temptime.hist"
      ],
      "metadata": {
        "id": "UmLyrVQMw5Jo"
      },
      "execution_count": null,
      "outputs": []
    },
    {
      "cell_type": "code",
      "source": [
        "temptime[719][2] #collumn, row"
      ],
      "metadata": {
        "id": "_vs4jhlCx7j2"
      },
      "execution_count": null,
      "outputs": []
    },
    {
      "cell_type": "code",
      "source": [
        "dfObj2 = pd.DataFrame.from_dict(tempData, orient='index')\n",
        "temptime3 = pd.DataFrame.from_records(tempa.values[:][:])"
      ],
      "metadata": {
        "id": "ZSrZjdC_y5xo"
      },
      "execution_count": null,
      "outputs": []
    },
    {
      "cell_type": "code",
      "source": [
        "import plotly as plt\n",
        "import seaborn as sns\n",
        "\n",
        "plt.colors(temptime[710])"
      ],
      "metadata": {
        "id": "HcB42REDAhkG"
      },
      "execution_count": null,
      "outputs": []
    },
    {
      "cell_type": "code",
      "source": [
        "temptime.any"
      ],
      "metadata": {
        "id": "_8yyNc4xDGLI"
      },
      "execution_count": null,
      "outputs": []
    },
    {
      "cell_type": "markdown",
      "source": [
        "\n",
        "\n",
        "---\n",
        "\n"
      ],
      "metadata": {
        "id": "_9_W_9FUEvpB"
      }
    },
    {
      "cell_type": "code",
      "source": [
        "import numpy as np \n",
        "import pandas as pd\n",
        "\n",
        "\n",
        "index= ['SST', 'Lat', 'Long', 'Index', '--']\n",
        "cols = ['Variables', 'Time', 'Max', 'Min']\n",
        "df42 = pd.DataFrame(temptime[:],  ['SST', 'Lat', 'Long', 'Index', '--'][:]  ,['Variables', 'Time', 'Max', 'Min'][:])\n",
        "temptimes.style.background_gradient(cmap='Blues')"
      ],
      "metadata": {
        "id": "5o_vU2D04a3H"
      },
      "execution_count": null,
      "outputs": []
    },
    {
      "cell_type": "code",
      "source": [
        "# WHAT IS THE DIFF HERE??? \n",
        "# GO BACK AND READ THIS BLOCK\n",
        "\n",
        "index= ['SST', 'Lat', 'Long', 'Index', '--']\n",
        "cols = ['Variables', 'Time', 'Max', 'Min']\n",
        "temptime2 = pd.DataFrame(abs(tempatime3[710][2], index = index, columns = cols)))\n",
        "temptime2.style.background_gradient(cmap='Blues')"
      ],
      "metadata": {
        "id": "eMlVPYwB6OK0"
      },
      "execution_count": null,
      "outputs": []
    },
    {
      "cell_type": "markdown",
      "source": [
        "## Renaming Columns in DataFrame\n",
        "\n",
        "\n",
        "---\n",
        "\n"
      ],
      "metadata": {
        "id": "tmTwbwjlEzZZ"
      }
    },
    {
      "cell_type": "code",
      "source": [
        "# RENAMING THE COLUMN\n",
        "date.columns = ['date']\n",
        "date"
      ],
      "metadata": {
        "id": "cmvw4u_g7h-j"
      },
      "execution_count": null,
      "outputs": []
    },
    {
      "cell_type": "markdown",
      "source": [
        "# Creating the Variables\n",
        "\n",
        "\n",
        "---\n",
        "\n",
        "\n",
        "\n",
        "---\n",
        "\n"
      ],
      "metadata": {
        "id": "R2gn5zaj_N3v"
      }
    },
    {
      "cell_type": "code",
      "source": [
        "lon = data.variables['lon']\n",
        "\n",
        "lat = data.variables['lat']\n",
        "\n",
        "time = data.variables['time']\n",
        "\n",
        "sst = data.variables['analysed_sst']"
      ],
      "metadata": {
        "id": "fh6hHedw3NL2"
      },
      "execution_count": null,
      "outputs": []
    },
    {
      "cell_type": "code",
      "source": [
        "timedata=data.variables['time'][:]#Reads the whole array"
      ],
      "metadata": {
        "id": "6DqxRr89AMdQ"
      },
      "execution_count": null,
      "outputs": []
    },
    {
      "cell_type": "code",
      "source": [
        "sstdata = data.variables['analysed_sst'][:]"
      ],
      "metadata": {
        "id": "MxdCwow2AcmB"
      },
      "execution_count": null,
      "outputs": []
    },
    {
      "cell_type": "code",
      "source": [
        "sstdata"
      ],
      "metadata": {
        "id": "iBSsOy9iAiyu"
      },
      "execution_count": null,
      "outputs": []
    },
    {
      "cell_type": "code",
      "source": [
        "timedata"
      ],
      "metadata": {
        "id": "CnIgFNqpASA1"
      },
      "execution_count": null,
      "outputs": []
    },
    {
      "cell_type": "code",
      "source": [
        "timedata2 = pd.DataFrame(data.variables.items())\n",
        "timedata3 = pd.DataFrame(data.variables.values())"
      ],
      "metadata": {
        "id": "uYwYDecET2Si"
      },
      "execution_count": null,
      "outputs": []
    },
    {
      "cell_type": "code",
      "source": [
        "data.variables.values()"
      ],
      "metadata": {
        "id": "dBzWR4GKUurB"
      },
      "execution_count": null,
      "outputs": []
    },
    {
      "cell_type": "code",
      "source": [
        "timedata3"
      ],
      "metadata": {
        "id": "4baazyIEUa-M"
      },
      "execution_count": null,
      "outputs": []
    },
    {
      "cell_type": "code",
      "source": [
        "timedata3.columns = ['timedata']\n",
        "timedata3"
      ],
      "metadata": {
        "id": "a6_Rf6iAWhau"
      },
      "execution_count": null,
      "outputs": []
    },
    {
      "cell_type": "code",
      "source": [
        ""
      ],
      "metadata": {
        "id": "Hq73lSxWdhEL"
      },
      "execution_count": null,
      "outputs": []
    },
    {
      "cell_type": "code",
      "source": [
        ""
      ],
      "metadata": {
        "id": "CyOoRYskW0UE"
      },
      "execution_count": null,
      "outputs": []
    },
    {
      "cell_type": "markdown",
      "source": [
        "# Creating a DataFrame 'DF' to CSV file\n",
        "\n",
        "\n",
        "---\n",
        "\n",
        "Setting Time/Temp Variables First "
      ],
      "metadata": {
        "id": "W69Dchg7XILj"
      }
    },
    {
      "cell_type": "code",
      "source": [
        "temp = data.variables['analysed_sst']"
      ],
      "metadata": {
        "id": "VOwqbdseY2IT"
      },
      "execution_count": null,
      "outputs": []
    },
    {
      "cell_type": "code",
      "source": [
        "print(temp[0,1,1])"
      ],
      "metadata": {
        "id": "QupNSi5oY98P"
      },
      "execution_count": null,
      "outputs": []
    },
    {
      "cell_type": "code",
      "source": [
        "temp"
      ],
      "metadata": {
        "id": "ojaVXdnpZKLO"
      },
      "execution_count": null,
      "outputs": []
    },
    {
      "cell_type": "markdown",
      "source": [
        "### Setting range of variables\n",
        "\n",
        "\n",
        "---\n",
        "\n"
      ],
      "metadata": {
        "id": "635nYN6eFRKD"
      }
    },
    {
      "cell_type": "code",
      "source": [
        "starting_date = data.variables['time'][0:1]"
      ],
      "metadata": {
        "id": "VUxeQ_gjXTkj"
      },
      "execution_count": null,
      "outputs": []
    },
    {
      "cell_type": "code",
      "source": [
        "starting_date"
      ],
      "metadata": {
        "id": "ueTmquK_Xwnj"
      },
      "execution_count": null,
      "outputs": []
    },
    {
      "cell_type": "code",
      "source": [
        "ending_date = data.variables ['time'][2:3] + -12-23"
      ],
      "metadata": {
        "id": "LIp-B32Jbc1X"
      },
      "execution_count": null,
      "outputs": []
    },
    {
      "cell_type": "code",
      "source": [
        "ending_date"
      ],
      "metadata": {
        "id": "BLZHn5rkblc3"
      },
      "execution_count": null,
      "outputs": []
    },
    {
      "cell_type": "markdown",
      "source": [
        "# Time Date Time series\n",
        "\n",
        "\n",
        "---\n",
        "\n",
        "\n",
        "\n",
        "---\n",
        "\n",
        "\n",
        "\n",
        "https://colab.research.google.com/github/jakevdp/PythonDataScienceHandbook/blob/master/notebooks/03.11-Working-with-Time-Series.ipynb"
      ],
      "metadata": {
        "id": "U3g8lssdl8r-"
      }
    },
    {
      "cell_type": "code",
      "source": [
        "from datetime import datetime\n",
        "datetime(year=2021, month=12, day=21)\n",
        "from dateutil import parser\n",
        "date = parser.parse(\"21st of December, 2021\")\n",
        "date"
      ],
      "metadata": {
        "id": "6tz4p5XKh3nQ"
      },
      "execution_count": null,
      "outputs": []
    },
    {
      "cell_type": "code",
      "source": [
        "date.strftime('%A')\n",
        "np.datetime64('2021-12-21')\n",
        "\n",
        "# Minutes \n",
        "np.datetime64('2021-12-21 12:00')"
      ],
      "metadata": {
        "id": "vXZaVA7YllYw"
      },
      "execution_count": null,
      "outputs": []
    },
    {
      "cell_type": "code",
      "source": [
        "date + pd.to_timedelta(np.arange(12), 'D')"
      ],
      "metadata": {
        "id": "sKjw-io1mPoM"
      },
      "execution_count": null,
      "outputs": []
    },
    {
      "cell_type": "markdown",
      "source": [
        "#Pandas Time Series: Indexing by Time\n",
        "\n",
        "\n",
        "---\n",
        "\n"
      ],
      "metadata": {
        "id": "tC3phPbom58P"
      }
    },
    {
      "cell_type": "code",
      "source": [
        "index = pd.DatetimeIndex(['2021-12-21', '2021-12-22', '2021-12-23', '2021-12-24',\n",
        "               '2021-12-25', '2021-12-26', '2021-12-27', '2021-12-28',\n",
        "               '2021-12-29', '2021-12-30', '2021-12-31', '2022-01-01'])\n",
        "date = pd.Series([0, 1, 2, 3, 4, 5, 6, 7, 8 , 9, 10, 11], index=index)\n",
        "date"
      ],
      "metadata": {
        "id": "hHJrIaOgnJwK"
      },
      "execution_count": null,
      "outputs": []
    },
    {
      "cell_type": "code",
      "source": [
        "index\n",
        "date"
      ],
      "metadata": {
        "id": "DnIbOqVCm5MA"
      },
      "execution_count": null,
      "outputs": []
    },
    {
      "cell_type": "markdown",
      "source": [
        "#3D Array into panda frame\n",
        "\n",
        "\n",
        "---\n",
        "\n"
      ],
      "metadata": {
        "id": "VMu5I_F279u8"
      }
    },
    {
      "cell_type": "code",
      "source": [
        "import pandas as pd\n",
        "import numpy as np\n",
        "A = np.arange(1, 9).reshape(2, 2, 2)\n",
        "lable_one = np.array(['lat', 'ion'])\n",
        "lable_two = np.array(['x', 'y'])\n",
        "cols = pd.MultiIndex.from_product([lable_one, lable_two])\n",
        "\n",
        "pd.DataFrame(A.T.reshape(2, -1), columns=cols)"
      ],
      "metadata": {
        "id": "6_GyMhw5BAic"
      },
      "execution_count": null,
      "outputs": []
    },
    {
      "cell_type": "code",
      "source": [
        "# Constructing Cartesian 4d array\n",
        "data.dims"
      ],
      "metadata": {
        "id": "xVq8WR73D-ao"
      },
      "execution_count": null,
      "outputs": []
    },
    {
      "cell_type": "code",
      "source": [
        "import pandas as pd\n",
        "import numpy as np\n",
        "\n",
        "\n",
        "tempa_two = pd.DataFrame(A.T.reshape(2, -1), columns=cols)\n",
        "temp_two = pd.DataFrame(analysizedsst[0:3:3][:])"
      ],
      "metadata": {
        "id": "0DN9fqZyECLG"
      },
      "execution_count": null,
      "outputs": []
    },
    {
      "cell_type": "code",
      "source": [
        "shape[:]"
      ],
      "metadata": {
        "id": "TTruSaYnF7G1"
      },
      "execution_count": null,
      "outputs": []
    },
    {
      "cell_type": "code",
      "source": [
        "tempa_two"
      ],
      "metadata": {
        "id": "MK74QQRs6L-6"
      },
      "execution_count": null,
      "outputs": []
    },
    {
      "cell_type": "code",
      "source": [
        "temp_two"
      ],
      "metadata": {
        "id": "0E3PsWR_3gL6"
      },
      "execution_count": null,
      "outputs": []
    },
    {
      "cell_type": "markdown",
      "source": [
        "# Renaming collumns & concating\n",
        "\n",
        "\n",
        "---\n",
        "\n",
        "\n",
        "\n",
        "\n",
        "\n"
      ],
      "metadata": {
        "id": "DWbvnjl7ZhUw"
      }
    },
    {
      "cell_type": "code",
      "source": [
        "df7 = pd.DataFrame(index, columns = ['Date'], index =date)\n",
        "df7"
      ],
      "metadata": {
        "id": "xLbK_fq5cc_3"
      },
      "execution_count": null,
      "outputs": []
    },
    {
      "cell_type": "code",
      "source": [
        "df8 = pd.DataFrame(coordinates, columns = ['Variables'], index = coordinates)\n",
        "df8"
      ],
      "metadata": {
        "id": "qDgW9a1lp883"
      },
      "execution_count": null,
      "outputs": []
    },
    {
      "cell_type": "code",
      "source": [
        "df9 = pd.DataFrame(sstdata.to_index_variable, columns = ['sst'], index = index)\n",
        "df9"
      ],
      "metadata": {
        "id": "-_1svZS9wdZM"
      },
      "execution_count": null,
      "outputs": []
    },
    {
      "cell_type": "code",
      "source": [
        "df91 = pd.DataFrame(data.analysed_sst.to_numpy, columns = ['sst'], index = index)\n",
        "df91 = pd.DataFrame(sst.to_index, columns = ['sst'], index = index)\n",
        "df91 = pd.DataFrame(sst.xarray)"
      ],
      "metadata": {
        "id": "WSOqQwjUzx38"
      },
      "execution_count": null,
      "outputs": []
    },
    {
      "cell_type": "markdown",
      "source": [
        "\n",
        "\n",
        "# Creating A Collumn with the coordinates inside a dataframe\n",
        "\n",
        "\n",
        "\n",
        "---\n",
        "\n",
        "\n"
      ],
      "metadata": {
        "id": "cFuwZEGtFotV"
      }
    },
    {
      "cell_type": "code",
      "source": [
        "coordinates = pd.DataFrame(data.coords)\n",
        "coordinates"
      ],
      "metadata": {
        "id": "fVGrS3xd_ipl"
      },
      "execution_count": null,
      "outputs": []
    },
    {
      "cell_type": "markdown",
      "source": [
        "#Rename \n",
        "\n",
        "\n",
        "---\n",
        "\n"
      ],
      "metadata": {
        "id": "Jbm0loOxBqu1"
      }
    },
    {
      "cell_type": "code",
      "source": [
        "coordinates.columns = ['coordinates']\n",
        "coordinates"
      ],
      "metadata": {
        "id": "LPwnvWaIBu_t"
      },
      "execution_count": null,
      "outputs": []
    },
    {
      "cell_type": "markdown",
      "source": [
        "# Concat to add collumns inside dataframe together\n",
        "\n",
        "\n",
        "---\n",
        "\n"
      ],
      "metadata": {
        "id": "n5uf_fNjFUsg"
      }
    },
    {
      "cell_type": "code",
      "source": [
        "pd.concat([variables, coordinates], axis=0)"
      ],
      "metadata": {
        "id": "T3nDlJfGGJCQ"
      },
      "execution_count": null,
      "outputs": []
    },
    {
      "cell_type": "markdown",
      "source": [
        "#Set this to a variable name for calling "
      ],
      "metadata": {
        "id": "hnQ3-nC5Gi7W"
      }
    },
    {
      "cell_type": "code",
      "source": [
        "saved_frame_one= pd.concat([variables, coordinates], axis=0)\n",
        "saved_frame_one"
      ],
      "metadata": {
        "id": "-dSPYKCqGiJA"
      },
      "execution_count": null,
      "outputs": []
    },
    {
      "cell_type": "markdown",
      "source": [
        "# How to convert dataframe to CSV\n",
        "\n",
        "---\n",
        "\n"
      ],
      "metadata": {
        "id": "L95pgNl9Jkrk"
      }
    },
    {
      "cell_type": "code",
      "source": [
        "saved_frame_one.to_csv('saved_frame_one.csv', index=False)\n"
      ],
      "metadata": {
        "id": "d3jvFUm1Hloe"
      },
      "execution_count": null,
      "outputs": []
    },
    {
      "cell_type": "markdown",
      "source": [
        "# How to convert to EXCEL sheet"
      ],
      "metadata": {
        "id": "MtH9kkWC0Kll"
      }
    },
    {
      "cell_type": "code",
      "source": [
        "saved_frame_one.to_excel('saved_frame_one.xlsx', index=False)\n"
      ],
      "metadata": {
        "id": "34ibzMRyztmU"
      },
      "execution_count": null,
      "outputs": []
    },
    {
      "cell_type": "markdown",
      "source": [
        "#Reading CSV back to dataframe"
      ],
      "metadata": {
        "id": "vBNDEABDzj0l"
      }
    },
    {
      "cell_type": "code",
      "source": [
        "dfthree = pd.read_csv ('saved_frame_one.csv')\n",
        "print(dfthree)"
      ],
      "metadata": {
        "id": "VkhuuoNAzaoG"
      },
      "execution_count": null,
      "outputs": []
    },
    {
      "cell_type": "markdown",
      "source": [
        "# Creating  A Collum with ' Time' inside a dataframe\n",
        "\n",
        "\n",
        "\n",
        "---\n",
        "\n"
      ],
      "metadata": {
        "id": "VYLy8shsNpwP"
      }
    },
    {
      "cell_type": "code",
      "source": [
        "imag = pd.DataFrame(data.imag)\n",
        "imag"
      ],
      "metadata": {
        "id": "bXkTvcRRNoix"
      },
      "execution_count": null,
      "outputs": []
    },
    {
      "cell_type": "code",
      "source": [
        "chunks = pd.DataFrame(data.chunks)\n",
        "chunks"
      ],
      "metadata": {
        "id": "GwRTO2byO8i7"
      },
      "execution_count": null,
      "outputs": []
    },
    {
      "cell_type": "code",
      "source": [
        "savedframe= pd.concat([encoding, saved_frame_one], axis=0)\n",
        "savedframe"
      ],
      "metadata": {
        "id": "tQJBh_ZjQCxX"
      },
      "execution_count": null,
      "outputs": []
    },
    {
      "cell_type": "code",
      "source": [
        "# Rename Collumns"
      ],
      "metadata": {
        "id": "uga9bOsrQyQC"
      },
      "execution_count": null,
      "outputs": []
    },
    {
      "cell_type": "code",
      "source": [
        "encoding.columns = ['DataVars']\n",
        "encoding"
      ],
      "metadata": {
        "id": "0RJMNmReQ2Bi"
      },
      "execution_count": null,
      "outputs": []
    },
    {
      "cell_type": "code",
      "source": [
        "savedframe= pd.concat([encoding, saved_frame_one], axis=0)\n",
        "savedframe"
      ],
      "metadata": {
        "id": "A4VbQRpzRCZy"
      },
      "execution_count": null,
      "outputs": []
    },
    {
      "cell_type": "markdown",
      "source": [
        "\n",
        "\n",
        "---\n",
        "\n",
        "\n",
        "## Reading from CSV\n",
        "\n",
        "\n",
        "---\n",
        "\n"
      ],
      "metadata": {
        "id": "sCfpnZchHJna"
      }
    },
    {
      "cell_type": "code",
      "source": [
        "df = pd.read_csv('/content/saved_frame_one.csv')"
      ],
      "metadata": {
        "id": "w-rGhI20kJy4"
      },
      "execution_count": null,
      "outputs": []
    },
    {
      "cell_type": "markdown",
      "source": [
        "# Array Units Set\n",
        "\n",
        "\n",
        "---\n",
        "\n"
      ],
      "metadata": {
        "id": "soq34N4RSHS3"
      }
    },
    {
      "cell_type": "code",
      "source": [
        "timedata = pd.DataFrame(data.coords)\n",
        "timedata\n",
        "data.coords['time']"
      ],
      "metadata": {
        "id": "UupZdVtlRNUM"
      },
      "execution_count": null,
      "outputs": []
    },
    {
      "cell_type": "markdown",
      "source": [
        "#Date Time Indexing \n",
        "\n",
        "\n",
        "---\n",
        "\n"
      ],
      "metadata": {
        "id": "YKn6NbZszQaY"
      }
    },
    {
      "cell_type": "code",
      "source": [
        "import matplotlib.pyplot as plt\n",
        "import seaborn as sns"
      ],
      "metadata": {
        "id": "u3KeRvxy1SAW"
      },
      "execution_count": null,
      "outputs": []
    },
    {
      "cell_type": "markdown",
      "source": [
        "# Ion Data Set\n",
        "\n",
        "\n",
        "---\n",
        "\n"
      ],
      "metadata": {
        "id": "SqTcxbmKSDYp"
      }
    },
    {
      "cell_type": "code",
      "source": [
        "Iongitude= pd.DataFrame(data.lon)"
      ],
      "metadata": {
        "id": "MpSmyQotRpX0"
      },
      "execution_count": null,
      "outputs": []
    },
    {
      "cell_type": "code",
      "source": [
        "Iongitude"
      ],
      "metadata": {
        "id": "ARaMoSlBR4t3"
      },
      "execution_count": null,
      "outputs": []
    },
    {
      "cell_type": "markdown",
      "source": [
        "# Latidude\n",
        "\n",
        "\n",
        "---\n",
        "\n"
      ],
      "metadata": {
        "id": "sCHiNKVkScmH"
      }
    },
    {
      "cell_type": "code",
      "source": [
        "Iatidude = pd.DataFrame(data.lat )"
      ],
      "metadata": {
        "id": "TDh4g7QdSetV"
      },
      "execution_count": null,
      "outputs": []
    },
    {
      "cell_type": "code",
      "source": [
        "Iatidude"
      ],
      "metadata": {
        "id": "ixeaUkHUSrKz"
      },
      "execution_count": null,
      "outputs": []
    },
    {
      "cell_type": "markdown",
      "source": [
        "# Testing Variable Names & Settings \n",
        "\n",
        "\n",
        "---\n",
        "\n"
      ],
      "metadata": {
        "id": "9DdA4oPvctES"
      }
    },
    {
      "cell_type": "code",
      "source": [
        "data.analysed_sst.coords"
      ],
      "metadata": {
        "id": "kDN_cr3_c0Y9"
      },
      "execution_count": null,
      "outputs": []
    },
    {
      "cell_type": "code",
      "source": [
        "analysizedsst = pd.DataFrame(data.analysed_sst.coords)\n",
        "analysizedsst"
      ],
      "metadata": {
        "id": "s3m9Eg3gd88y"
      },
      "execution_count": null,
      "outputs": []
    },
    {
      "cell_type": "markdown",
      "source": [
        "# Example of DataFrame Displays\n",
        "\n",
        "\n",
        "---\n",
        "\n"
      ],
      "metadata": {
        "id": "4kR9_RIJYNv_"
      }
    },
    {
      "cell_type": "code",
      "source": [
        "!pip install netcdftime"
      ],
      "metadata": {
        "id": "yyp2mJ9tu9tT"
      },
      "execution_count": null,
      "outputs": []
    },
    {
      "cell_type": "code",
      "source": [
        "data\n",
        "data.coords\n",
        "data.time.attrs"
      ],
      "metadata": {
        "id": "kPaL96gBnJbC"
      },
      "execution_count": null,
      "outputs": []
    },
    {
      "cell_type": "code",
      "source": [
        "import netCDF4 as nc\n",
        "import datetime\n",
        "import netcdftime\n",
        "\n",
        "fn = '/content/20220401120000-NCEI-L4_GHRSST-SSTblend-AVHRR_OI-GLOB-v02.0-fv02.1.nc'\n",
        "ds = nc.Dataset(fn)\n",
        "\n",
        "nctime=ds['time'][:]\n",
        "t_cal=ds['time'].calendar\n",
        "t_unit = ds.variables['time'].units\n",
        "datevar = []\n",
        "datevar.append(netcdftime.num2date(nctime,units = t_unit,calendar = t_cal))\n",
        "datevar"
      ],
      "metadata": {
        "id": "zg1g47L-uz_4"
      },
      "execution_count": null,
      "outputs": []
    },
    {
      "cell_type": "code",
      "source": [
        "from datetime import date\n",
        "import pandas as pd\n",
        "d = date.today()\n",
        "pd.Timestamp(d)"
      ],
      "metadata": {
        "id": "F3ORCEkpv9jv"
      },
      "execution_count": null,
      "outputs": []
    },
    {
      "cell_type": "markdown",
      "source": [
        "## adding  collumns together "
      ],
      "metadata": {
        "id": "ysk9ZH2W0rd6"
      }
    },
    {
      "cell_type": "code",
      "source": [
        "pd.concat([Iongitude, Iatidude], axis = 1)"
      ],
      "metadata": {
        "id": "nIQ1jWcKx94U"
      },
      "execution_count": null,
      "outputs": []
    },
    {
      "cell_type": "code",
      "source": [
        "Iatidude.columns = ['Iatidude']\n",
        "Iatidude"
      ],
      "metadata": {
        "id": "kaEklO1Y7HYU"
      },
      "execution_count": null,
      "outputs": []
    },
    {
      "cell_type": "code",
      "source": [
        "Iongitude.columns = ['Iongitude']\n",
        "Iongitude"
      ],
      "metadata": {
        "id": "_NURbGj56S9B"
      },
      "execution_count": null,
      "outputs": []
    },
    {
      "cell_type": "code",
      "source": [
        "latlong = pd.concat([Iongitude, Iatidude], axis = 1)"
      ],
      "metadata": {
        "id": "mddFGzcYyCOh"
      },
      "execution_count": null,
      "outputs": []
    },
    {
      "cell_type": "code",
      "source": [
        "latlong"
      ],
      "metadata": {
        "id": "0xOJ4e7Q5O9i"
      },
      "execution_count": null,
      "outputs": []
    },
    {
      "cell_type": "code",
      "source": [
        "savedframe"
      ],
      "metadata": {
        "id": "Rgsy6A5sZaKs"
      },
      "execution_count": null,
      "outputs": []
    },
    {
      "cell_type": "code",
      "source": [
        "latlongtwo = pd.concat([latlong, savedframe], axis = 0)"
      ],
      "metadata": {
        "id": "uflVUUQd1mku"
      },
      "execution_count": null,
      "outputs": []
    },
    {
      "cell_type": "code",
      "source": [
        "dfversion4 = pd.concat([ savedframe, latlong], axis = 0)"
      ],
      "metadata": {
        "id": "CeAlJHc_Ze4d"
      },
      "execution_count": null,
      "outputs": []
    },
    {
      "cell_type": "code",
      "source": [
        "dfversion4"
      ],
      "metadata": {
        "id": "Tkl3xf5mZm7_"
      },
      "execution_count": null,
      "outputs": []
    },
    {
      "cell_type": "code",
      "source": [
        "latlongtwo"
      ],
      "metadata": {
        "id": "23stY462-bIJ"
      },
      "execution_count": null,
      "outputs": []
    },
    {
      "cell_type": "code",
      "source": [
        "latlongtwo"
      ],
      "metadata": {
        "id": "2pJHDVDe_4bp"
      },
      "execution_count": null,
      "outputs": []
    },
    {
      "cell_type": "code",
      "source": [
        "print(data.analysed_sst.units)"
      ],
      "metadata": {
        "id": "7cIjg2rt_45z"
      },
      "execution_count": null,
      "outputs": []
    },
    {
      "cell_type": "code",
      "source": [
        ""
      ],
      "metadata": {
        "id": "8CkZwlk69ss4"
      },
      "execution_count": null,
      "outputs": []
    },
    {
      "cell_type": "markdown",
      "source": [
        "# Covering to excel sheet\n"
      ],
      "metadata": {
        "id": "usiWCsRsA_Dm"
      }
    },
    {
      "cell_type": "code",
      "source": [
        "dfversion4.to_excel('dfversion4.xlsx', index=False)\n"
      ],
      "metadata": {
        "id": "wvNV6X-w9szp"
      },
      "execution_count": null,
      "outputs": []
    },
    {
      "cell_type": "code",
      "source": [
        "dfversion4.to_csv('dfversion4.csv', index=False)"
      ],
      "metadata": {
        "id": "eFps3ku69s3u"
      },
      "execution_count": null,
      "outputs": []
    },
    {
      "cell_type": "code",
      "source": [
        "from google.colab import data_table\n",
        "data_table.DataTable(analysizedsst)"
      ],
      "metadata": {
        "id": "fh2Lc3YSDvec"
      },
      "execution_count": null,
      "outputs": []
    },
    {
      "cell_type": "code",
      "source": [
        "df3.columns"
      ],
      "metadata": {
        "id": "5Ie1wpX09tpJ"
      },
      "execution_count": null,
      "outputs": []
    },
    {
      "cell_type": "markdown",
      "source": [
        ""
      ],
      "metadata": {
        "id": "let9Hh4ARMQH"
      }
    },
    {
      "cell_type": "code",
      "source": [
        "df3.Iongitude.unique()"
      ],
      "metadata": {
        "id": "CDHrTXdlQwCb"
      },
      "execution_count": null,
      "outputs": []
    },
    {
      "cell_type": "code",
      "source": [
        "df3_Iongitude = df3[df3['Iongitude']== '-179.875']"
      ],
      "metadata": {
        "id": "g4k6lO_VQwmZ"
      },
      "execution_count": null,
      "outputs": []
    },
    {
      "cell_type": "code",
      "source": [
        "df3_Iongitude"
      ],
      "metadata": {
        "id": "CoOEIRO-QwuM"
      },
      "execution_count": null,
      "outputs": []
    },
    {
      "cell_type": "code",
      "source": [
        "data"
      ],
      "metadata": {
        "id": "KvDqIfH3Qw2-"
      },
      "execution_count": null,
      "outputs": []
    }
  ]
}