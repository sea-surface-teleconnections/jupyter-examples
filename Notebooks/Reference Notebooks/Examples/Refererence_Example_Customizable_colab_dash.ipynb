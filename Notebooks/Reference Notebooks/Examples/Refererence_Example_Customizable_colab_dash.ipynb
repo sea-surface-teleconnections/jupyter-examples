{
  "nbformat": 4,
  "nbformat_minor": 0,
  "metadata": {
    "colab": {
      "name": "Refererence Example: Customizable_colab_dash.ipynb",
      "provenance": [],
      "collapsed_sections": [],
      "machine_shape": "hm",
      "include_colab_link": true
    },
    "kernelspec": {
      "name": "python3",
      "display_name": "Python 3"
    },
    "gpuClass": "standard"
  },
  "cells": [
    {
      "cell_type": "markdown",
      "metadata": {
        "id": "view-in-github",
        "colab_type": "text"
      },
      "source": [
        "<a href=\"https://colab.research.google.com/github/sea-surface-teleconnections/sea-surface-teleconnections/blob/main/Refererence_Example_Customizable_colab_dash.ipynb\" target=\"_parent\"><img src=\"https://colab.research.google.com/assets/colab-badge.svg\" alt=\"Open In Colab\"/></a>"
      ]
    },
    {
      "metadata": {
        "id": "Cx62f5K4iM9p"
      },
      "cell_type": "markdown",
      "source": [
        "# Importing Modules\n"
      ]
    },
    {
      "cell_type": "markdown",
      "source": [
        "\n",
        "\n",
        "\n",
        "> Basic Modules Needed\n",
        "\n"
      ],
      "metadata": {
        "id": "kndPFDRtmqjT"
      }
    },
    {
      "cell_type": "code",
      "source": [
        "pip install -q dash==1.19.0"
      ],
      "metadata": {
        "id": "7SpWwfOiqneB"
      },
      "execution_count": null,
      "outputs": []
    },
    {
      "cell_type": "code",
      "source": [
        "pip install -q dash-cytoscape\n"
      ],
      "metadata": {
        "id": "ms78Uw44Esjo",
        "colab": {
          "base_uri": "https://localhost:8080/"
        },
        "outputId": "1c46cc3f-07c9-42f9-84f7-951bf73976a7"
      },
      "execution_count": null,
      "outputs": [
        {
          "output_type": "stream",
          "name": "stdout",
          "text": [
            "\u001b[?25l\r\u001b[K     |                                | 10 kB 20.4 MB/s eta 0:00:01\r\u001b[K     |▏                               | 20 kB 26.0 MB/s eta 0:00:01\r\u001b[K     |▎                               | 30 kB 32.2 MB/s eta 0:00:01\r\u001b[K     |▍                               | 40 kB 17.8 MB/s eta 0:00:01\r\u001b[K     |▌                               | 51 kB 13.9 MB/s eta 0:00:01\r\u001b[K     |▌                               | 61 kB 16.0 MB/s eta 0:00:01\r\u001b[K     |▋                               | 71 kB 13.3 MB/s eta 0:00:01\r\u001b[K     |▊                               | 81 kB 14.4 MB/s eta 0:00:01\r\u001b[K     |▉                               | 92 kB 15.9 MB/s eta 0:00:01\r\u001b[K     |█                               | 102 kB 13.6 MB/s eta 0:00:01\r\u001b[K     |█                               | 112 kB 13.6 MB/s eta 0:00:01\r\u001b[K     |█                               | 122 kB 13.6 MB/s eta 0:00:01\r\u001b[K     |█▏                              | 133 kB 13.6 MB/s eta 0:00:01\r\u001b[K     |█▎                              | 143 kB 13.6 MB/s eta 0:00:01\r\u001b[K     |█▍                              | 153 kB 13.6 MB/s eta 0:00:01\r\u001b[K     |█▌                              | 163 kB 13.6 MB/s eta 0:00:01\r\u001b[K     |█▌                              | 174 kB 13.6 MB/s eta 0:00:01\r\u001b[K     |█▋                              | 184 kB 13.6 MB/s eta 0:00:01\r\u001b[K     |█▊                              | 194 kB 13.6 MB/s eta 0:00:01\r\u001b[K     |█▉                              | 204 kB 13.6 MB/s eta 0:00:01\r\u001b[K     |██                              | 215 kB 13.6 MB/s eta 0:00:01\r\u001b[K     |██                              | 225 kB 13.6 MB/s eta 0:00:01\r\u001b[K     |██                              | 235 kB 13.6 MB/s eta 0:00:01\r\u001b[K     |██▏                             | 245 kB 13.6 MB/s eta 0:00:01\r\u001b[K     |██▎                             | 256 kB 13.6 MB/s eta 0:00:01\r\u001b[K     |██▍                             | 266 kB 13.6 MB/s eta 0:00:01\r\u001b[K     |██▌                             | 276 kB 13.6 MB/s eta 0:00:01\r\u001b[K     |██▌                             | 286 kB 13.6 MB/s eta 0:00:01\r\u001b[K     |██▋                             | 296 kB 13.6 MB/s eta 0:00:01\r\u001b[K     |██▊                             | 307 kB 13.6 MB/s eta 0:00:01\r\u001b[K     |██▉                             | 317 kB 13.6 MB/s eta 0:00:01\r\u001b[K     |███                             | 327 kB 13.6 MB/s eta 0:00:01\r\u001b[K     |███                             | 337 kB 13.6 MB/s eta 0:00:01\r\u001b[K     |███                             | 348 kB 13.6 MB/s eta 0:00:01\r\u001b[K     |███▏                            | 358 kB 13.6 MB/s eta 0:00:01\r\u001b[K     |███▎                            | 368 kB 13.6 MB/s eta 0:00:01\r\u001b[K     |███▍                            | 378 kB 13.6 MB/s eta 0:00:01\r\u001b[K     |███▌                            | 389 kB 13.6 MB/s eta 0:00:01\r\u001b[K     |███▌                            | 399 kB 13.6 MB/s eta 0:00:01\r\u001b[K     |███▋                            | 409 kB 13.6 MB/s eta 0:00:01\r\u001b[K     |███▊                            | 419 kB 13.6 MB/s eta 0:00:01\r\u001b[K     |███▉                            | 430 kB 13.6 MB/s eta 0:00:01\r\u001b[K     |████                            | 440 kB 13.6 MB/s eta 0:00:01\r\u001b[K     |████                            | 450 kB 13.6 MB/s eta 0:00:01\r\u001b[K     |████                            | 460 kB 13.6 MB/s eta 0:00:01\r\u001b[K     |████▏                           | 471 kB 13.6 MB/s eta 0:00:01\r\u001b[K     |████▎                           | 481 kB 13.6 MB/s eta 0:00:01\r\u001b[K     |████▍                           | 491 kB 13.6 MB/s eta 0:00:01\r\u001b[K     |████▍                           | 501 kB 13.6 MB/s eta 0:00:01\r\u001b[K     |████▌                           | 512 kB 13.6 MB/s eta 0:00:01\r\u001b[K     |████▋                           | 522 kB 13.6 MB/s eta 0:00:01\r\u001b[K     |████▊                           | 532 kB 13.6 MB/s eta 0:00:01\r\u001b[K     |████▉                           | 542 kB 13.6 MB/s eta 0:00:01\r\u001b[K     |█████                           | 552 kB 13.6 MB/s eta 0:00:01\r\u001b[K     |█████                           | 563 kB 13.6 MB/s eta 0:00:01\r\u001b[K     |█████                           | 573 kB 13.6 MB/s eta 0:00:01\r\u001b[K     |█████▏                          | 583 kB 13.6 MB/s eta 0:00:01\r\u001b[K     |█████▎                          | 593 kB 13.6 MB/s eta 0:00:01\r\u001b[K     |█████▍                          | 604 kB 13.6 MB/s eta 0:00:01\r\u001b[K     |█████▍                          | 614 kB 13.6 MB/s eta 0:00:01\r\u001b[K     |█████▌                          | 624 kB 13.6 MB/s eta 0:00:01\r\u001b[K     |█████▋                          | 634 kB 13.6 MB/s eta 0:00:01\r\u001b[K     |█████▊                          | 645 kB 13.6 MB/s eta 0:00:01\r\u001b[K     |█████▉                          | 655 kB 13.6 MB/s eta 0:00:01\r\u001b[K     |██████                          | 665 kB 13.6 MB/s eta 0:00:01\r\u001b[K     |██████                          | 675 kB 13.6 MB/s eta 0:00:01\r\u001b[K     |██████                          | 686 kB 13.6 MB/s eta 0:00:01\r\u001b[K     |██████▏                         | 696 kB 13.6 MB/s eta 0:00:01\r\u001b[K     |██████▎                         | 706 kB 13.6 MB/s eta 0:00:01\r\u001b[K     |██████▍                         | 716 kB 13.6 MB/s eta 0:00:01\r\u001b[K     |██████▍                         | 727 kB 13.6 MB/s eta 0:00:01\r\u001b[K     |██████▌                         | 737 kB 13.6 MB/s eta 0:00:01\r\u001b[K     |██████▋                         | 747 kB 13.6 MB/s eta 0:00:01\r\u001b[K     |██████▊                         | 757 kB 13.6 MB/s eta 0:00:01\r\u001b[K     |██████▉                         | 768 kB 13.6 MB/s eta 0:00:01\r\u001b[K     |███████                         | 778 kB 13.6 MB/s eta 0:00:01\r\u001b[K     |███████                         | 788 kB 13.6 MB/s eta 0:00:01\r\u001b[K     |███████                         | 798 kB 13.6 MB/s eta 0:00:01\r\u001b[K     |███████▏                        | 808 kB 13.6 MB/s eta 0:00:01\r\u001b[K     |███████▎                        | 819 kB 13.6 MB/s eta 0:00:01\r\u001b[K     |███████▍                        | 829 kB 13.6 MB/s eta 0:00:01\r\u001b[K     |███████▍                        | 839 kB 13.6 MB/s eta 0:00:01\r\u001b[K     |███████▌                        | 849 kB 13.6 MB/s eta 0:00:01\r\u001b[K     |███████▋                        | 860 kB 13.6 MB/s eta 0:00:01\r\u001b[K     |███████▊                        | 870 kB 13.6 MB/s eta 0:00:01\r\u001b[K     |███████▉                        | 880 kB 13.6 MB/s eta 0:00:01\r\u001b[K     |███████▉                        | 890 kB 13.6 MB/s eta 0:00:01\r\u001b[K     |████████                        | 901 kB 13.6 MB/s eta 0:00:01\r\u001b[K     |████████                        | 911 kB 13.6 MB/s eta 0:00:01\r\u001b[K     |████████▏                       | 921 kB 13.6 MB/s eta 0:00:01\r\u001b[K     |████████▎                       | 931 kB 13.6 MB/s eta 0:00:01\r\u001b[K     |████████▍                       | 942 kB 13.6 MB/s eta 0:00:01\r\u001b[K     |████████▍                       | 952 kB 13.6 MB/s eta 0:00:01\r\u001b[K     |████████▌                       | 962 kB 13.6 MB/s eta 0:00:01\r\u001b[K     |████████▋                       | 972 kB 13.6 MB/s eta 0:00:01\r\u001b[K     |████████▊                       | 983 kB 13.6 MB/s eta 0:00:01\r\u001b[K     |████████▉                       | 993 kB 13.6 MB/s eta 0:00:01\r\u001b[K     |████████▉                       | 1.0 MB 13.6 MB/s eta 0:00:01\r\u001b[K     |█████████                       | 1.0 MB 13.6 MB/s eta 0:00:01\r\u001b[K     |█████████                       | 1.0 MB 13.6 MB/s eta 0:00:01\r\u001b[K     |█████████▏                      | 1.0 MB 13.6 MB/s eta 0:00:01\r\u001b[K     |█████████▎                      | 1.0 MB 13.6 MB/s eta 0:00:01\r\u001b[K     |█████████▍                      | 1.1 MB 13.6 MB/s eta 0:00:01\r\u001b[K     |█████████▍                      | 1.1 MB 13.6 MB/s eta 0:00:01\r\u001b[K     |█████████▌                      | 1.1 MB 13.6 MB/s eta 0:00:01\r\u001b[K     |█████████▋                      | 1.1 MB 13.6 MB/s eta 0:00:01\r\u001b[K     |█████████▊                      | 1.1 MB 13.6 MB/s eta 0:00:01\r\u001b[K     |█████████▉                      | 1.1 MB 13.6 MB/s eta 0:00:01\r\u001b[K     |█████████▉                      | 1.1 MB 13.6 MB/s eta 0:00:01\r\u001b[K     |██████████                      | 1.1 MB 13.6 MB/s eta 0:00:01\r\u001b[K     |██████████                      | 1.1 MB 13.6 MB/s eta 0:00:01\r\u001b[K     |██████████▏                     | 1.1 MB 13.6 MB/s eta 0:00:01\r\u001b[K     |██████████▎                     | 1.2 MB 13.6 MB/s eta 0:00:01\r\u001b[K     |██████████▍                     | 1.2 MB 13.6 MB/s eta 0:00:01\r\u001b[K     |██████████▍                     | 1.2 MB 13.6 MB/s eta 0:00:01\r\u001b[K     |██████████▌                     | 1.2 MB 13.6 MB/s eta 0:00:01\r\u001b[K     |██████████▋                     | 1.2 MB 13.6 MB/s eta 0:00:01\r\u001b[K     |██████████▊                     | 1.2 MB 13.6 MB/s eta 0:00:01\r\u001b[K     |██████████▉                     | 1.2 MB 13.6 MB/s eta 0:00:01\r\u001b[K     |██████████▉                     | 1.2 MB 13.6 MB/s eta 0:00:01\r\u001b[K     |███████████                     | 1.2 MB 13.6 MB/s eta 0:00:01\r\u001b[K     |███████████                     | 1.2 MB 13.6 MB/s eta 0:00:01\r\u001b[K     |███████████▏                    | 1.3 MB 13.6 MB/s eta 0:00:01\r\u001b[K     |███████████▎                    | 1.3 MB 13.6 MB/s eta 0:00:01\r\u001b[K     |███████████▎                    | 1.3 MB 13.6 MB/s eta 0:00:01\r\u001b[K     |███████████▍                    | 1.3 MB 13.6 MB/s eta 0:00:01\r\u001b[K     |███████████▌                    | 1.3 MB 13.6 MB/s eta 0:00:01\r\u001b[K     |███████████▋                    | 1.3 MB 13.6 MB/s eta 0:00:01\r\u001b[K     |███████████▊                    | 1.3 MB 13.6 MB/s eta 0:00:01\r\u001b[K     |███████████▉                    | 1.3 MB 13.6 MB/s eta 0:00:01\r\u001b[K     |███████████▉                    | 1.3 MB 13.6 MB/s eta 0:00:01\r\u001b[K     |████████████                    | 1.4 MB 13.6 MB/s eta 0:00:01\r\u001b[K     |████████████                    | 1.4 MB 13.6 MB/s eta 0:00:01\r\u001b[K     |████████████▏                   | 1.4 MB 13.6 MB/s eta 0:00:01\r\u001b[K     |████████████▎                   | 1.4 MB 13.6 MB/s eta 0:00:01\r\u001b[K     |████████████▎                   | 1.4 MB 13.6 MB/s eta 0:00:01\r\u001b[K     |████████████▍                   | 1.4 MB 13.6 MB/s eta 0:00:01\r\u001b[K     |████████████▌                   | 1.4 MB 13.6 MB/s eta 0:00:01\r\u001b[K     |████████████▋                   | 1.4 MB 13.6 MB/s eta 0:00:01\r\u001b[K     |████████████▊                   | 1.4 MB 13.6 MB/s eta 0:00:01\r\u001b[K     |████████████▉                   | 1.4 MB 13.6 MB/s eta 0:00:01\r\u001b[K     |████████████▉                   | 1.5 MB 13.6 MB/s eta 0:00:01\r\u001b[K     |█████████████                   | 1.5 MB 13.6 MB/s eta 0:00:01\r\u001b[K     |█████████████                   | 1.5 MB 13.6 MB/s eta 0:00:01\r\u001b[K     |█████████████▏                  | 1.5 MB 13.6 MB/s eta 0:00:01\r\u001b[K     |█████████████▎                  | 1.5 MB 13.6 MB/s eta 0:00:01\r\u001b[K     |█████████████▎                  | 1.5 MB 13.6 MB/s eta 0:00:01\r\u001b[K     |█████████████▍                  | 1.5 MB 13.6 MB/s eta 0:00:01\r\u001b[K     |█████████████▌                  | 1.5 MB 13.6 MB/s eta 0:00:01\r\u001b[K     |█████████████▋                  | 1.5 MB 13.6 MB/s eta 0:00:01\r\u001b[K     |█████████████▊                  | 1.5 MB 13.6 MB/s eta 0:00:01\r\u001b[K     |█████████████▉                  | 1.6 MB 13.6 MB/s eta 0:00:01\r\u001b[K     |█████████████▉                  | 1.6 MB 13.6 MB/s eta 0:00:01\r\u001b[K     |██████████████                  | 1.6 MB 13.6 MB/s eta 0:00:01\r\u001b[K     |██████████████                  | 1.6 MB 13.6 MB/s eta 0:00:01\r\u001b[K     |██████████████▏                 | 1.6 MB 13.6 MB/s eta 0:00:01\r\u001b[K     |██████████████▎                 | 1.6 MB 13.6 MB/s eta 0:00:01\r\u001b[K     |██████████████▎                 | 1.6 MB 13.6 MB/s eta 0:00:01\r\u001b[K     |██████████████▍                 | 1.6 MB 13.6 MB/s eta 0:00:01\r\u001b[K     |██████████████▌                 | 1.6 MB 13.6 MB/s eta 0:00:01\r\u001b[K     |██████████████▋                 | 1.6 MB 13.6 MB/s eta 0:00:01\r\u001b[K     |██████████████▊                 | 1.7 MB 13.6 MB/s eta 0:00:01\r\u001b[K     |██████████████▊                 | 1.7 MB 13.6 MB/s eta 0:00:01\r\u001b[K     |██████████████▉                 | 1.7 MB 13.6 MB/s eta 0:00:01\r\u001b[K     |███████████████                 | 1.7 MB 13.6 MB/s eta 0:00:01\r\u001b[K     |███████████████                 | 1.7 MB 13.6 MB/s eta 0:00:01\r\u001b[K     |███████████████▏                | 1.7 MB 13.6 MB/s eta 0:00:01\r\u001b[K     |███████████████▎                | 1.7 MB 13.6 MB/s eta 0:00:01\r\u001b[K     |███████████████▎                | 1.7 MB 13.6 MB/s eta 0:00:01\r\u001b[K     |███████████████▍                | 1.7 MB 13.6 MB/s eta 0:00:01\r\u001b[K     |███████████████▌                | 1.8 MB 13.6 MB/s eta 0:00:01\r\u001b[K     |███████████████▋                | 1.8 MB 13.6 MB/s eta 0:00:01\r\u001b[K     |███████████████▊                | 1.8 MB 13.6 MB/s eta 0:00:01\r\u001b[K     |███████████████▊                | 1.8 MB 13.6 MB/s eta 0:00:01\r\u001b[K     |███████████████▉                | 1.8 MB 13.6 MB/s eta 0:00:01\r\u001b[K     |████████████████                | 1.8 MB 13.6 MB/s eta 0:00:01\r\u001b[K     |████████████████                | 1.8 MB 13.6 MB/s eta 0:00:01\r\u001b[K     |████████████████▏               | 1.8 MB 13.6 MB/s eta 0:00:01\r\u001b[K     |████████████████▎               | 1.8 MB 13.6 MB/s eta 0:00:01\r\u001b[K     |████████████████▎               | 1.8 MB 13.6 MB/s eta 0:00:01\r\u001b[K     |████████████████▍               | 1.9 MB 13.6 MB/s eta 0:00:01\r\u001b[K     |████████████████▌               | 1.9 MB 13.6 MB/s eta 0:00:01\r\u001b[K     |████████████████▋               | 1.9 MB 13.6 MB/s eta 0:00:01\r\u001b[K     |████████████████▊               | 1.9 MB 13.6 MB/s eta 0:00:01\r\u001b[K     |████████████████▊               | 1.9 MB 13.6 MB/s eta 0:00:01\r\u001b[K     |████████████████▉               | 1.9 MB 13.6 MB/s eta 0:00:01\r\u001b[K     |█████████████████               | 1.9 MB 13.6 MB/s eta 0:00:01\r\u001b[K     |█████████████████               | 1.9 MB 13.6 MB/s eta 0:00:01\r\u001b[K     |█████████████████▏              | 1.9 MB 13.6 MB/s eta 0:00:01\r\u001b[K     |█████████████████▎              | 1.9 MB 13.6 MB/s eta 0:00:01\r\u001b[K     |█████████████████▎              | 2.0 MB 13.6 MB/s eta 0:00:01\r\u001b[K     |█████████████████▍              | 2.0 MB 13.6 MB/s eta 0:00:01\r\u001b[K     |█████████████████▌              | 2.0 MB 13.6 MB/s eta 0:00:01\r\u001b[K     |█████████████████▋              | 2.0 MB 13.6 MB/s eta 0:00:01\r\u001b[K     |█████████████████▊              | 2.0 MB 13.6 MB/s eta 0:00:01\r\u001b[K     |█████████████████▊              | 2.0 MB 13.6 MB/s eta 0:00:01\r\u001b[K     |█████████████████▉              | 2.0 MB 13.6 MB/s eta 0:00:01\r\u001b[K     |██████████████████              | 2.0 MB 13.6 MB/s eta 0:00:01\r\u001b[K     |██████████████████              | 2.0 MB 13.6 MB/s eta 0:00:01\r\u001b[K     |██████████████████▏             | 2.0 MB 13.6 MB/s eta 0:00:01\r\u001b[K     |██████████████████▏             | 2.1 MB 13.6 MB/s eta 0:00:01\r\u001b[K     |██████████████████▎             | 2.1 MB 13.6 MB/s eta 0:00:01\r\u001b[K     |██████████████████▍             | 2.1 MB 13.6 MB/s eta 0:00:01\r\u001b[K     |██████████████████▌             | 2.1 MB 13.6 MB/s eta 0:00:01\r\u001b[K     |██████████████████▋             | 2.1 MB 13.6 MB/s eta 0:00:01\r\u001b[K     |██████████████████▊             | 2.1 MB 13.6 MB/s eta 0:00:01\r\u001b[K     |██████████████████▊             | 2.1 MB 13.6 MB/s eta 0:00:01\r\u001b[K     |██████████████████▉             | 2.1 MB 13.6 MB/s eta 0:00:01\r\u001b[K     |███████████████████             | 2.1 MB 13.6 MB/s eta 0:00:01\r\u001b[K     |███████████████████             | 2.2 MB 13.6 MB/s eta 0:00:01\r\u001b[K     |███████████████████▏            | 2.2 MB 13.6 MB/s eta 0:00:01\r\u001b[K     |███████████████████▏            | 2.2 MB 13.6 MB/s eta 0:00:01\r\u001b[K     |███████████████████▎            | 2.2 MB 13.6 MB/s eta 0:00:01\r\u001b[K     |███████████████████▍            | 2.2 MB 13.6 MB/s eta 0:00:01\r\u001b[K     |███████████████████▌            | 2.2 MB 13.6 MB/s eta 0:00:01\r\u001b[K     |███████████████████▋            | 2.2 MB 13.6 MB/s eta 0:00:01\r\u001b[K     |███████████████████▊            | 2.2 MB 13.6 MB/s eta 0:00:01\r\u001b[K     |███████████████████▊            | 2.2 MB 13.6 MB/s eta 0:00:01\r\u001b[K     |███████████████████▉            | 2.2 MB 13.6 MB/s eta 0:00:01\r\u001b[K     |████████████████████            | 2.3 MB 13.6 MB/s eta 0:00:01\r\u001b[K     |████████████████████            | 2.3 MB 13.6 MB/s eta 0:00:01\r\u001b[K     |████████████████████▏           | 2.3 MB 13.6 MB/s eta 0:00:01\r\u001b[K     |████████████████████▏           | 2.3 MB 13.6 MB/s eta 0:00:01\r\u001b[K     |████████████████████▎           | 2.3 MB 13.6 MB/s eta 0:00:01\r\u001b[K     |████████████████████▍           | 2.3 MB 13.6 MB/s eta 0:00:01\r\u001b[K     |████████████████████▌           | 2.3 MB 13.6 MB/s eta 0:00:01\r\u001b[K     |████████████████████▋           | 2.3 MB 13.6 MB/s eta 0:00:01\r\u001b[K     |████████████████████▊           | 2.3 MB 13.6 MB/s eta 0:00:01\r\u001b[K     |████████████████████▊           | 2.3 MB 13.6 MB/s eta 0:00:01\r\u001b[K     |████████████████████▉           | 2.4 MB 13.6 MB/s eta 0:00:01\r\u001b[K     |█████████████████████           | 2.4 MB 13.6 MB/s eta 0:00:01\r\u001b[K     |█████████████████████           | 2.4 MB 13.6 MB/s eta 0:00:01\r\u001b[K     |█████████████████████▏          | 2.4 MB 13.6 MB/s eta 0:00:01\r\u001b[K     |█████████████████████▏          | 2.4 MB 13.6 MB/s eta 0:00:01\r\u001b[K     |█████████████████████▎          | 2.4 MB 13.6 MB/s eta 0:00:01\r\u001b[K     |█████████████████████▍          | 2.4 MB 13.6 MB/s eta 0:00:01\r\u001b[K     |█████████████████████▌          | 2.4 MB 13.6 MB/s eta 0:00:01\r\u001b[K     |█████████████████████▋          | 2.4 MB 13.6 MB/s eta 0:00:01\r\u001b[K     |█████████████████████▋          | 2.4 MB 13.6 MB/s eta 0:00:01\r\u001b[K     |█████████████████████▊          | 2.5 MB 13.6 MB/s eta 0:00:01\r\u001b[K     |█████████████████████▉          | 2.5 MB 13.6 MB/s eta 0:00:01\r\u001b[K     |██████████████████████          | 2.5 MB 13.6 MB/s eta 0:00:01\r\u001b[K     |██████████████████████          | 2.5 MB 13.6 MB/s eta 0:00:01\r\u001b[K     |██████████████████████▏         | 2.5 MB 13.6 MB/s eta 0:00:01\r\u001b[K     |██████████████████████▏         | 2.5 MB 13.6 MB/s eta 0:00:01\r\u001b[K     |██████████████████████▎         | 2.5 MB 13.6 MB/s eta 0:00:01\r\u001b[K     |██████████████████████▍         | 2.5 MB 13.6 MB/s eta 0:00:01\r\u001b[K     |██████████████████████▌         | 2.5 MB 13.6 MB/s eta 0:00:01\r\u001b[K     |██████████████████████▋         | 2.5 MB 13.6 MB/s eta 0:00:01\r\u001b[K     |██████████████████████▋         | 2.6 MB 13.6 MB/s eta 0:00:01\r\u001b[K     |██████████████████████▊         | 2.6 MB 13.6 MB/s eta 0:00:01\r\u001b[K     |██████████████████████▉         | 2.6 MB 13.6 MB/s eta 0:00:01\r\u001b[K     |███████████████████████         | 2.6 MB 13.6 MB/s eta 0:00:01\r\u001b[K     |███████████████████████         | 2.6 MB 13.6 MB/s eta 0:00:01\r\u001b[K     |███████████████████████▏        | 2.6 MB 13.6 MB/s eta 0:00:01\r\u001b[K     |███████████████████████▏        | 2.6 MB 13.6 MB/s eta 0:00:01\r\u001b[K     |███████████████████████▎        | 2.6 MB 13.6 MB/s eta 0:00:01\r\u001b[K     |███████████████████████▍        | 2.6 MB 13.6 MB/s eta 0:00:01\r\u001b[K     |███████████████████████▌        | 2.7 MB 13.6 MB/s eta 0:00:01\r\u001b[K     |███████████████████████▋        | 2.7 MB 13.6 MB/s eta 0:00:01\r\u001b[K     |███████████████████████▋        | 2.7 MB 13.6 MB/s eta 0:00:01\r\u001b[K     |███████████████████████▊        | 2.7 MB 13.6 MB/s eta 0:00:01\r\u001b[K     |███████████████████████▉        | 2.7 MB 13.6 MB/s eta 0:00:01\r\u001b[K     |████████████████████████        | 2.7 MB 13.6 MB/s eta 0:00:01\r\u001b[K     |████████████████████████        | 2.7 MB 13.6 MB/s eta 0:00:01\r\u001b[K     |████████████████████████▏       | 2.7 MB 13.6 MB/s eta 0:00:01\r\u001b[K     |████████████████████████▏       | 2.7 MB 13.6 MB/s eta 0:00:01\r\u001b[K     |████████████████████████▎       | 2.7 MB 13.6 MB/s eta 0:00:01\r\u001b[K     |████████████████████████▍       | 2.8 MB 13.6 MB/s eta 0:00:01\r\u001b[K     |████████████████████████▌       | 2.8 MB 13.6 MB/s eta 0:00:01\r\u001b[K     |████████████████████████▋       | 2.8 MB 13.6 MB/s eta 0:00:01\r\u001b[K     |████████████████████████▋       | 2.8 MB 13.6 MB/s eta 0:00:01\r\u001b[K     |████████████████████████▊       | 2.8 MB 13.6 MB/s eta 0:00:01\r\u001b[K     |████████████████████████▉       | 2.8 MB 13.6 MB/s eta 0:00:01\r\u001b[K     |█████████████████████████       | 2.8 MB 13.6 MB/s eta 0:00:01\r\u001b[K     |█████████████████████████       | 2.8 MB 13.6 MB/s eta 0:00:01\r\u001b[K     |█████████████████████████▏      | 2.8 MB 13.6 MB/s eta 0:00:01\r\u001b[K     |█████████████████████████▏      | 2.8 MB 13.6 MB/s eta 0:00:01\r\u001b[K     |█████████████████████████▎      | 2.9 MB 13.6 MB/s eta 0:00:01\r\u001b[K     |█████████████████████████▍      | 2.9 MB 13.6 MB/s eta 0:00:01\r\u001b[K     |█████████████████████████▌      | 2.9 MB 13.6 MB/s eta 0:00:01\r\u001b[K     |█████████████████████████▋      | 2.9 MB 13.6 MB/s eta 0:00:01\r\u001b[K     |█████████████████████████▋      | 2.9 MB 13.6 MB/s eta 0:00:01\r\u001b[K     |█████████████████████████▊      | 2.9 MB 13.6 MB/s eta 0:00:01\r\u001b[K     |█████████████████████████▉      | 2.9 MB 13.6 MB/s eta 0:00:01\r\u001b[K     |██████████████████████████      | 2.9 MB 13.6 MB/s eta 0:00:01\r\u001b[K     |██████████████████████████      | 2.9 MB 13.6 MB/s eta 0:00:01\r\u001b[K     |██████████████████████████      | 2.9 MB 13.6 MB/s eta 0:00:01\r\u001b[K     |██████████████████████████▏     | 3.0 MB 13.6 MB/s eta 0:00:01\r\u001b[K     |██████████████████████████▎     | 3.0 MB 13.6 MB/s eta 0:00:01\r\u001b[K     |██████████████████████████▍     | 3.0 MB 13.6 MB/s eta 0:00:01\r\u001b[K     |██████████████████████████▌     | 3.0 MB 13.6 MB/s eta 0:00:01\r\u001b[K     |██████████████████████████▋     | 3.0 MB 13.6 MB/s eta 0:00:01\r\u001b[K     |██████████████████████████▋     | 3.0 MB 13.6 MB/s eta 0:00:01\r\u001b[K     |██████████████████████████▊     | 3.0 MB 13.6 MB/s eta 0:00:01\r\u001b[K     |██████████████████████████▉     | 3.0 MB 13.6 MB/s eta 0:00:01\r\u001b[K     |███████████████████████████     | 3.0 MB 13.6 MB/s eta 0:00:01\r\u001b[K     |███████████████████████████     | 3.1 MB 13.6 MB/s eta 0:00:01\r\u001b[K     |███████████████████████████     | 3.1 MB 13.6 MB/s eta 0:00:01\r\u001b[K     |███████████████████████████▏    | 3.1 MB 13.6 MB/s eta 0:00:01\r\u001b[K     |███████████████████████████▎    | 3.1 MB 13.6 MB/s eta 0:00:01\r\u001b[K     |███████████████████████████▍    | 3.1 MB 13.6 MB/s eta 0:00:01\r\u001b[K     |███████████████████████████▌    | 3.1 MB 13.6 MB/s eta 0:00:01\r\u001b[K     |███████████████████████████▋    | 3.1 MB 13.6 MB/s eta 0:00:01\r\u001b[K     |███████████████████████████▋    | 3.1 MB 13.6 MB/s eta 0:00:01\r\u001b[K     |███████████████████████████▊    | 3.1 MB 13.6 MB/s eta 0:00:01\r\u001b[K     |███████████████████████████▉    | 3.1 MB 13.6 MB/s eta 0:00:01\r\u001b[K     |████████████████████████████    | 3.2 MB 13.6 MB/s eta 0:00:01\r\u001b[K     |████████████████████████████    | 3.2 MB 13.6 MB/s eta 0:00:01\r\u001b[K     |████████████████████████████    | 3.2 MB 13.6 MB/s eta 0:00:01\r\u001b[K     |████████████████████████████▏   | 3.2 MB 13.6 MB/s eta 0:00:01\r\u001b[K     |████████████████████████████▎   | 3.2 MB 13.6 MB/s eta 0:00:01\r\u001b[K     |████████████████████████████▍   | 3.2 MB 13.6 MB/s eta 0:00:01\r\u001b[K     |████████████████████████████▌   | 3.2 MB 13.6 MB/s eta 0:00:01\r\u001b[K     |████████████████████████████▋   | 3.2 MB 13.6 MB/s eta 0:00:01\r\u001b[K     |████████████████████████████▋   | 3.2 MB 13.6 MB/s eta 0:00:01\r\u001b[K     |████████████████████████████▊   | 3.2 MB 13.6 MB/s eta 0:00:01\r\u001b[K     |████████████████████████████▉   | 3.3 MB 13.6 MB/s eta 0:00:01\r\u001b[K     |█████████████████████████████   | 3.3 MB 13.6 MB/s eta 0:00:01\r\u001b[K     |█████████████████████████████   | 3.3 MB 13.6 MB/s eta 0:00:01\r\u001b[K     |█████████████████████████████   | 3.3 MB 13.6 MB/s eta 0:00:01\r\u001b[K     |█████████████████████████████▏  | 3.3 MB 13.6 MB/s eta 0:00:01\r\u001b[K     |█████████████████████████████▎  | 3.3 MB 13.6 MB/s eta 0:00:01\r\u001b[K     |█████████████████████████████▍  | 3.3 MB 13.6 MB/s eta 0:00:01\r\u001b[K     |█████████████████████████████▌  | 3.3 MB 13.6 MB/s eta 0:00:01\r\u001b[K     |█████████████████████████████▌  | 3.3 MB 13.6 MB/s eta 0:00:01\r\u001b[K     |█████████████████████████████▋  | 3.3 MB 13.6 MB/s eta 0:00:01\r\u001b[K     |█████████████████████████████▊  | 3.4 MB 13.6 MB/s eta 0:00:01\r\u001b[K     |█████████████████████████████▉  | 3.4 MB 13.6 MB/s eta 0:00:01\r\u001b[K     |██████████████████████████████  | 3.4 MB 13.6 MB/s eta 0:00:01\r\u001b[K     |██████████████████████████████  | 3.4 MB 13.6 MB/s eta 0:00:01\r\u001b[K     |██████████████████████████████  | 3.4 MB 13.6 MB/s eta 0:00:01\r\u001b[K     |██████████████████████████████▏ | 3.4 MB 13.6 MB/s eta 0:00:01\r\u001b[K     |██████████████████████████████▎ | 3.4 MB 13.6 MB/s eta 0:00:01\r\u001b[K     |██████████████████████████████▍ | 3.4 MB 13.6 MB/s eta 0:00:01\r\u001b[K     |██████████████████████████████▌ | 3.4 MB 13.6 MB/s eta 0:00:01\r\u001b[K     |██████████████████████████████▌ | 3.5 MB 13.6 MB/s eta 0:00:01\r\u001b[K     |██████████████████████████████▋ | 3.5 MB 13.6 MB/s eta 0:00:01\r\u001b[K     |██████████████████████████████▊ | 3.5 MB 13.6 MB/s eta 0:00:01\r\u001b[K     |██████████████████████████████▉ | 3.5 MB 13.6 MB/s eta 0:00:01\r\u001b[K     |███████████████████████████████ | 3.5 MB 13.6 MB/s eta 0:00:01\r\u001b[K     |███████████████████████████████ | 3.5 MB 13.6 MB/s eta 0:00:01\r\u001b[K     |███████████████████████████████ | 3.5 MB 13.6 MB/s eta 0:00:01\r\u001b[K     |███████████████████████████████▏| 3.5 MB 13.6 MB/s eta 0:00:01\r\u001b[K     |███████████████████████████████▎| 3.5 MB 13.6 MB/s eta 0:00:01\r\u001b[K     |███████████████████████████████▍| 3.5 MB 13.6 MB/s eta 0:00:01\r\u001b[K     |███████████████████████████████▌| 3.6 MB 13.6 MB/s eta 0:00:01\r\u001b[K     |███████████████████████████████▌| 3.6 MB 13.6 MB/s eta 0:00:01\r\u001b[K     |███████████████████████████████▋| 3.6 MB 13.6 MB/s eta 0:00:01\r\u001b[K     |███████████████████████████████▊| 3.6 MB 13.6 MB/s eta 0:00:01\r\u001b[K     |███████████████████████████████▉| 3.6 MB 13.6 MB/s eta 0:00:01\r\u001b[K     |████████████████████████████████| 3.6 MB 13.6 MB/s eta 0:00:01\r\u001b[K     |████████████████████████████████| 3.6 MB 13.6 MB/s \n",
            "\u001b[?25h"
          ]
        }
      ]
    },
    {
      "cell_type": "code",
      "source": [
        "pip install -q jupyter_dash==0.3.0\n"
      ],
      "metadata": {
        "id": "8I7luBMvqErr",
        "colab": {
          "base_uri": "https://localhost:8080/"
        },
        "outputId": "c88c5d08-9aeb-4c6d-a9f3-412bd32a72cd"
      },
      "execution_count": null,
      "outputs": [
        {
          "output_type": "stream",
          "name": "stdout",
          "text": [
            "\u001b[?25l\r\u001b[K     |██████▊                         | 10 kB 17.3 MB/s eta 0:00:01\r\u001b[K     |█████████████▍                  | 20 kB 20.0 MB/s eta 0:00:01\r\u001b[K     |████████████████████            | 30 kB 16.6 MB/s eta 0:00:01\r\u001b[K     |██████████████████████████▊     | 40 kB 10.4 MB/s eta 0:00:01\r\u001b[K     |████████████████████████████████| 49 kB 3.8 MB/s \n",
            "\u001b[?25h  Building wheel for retrying (setup.py) ... \u001b[?25l\u001b[?25hdone\n"
          ]
        }
      ]
    },
    {
      "cell_type": "code",
      "source": [
        "!pip install pandas"
      ],
      "metadata": {
        "id": "Pfz2JH3Tr-Z7"
      },
      "execution_count": null,
      "outputs": []
    },
    {
      "cell_type": "markdown",
      "source": [
        "\n",
        "\n",
        "---\n",
        "\n"
      ],
      "metadata": {
        "id": "MAERP0ltmDIp"
      }
    },
    {
      "cell_type": "markdown",
      "source": [
        "\n",
        "\n",
        "---\n",
        "\n"
      ],
      "metadata": {
        "id": "04hhsXeomOqJ"
      }
    },
    {
      "cell_type": "markdown",
      "source": [
        "# Quick install and convert to csv from file to display app\n"
      ],
      "metadata": {
        "id": "ySPnFCGomHQr"
      }
    },
    {
      "cell_type": "code",
      "source": [
        "!pip install rioxarray"
      ],
      "metadata": {
        "id": "-O5YIYIemGlM",
        "colab": {
          "base_uri": "https://localhost:8080/"
        },
        "outputId": "6afe6075-1f7a-4a0c-e74f-4654514b6186"
      },
      "execution_count": null,
      "outputs": [
        {
          "output_type": "stream",
          "name": "stdout",
          "text": [
            "Looking in indexes: https://pypi.org/simple, https://us-python.pkg.dev/colab-wheels/public/simple/\n",
            "Collecting rioxarray\n",
            "  Downloading rioxarray-0.9.1.tar.gz (47 kB)\n",
            "\u001b[K     |████████████████████████████████| 47 kB 3.1 MB/s \n",
            "\u001b[?25h  Installing build dependencies ... \u001b[?25l\u001b[?25hdone\n",
            "  Getting requirements to build wheel ... \u001b[?25l\u001b[?25hdone\n",
            "    Preparing wheel metadata ... \u001b[?25l\u001b[?25hdone\n",
            "Requirement already satisfied: xarray>=0.17 in /usr/local/lib/python3.7/dist-packages (from rioxarray) (0.20.2)\n",
            "Requirement already satisfied: pyproj>=2.2 in /usr/local/lib/python3.7/dist-packages (from rioxarray) (3.2.1)\n",
            "Requirement already satisfied: packaging in /usr/local/lib/python3.7/dist-packages (from rioxarray) (21.3)\n",
            "Requirement already satisfied: rasterio in /usr/local/lib/python3.7/dist-packages (from rioxarray) (1.2.10)\n",
            "Requirement already satisfied: certifi in /usr/local/lib/python3.7/dist-packages (from pyproj>=2.2->rioxarray) (2022.6.15)\n",
            "Requirement already satisfied: pandas>=1.1 in /usr/local/lib/python3.7/dist-packages (from xarray>=0.17->rioxarray) (1.3.5)\n",
            "Requirement already satisfied: typing-extensions>=3.7 in /usr/local/lib/python3.7/dist-packages (from xarray>=0.17->rioxarray) (4.1.1)\n",
            "Requirement already satisfied: importlib-metadata in /usr/local/lib/python3.7/dist-packages (from xarray>=0.17->rioxarray) (4.11.4)\n",
            "Requirement already satisfied: numpy>=1.18 in /usr/local/lib/python3.7/dist-packages (from xarray>=0.17->rioxarray) (1.21.6)\n",
            "Requirement already satisfied: pytz>=2017.3 in /usr/local/lib/python3.7/dist-packages (from pandas>=1.1->xarray>=0.17->rioxarray) (2022.1)\n",
            "Requirement already satisfied: python-dateutil>=2.7.3 in /usr/local/lib/python3.7/dist-packages (from pandas>=1.1->xarray>=0.17->rioxarray) (2.8.2)\n",
            "Requirement already satisfied: six>=1.5 in /usr/local/lib/python3.7/dist-packages (from python-dateutil>=2.7.3->pandas>=1.1->xarray>=0.17->rioxarray) (1.15.0)\n",
            "Requirement already satisfied: zipp>=0.5 in /usr/local/lib/python3.7/dist-packages (from importlib-metadata->xarray>=0.17->rioxarray) (3.8.0)\n",
            "Requirement already satisfied: pyparsing!=3.0.5,>=2.0.2 in /usr/local/lib/python3.7/dist-packages (from packaging->rioxarray) (3.0.9)\n",
            "Requirement already satisfied: cligj>=0.5 in /usr/local/lib/python3.7/dist-packages (from rasterio->rioxarray) (0.7.2)\n",
            "Requirement already satisfied: snuggs>=1.4.1 in /usr/local/lib/python3.7/dist-packages (from rasterio->rioxarray) (1.4.7)\n",
            "Requirement already satisfied: setuptools in /usr/local/lib/python3.7/dist-packages (from rasterio->rioxarray) (57.4.0)\n",
            "Requirement already satisfied: attrs in /usr/local/lib/python3.7/dist-packages (from rasterio->rioxarray) (21.4.0)\n",
            "Requirement already satisfied: click-plugins in /usr/local/lib/python3.7/dist-packages (from rasterio->rioxarray) (1.1.1)\n",
            "Requirement already satisfied: affine in /usr/local/lib/python3.7/dist-packages (from rasterio->rioxarray) (2.3.1)\n",
            "Requirement already satisfied: click>=4.0 in /usr/local/lib/python3.7/dist-packages (from rasterio->rioxarray) (7.1.2)\n",
            "Building wheels for collected packages: rioxarray\n",
            "  Building wheel for rioxarray (PEP 517) ... \u001b[?25l\u001b[?25hdone\n",
            "  Created wheel for rioxarray: filename=rioxarray-0.9.1-py3-none-any.whl size=54611 sha256=f27c2e4fda4a8bf5c65b964b4b6f1f371bd44ccbbb429e594f61235c58d3c49e\n",
            "  Stored in directory: /root/.cache/pip/wheels/07/da/9e/1cc57b2e7a29a206893db83e984a341e2e94378263e0798229\n",
            "Successfully built rioxarray\n",
            "Installing collected packages: rioxarray\n",
            "Successfully installed rioxarray-0.9.1\n"
          ]
        }
      ]
    },
    {
      "cell_type": "code",
      "source": [
        "!pip install cartopy"
      ],
      "metadata": {
        "id": "yMf_tFrbmYIa",
        "colab": {
          "base_uri": "https://localhost:8080/"
        },
        "outputId": "bdc3ec13-9c61-4467-9c39-476daaff08c2"
      },
      "execution_count": null,
      "outputs": [
        {
          "output_type": "stream",
          "name": "stdout",
          "text": [
            "Looking in indexes: https://pypi.org/simple, https://us-python.pkg.dev/colab-wheels/public/simple/\n",
            "Collecting cartopy\n",
            "  Downloading Cartopy-0.20.3.tar.gz (10.8 MB)\n",
            "\u001b[K     |████████████████████████████████| 10.8 MB 16.5 MB/s \n",
            "\u001b[?25h  Installing build dependencies ... \u001b[?25l\u001b[?25hdone\n",
            "  Getting requirements to build wheel ... \u001b[?25l\u001b[?25herror\n",
            "\u001b[33mWARNING: Discarding https://files.pythonhosted.org/packages/98/a9/0e4000eabadfcff6373c0fec790863b543b919cbfec18aed60d71ba67d5d/Cartopy-0.20.3.tar.gz#sha256=0d60fa2e2fbd77c4d1f6b1f9d3b588966147f07c1b179d2d34570ac1e1b49006 (from https://pypi.org/simple/cartopy/) (requires-python:>=3.7). Command errored out with exit status 1: /usr/bin/python3 /usr/local/lib/python3.7/dist-packages/pip/_vendor/pep517/in_process/_in_process.py get_requires_for_build_wheel /tmp/tmpoazxs6ir Check the logs for full command output.\u001b[0m\n",
            "  Downloading Cartopy-0.20.2.tar.gz (10.8 MB)\n",
            "\u001b[K     |████████████████████████████████| 10.8 MB 33.2 MB/s \n",
            "\u001b[?25h  Installing build dependencies ... \u001b[?25l\u001b[?25hdone\n",
            "  Getting requirements to build wheel ... \u001b[?25l\u001b[?25herror\n",
            "\u001b[33mWARNING: Discarding https://files.pythonhosted.org/packages/f6/55/1e1c737dc9436b320deead73d1c455ddbb74b8b6992081863492f6f6378a/Cartopy-0.20.2.tar.gz#sha256=4d08c198ecaa50a6a6b109d0f14c070e813defc046a83ac5d7ab494f85599e35 (from https://pypi.org/simple/cartopy/) (requires-python:>=3.7). Command errored out with exit status 1: /usr/bin/python3 /usr/local/lib/python3.7/dist-packages/pip/_vendor/pep517/in_process/_in_process.py get_requires_for_build_wheel /tmp/tmptb5i4a0c Check the logs for full command output.\u001b[0m\n",
            "  Downloading Cartopy-0.20.1.tar.gz (10.8 MB)\n",
            "\u001b[K     |████████████████████████████████| 10.8 MB 34.3 MB/s \n",
            "\u001b[?25h  Installing build dependencies ... \u001b[?25l\u001b[?25hdone\n",
            "  Getting requirements to build wheel ... \u001b[?25l\u001b[?25herror\n",
            "\u001b[33mWARNING: Discarding https://files.pythonhosted.org/packages/fc/59/aa52698e3838f4cd0e7eaa75bd86837e9e0b05041dbdaee3cda2fffced06/Cartopy-0.20.1.tar.gz#sha256=91f87b130e2574547a20cd634498df97d797abd12dcfd0235bc0cdbcec8b05e3 (from https://pypi.org/simple/cartopy/) (requires-python:>=3.7). Command errored out with exit status 1: /usr/bin/python3 /usr/local/lib/python3.7/dist-packages/pip/_vendor/pep517/in_process/_in_process.py get_requires_for_build_wheel /tmp/tmpi44k2l2v Check the logs for full command output.\u001b[0m\n",
            "  Downloading Cartopy-0.20.0.tar.gz (10.8 MB)\n",
            "\u001b[K     |████████████████████████████████| 10.8 MB 22.0 MB/s \n",
            "\u001b[?25h  Installing build dependencies ... \u001b[?25l\u001b[?25hdone\n",
            "  Getting requirements to build wheel ... \u001b[?25l\u001b[?25herror\n",
            "\u001b[33mWARNING: Discarding https://files.pythonhosted.org/packages/0f/c0/58453b036e79046d211f083880d58dcce787e7e07647ac25dc46c6555099/Cartopy-0.20.0.tar.gz#sha256=eae58aff26806e63cf115b2bce9477cedc4aa9f578c5e477b2c25cfa404f2b7a (from https://pypi.org/simple/cartopy/) (requires-python:>=3.7). Command errored out with exit status 1: /usr/bin/python3 /usr/local/lib/python3.7/dist-packages/pip/_vendor/pep517/in_process/_in_process.py get_requires_for_build_wheel /tmp/tmpl9v1dfn_ Check the logs for full command output.\u001b[0m\n",
            "  Downloading Cartopy-0.19.0.post1.tar.gz (12.1 MB)\n",
            "\u001b[K     |████████████████████████████████| 12.1 MB 65.7 MB/s \n",
            "\u001b[?25h  Installing build dependencies ... \u001b[?25l\u001b[?25hdone\n",
            "  Getting requirements to build wheel ... \u001b[?25l\u001b[?25hdone\n",
            "    Preparing wheel metadata ... \u001b[?25l\u001b[?25hdone\n",
            "Collecting pyshp>=2\n",
            "  Downloading pyshp-2.3.0-py2.py3-none-any.whl (46 kB)\n",
            "\u001b[K     |████████████████████████████████| 46 kB 3.3 MB/s \n",
            "\u001b[?25hRequirement already satisfied: shapely>=1.5.6 in /usr/local/lib/python3.7/dist-packages (from cartopy) (1.8.2)\n",
            "Requirement already satisfied: numpy>=1.13.3 in /usr/local/lib/python3.7/dist-packages (from cartopy) (1.21.6)\n",
            "Building wheels for collected packages: cartopy\n",
            "  Building wheel for cartopy (PEP 517) ... \u001b[?25l\u001b[?25hdone\n",
            "  Created wheel for cartopy: filename=Cartopy-0.19.0.post1-cp37-cp37m-linux_x86_64.whl size=12516293 sha256=73f4ec8ba8f1db34c25894441b44147cbde7a0f0ff456532aa43676dc1dbd4de\n",
            "  Stored in directory: /root/.cache/pip/wheels/98/01/f7/bd10aeb96fe4b518cde5f7c4f5e12c7202f85b7353a5017847\n",
            "Successfully built cartopy\n",
            "Installing collected packages: pyshp, cartopy\n",
            "Successfully installed cartopy-0.19.0.post1 pyshp-2.3.0\n"
          ]
        }
      ]
    },
    {
      "cell_type": "code",
      "source": [
        "!pip install geopandas\n",
        "!pip install earthpy"
      ],
      "metadata": {
        "id": "GLerR2jJmZKq",
        "colab": {
          "base_uri": "https://localhost:8080/"
        },
        "outputId": "f9388265-ab3f-41c7-9e73-1d74d7a3d5f8"
      },
      "execution_count": null,
      "outputs": [
        {
          "output_type": "stream",
          "name": "stdout",
          "text": [
            "Looking in indexes: https://pypi.org/simple, https://us-python.pkg.dev/colab-wheels/public/simple/\n",
            "Collecting geopandas\n",
            "  Downloading geopandas-0.10.2-py2.py3-none-any.whl (1.0 MB)\n",
            "\u001b[K     |████████████████████████████████| 1.0 MB 14.5 MB/s \n",
            "\u001b[?25hCollecting fiona>=1.8\n",
            "  Downloading Fiona-1.8.21-cp37-cp37m-manylinux2014_x86_64.whl (16.7 MB)\n",
            "\u001b[K     |████████████████████████████████| 16.7 MB 55.7 MB/s \n",
            "\u001b[?25hCollecting pyproj>=2.2.0\n",
            "  Downloading pyproj-3.2.1-cp37-cp37m-manylinux2010_x86_64.whl (6.3 MB)\n",
            "\u001b[K     |████████████████████████████████| 6.3 MB 50.5 MB/s \n",
            "\u001b[?25hRequirement already satisfied: shapely>=1.6 in /usr/local/lib/python3.7/dist-packages (from geopandas) (1.8.2)\n",
            "Requirement already satisfied: pandas>=0.25.0 in /usr/local/lib/python3.7/dist-packages (from geopandas) (1.3.5)\n",
            "Requirement already satisfied: click>=4.0 in /usr/local/lib/python3.7/dist-packages (from fiona>=1.8->geopandas) (7.1.2)\n",
            "Requirement already satisfied: certifi in /usr/local/lib/python3.7/dist-packages (from fiona>=1.8->geopandas) (2022.6.15)\n",
            "Collecting munch\n",
            "  Downloading munch-2.5.0-py2.py3-none-any.whl (10 kB)\n",
            "Collecting cligj>=0.5\n",
            "  Downloading cligj-0.7.2-py3-none-any.whl (7.1 kB)\n",
            "Requirement already satisfied: attrs>=17 in /usr/local/lib/python3.7/dist-packages (from fiona>=1.8->geopandas) (21.4.0)\n",
            "Collecting click-plugins>=1.0\n",
            "  Downloading click_plugins-1.1.1-py2.py3-none-any.whl (7.5 kB)\n",
            "Requirement already satisfied: setuptools in /usr/local/lib/python3.7/dist-packages (from fiona>=1.8->geopandas) (57.4.0)\n",
            "Requirement already satisfied: six>=1.7 in /usr/local/lib/python3.7/dist-packages (from fiona>=1.8->geopandas) (1.15.0)\n",
            "Requirement already satisfied: numpy>=1.17.3 in /usr/local/lib/python3.7/dist-packages (from pandas>=0.25.0->geopandas) (1.21.6)\n",
            "Requirement already satisfied: python-dateutil>=2.7.3 in /usr/local/lib/python3.7/dist-packages (from pandas>=0.25.0->geopandas) (2.8.2)\n",
            "Requirement already satisfied: pytz>=2017.3 in /usr/local/lib/python3.7/dist-packages (from pandas>=0.25.0->geopandas) (2022.1)\n",
            "Installing collected packages: munch, cligj, click-plugins, pyproj, fiona, geopandas\n",
            "Successfully installed click-plugins-1.1.1 cligj-0.7.2 fiona-1.8.21 geopandas-0.10.2 munch-2.5.0 pyproj-3.2.1\n",
            "Looking in indexes: https://pypi.org/simple, https://us-python.pkg.dev/colab-wheels/public/simple/\n",
            "Collecting earthpy\n",
            "  Downloading earthpy-0.9.4-py3-none-any.whl (1.4 MB)\n",
            "\u001b[K     |████████████████████████████████| 1.4 MB 13.7 MB/s \n",
            "\u001b[?25hRequirement already satisfied: numpy>=1.14.0 in /usr/local/lib/python3.7/dist-packages (from earthpy) (1.21.6)\n",
            "Requirement already satisfied: scikit-image in /usr/local/lib/python3.7/dist-packages (from earthpy) (0.18.3)\n",
            "Requirement already satisfied: requests in /usr/local/lib/python3.7/dist-packages (from earthpy) (2.23.0)\n",
            "Collecting rasterio\n",
            "  Downloading rasterio-1.2.10-cp37-cp37m-manylinux1_x86_64.whl (19.3 MB)\n",
            "\u001b[K     |████████████████████████████████| 19.3 MB 52.0 MB/s \n",
            "\u001b[?25hRequirement already satisfied: geopandas in /usr/local/lib/python3.7/dist-packages (from earthpy) (0.10.2)\n",
            "Requirement already satisfied: matplotlib>=2.0.0 in /usr/local/lib/python3.7/dist-packages (from earthpy) (3.2.2)\n",
            "Requirement already satisfied: python-dateutil>=2.1 in /usr/local/lib/python3.7/dist-packages (from matplotlib>=2.0.0->earthpy) (2.8.2)\n",
            "Requirement already satisfied: cycler>=0.10 in /usr/local/lib/python3.7/dist-packages (from matplotlib>=2.0.0->earthpy) (0.11.0)\n",
            "Requirement already satisfied: kiwisolver>=1.0.1 in /usr/local/lib/python3.7/dist-packages (from matplotlib>=2.0.0->earthpy) (1.4.3)\n",
            "Requirement already satisfied: pyparsing!=2.0.4,!=2.1.2,!=2.1.6,>=2.0.1 in /usr/local/lib/python3.7/dist-packages (from matplotlib>=2.0.0->earthpy) (3.0.9)\n",
            "Requirement already satisfied: typing-extensions in /usr/local/lib/python3.7/dist-packages (from kiwisolver>=1.0.1->matplotlib>=2.0.0->earthpy) (4.1.1)\n",
            "Requirement already satisfied: six>=1.5 in /usr/local/lib/python3.7/dist-packages (from python-dateutil>=2.1->matplotlib>=2.0.0->earthpy) (1.15.0)\n",
            "Requirement already satisfied: pandas>=0.25.0 in /usr/local/lib/python3.7/dist-packages (from geopandas->earthpy) (1.3.5)\n",
            "Requirement already satisfied: shapely>=1.6 in /usr/local/lib/python3.7/dist-packages (from geopandas->earthpy) (1.8.2)\n",
            "Requirement already satisfied: pyproj>=2.2.0 in /usr/local/lib/python3.7/dist-packages (from geopandas->earthpy) (3.2.1)\n",
            "Requirement already satisfied: fiona>=1.8 in /usr/local/lib/python3.7/dist-packages (from geopandas->earthpy) (1.8.21)\n",
            "Requirement already satisfied: certifi in /usr/local/lib/python3.7/dist-packages (from fiona>=1.8->geopandas->earthpy) (2022.6.15)\n",
            "Requirement already satisfied: click-plugins>=1.0 in /usr/local/lib/python3.7/dist-packages (from fiona>=1.8->geopandas->earthpy) (1.1.1)\n",
            "Requirement already satisfied: cligj>=0.5 in /usr/local/lib/python3.7/dist-packages (from fiona>=1.8->geopandas->earthpy) (0.7.2)\n",
            "Requirement already satisfied: setuptools in /usr/local/lib/python3.7/dist-packages (from fiona>=1.8->geopandas->earthpy) (57.4.0)\n",
            "Requirement already satisfied: click>=4.0 in /usr/local/lib/python3.7/dist-packages (from fiona>=1.8->geopandas->earthpy) (7.1.2)\n",
            "Requirement already satisfied: munch in /usr/local/lib/python3.7/dist-packages (from fiona>=1.8->geopandas->earthpy) (2.5.0)\n",
            "Requirement already satisfied: attrs>=17 in /usr/local/lib/python3.7/dist-packages (from fiona>=1.8->geopandas->earthpy) (21.4.0)\n",
            "Requirement already satisfied: pytz>=2017.3 in /usr/local/lib/python3.7/dist-packages (from pandas>=0.25.0->geopandas->earthpy) (2022.1)\n",
            "Collecting snuggs>=1.4.1\n",
            "  Downloading snuggs-1.4.7-py3-none-any.whl (5.4 kB)\n",
            "Collecting affine\n",
            "  Downloading affine-2.3.1-py2.py3-none-any.whl (16 kB)\n",
            "Requirement already satisfied: idna<3,>=2.5 in /usr/local/lib/python3.7/dist-packages (from requests->earthpy) (2.10)\n",
            "Requirement already satisfied: urllib3!=1.25.0,!=1.25.1,<1.26,>=1.21.1 in /usr/local/lib/python3.7/dist-packages (from requests->earthpy) (1.24.3)\n",
            "Requirement already satisfied: chardet<4,>=3.0.2 in /usr/local/lib/python3.7/dist-packages (from requests->earthpy) (3.0.4)\n",
            "Requirement already satisfied: pillow!=7.1.0,!=7.1.1,>=4.3.0 in /usr/local/lib/python3.7/dist-packages (from scikit-image->earthpy) (7.1.2)\n",
            "Requirement already satisfied: networkx>=2.0 in /usr/local/lib/python3.7/dist-packages (from scikit-image->earthpy) (2.6.3)\n",
            "Requirement already satisfied: PyWavelets>=1.1.1 in /usr/local/lib/python3.7/dist-packages (from scikit-image->earthpy) (1.3.0)\n",
            "Requirement already satisfied: imageio>=2.3.0 in /usr/local/lib/python3.7/dist-packages (from scikit-image->earthpy) (2.4.1)\n",
            "Requirement already satisfied: tifffile>=2019.7.26 in /usr/local/lib/python3.7/dist-packages (from scikit-image->earthpy) (2021.11.2)\n",
            "Requirement already satisfied: scipy>=1.0.1 in /usr/local/lib/python3.7/dist-packages (from scikit-image->earthpy) (1.4.1)\n",
            "Installing collected packages: snuggs, affine, rasterio, earthpy\n",
            "Successfully installed affine-2.3.1 earthpy-0.9.4 rasterio-1.2.10 snuggs-1.4.7\n"
          ]
        }
      ]
    },
    {
      "cell_type": "code",
      "source": [
        "!pip install NETCDF4"
      ],
      "metadata": {
        "id": "DSTfSRmymd9W",
        "colab": {
          "base_uri": "https://localhost:8080/"
        },
        "outputId": "dedd82aa-a271-40bb-eed3-66ce773ee8ae"
      },
      "execution_count": null,
      "outputs": [
        {
          "output_type": "stream",
          "name": "stdout",
          "text": [
            "Looking in indexes: https://pypi.org/simple, https://us-python.pkg.dev/colab-wheels/public/simple/\n",
            "Requirement already satisfied: NETCDF4 in /usr/local/lib/python3.7/dist-packages (1.5.8)\n",
            "Requirement already satisfied: cftime in /usr/local/lib/python3.7/dist-packages (from NETCDF4) (1.6.0)\n",
            "Requirement already satisfied: numpy>=1.9 in /usr/local/lib/python3.7/dist-packages (from NETCDF4) (1.21.6)\n"
          ]
        }
      ]
    },
    {
      "cell_type": "code",
      "source": [
        "import os\n",
        "import numpy as np\n",
        "import pandas as pd\n",
        "import matplotlib.pyplot as plt\n",
        "# netCDF4 needs to be installed in your environment for this to work\n",
        "import xarray as xr\n",
        "import rioxarray as rxr\n",
        "import cartopy.crs as ccrs\n",
        "import cartopy.feature as cfeature\n",
        "import seaborn as sns\n",
        "import geopandas as gpd\n",
        "import earthpy as et\n"
      ],
      "metadata": {
        "id": "iIMxjgddmg3f"
      },
      "execution_count": null,
      "outputs": []
    },
    {
      "cell_type": "code",
      "source": [
        "# The (online) url for a MACAv2 dataset for max monthly temperature\n",
        "dataset_example = \"http://thredds.northwestknowledge.net:8080/thredds/dodsC/agg_macav2metdata_tasmax_BNU-ESM_r1i1p1_historical_1950_2005_CONUS_monthly.nc\"\n",
        "\n",
        "data_set  = xr.open_dataset(dataset_example)  \n",
        "# View xarray object\n",
        "data_set"
      ],
      "metadata": {
        "colab": {
          "base_uri": "https://localhost:8080/",
          "height": 266
        },
        "id": "Xddb82d8m7uw",
        "outputId": "189ae552-b0dd-4b85-8960-32722a460046"
      },
      "execution_count": null,
      "outputs": [
        {
          "output_type": "execute_result",
          "data": {
            "text/plain": [
              "<xarray.Dataset>\n",
              "Dimensions:          (lat: 585, crs: 1, lon: 1386, time: 672)\n",
              "Coordinates:\n",
              "  * lat              (lat) float64 25.06 25.1 25.15 25.19 ... 49.31 49.35 49.4\n",
              "  * crs              (crs) int32 1\n",
              "  * lon              (lon) float64 235.2 235.3 235.3 235.4 ... 292.9 292.9 292.9\n",
              "  * time             (time) object 1950-01-15 00:00:00 ... 2005-12-15 00:00:00\n",
              "Data variables:\n",
              "    air_temperature  (time, lat, lon) float32 ...\n",
              "Attributes: (12/46)\n",
              "    description:                     Multivariate Adaptive Constructed Analog...\n",
              "    id:                              MACAv2-METDATA\n",
              "    naming_authority:                edu.uidaho.reacch\n",
              "    Metadata_Conventions:            Unidata Dataset Discovery v1.0\n",
              "    Metadata_Link:                   \n",
              "    cdm_data_type:                   FLOAT\n",
              "    ...                              ...\n",
              "    contributor_role:                Postdoctoral Fellow\n",
              "    publisher_name:                  REACCH\n",
              "    publisher_email:                 reacch@uidaho.edu\n",
              "    publisher_url:                   http://www.reacchpna.org/\n",
              "    license:                         Creative Commons CC0 1.0 Universal Dedic...\n",
              "    coordinate_system:               WGS84,EPSG:4326"
            ],
            "text/html": [
              "<div><svg style=\"position: absolute; width: 0; height: 0; overflow: hidden\">\n",
              "<defs>\n",
              "<symbol id=\"icon-database\" viewBox=\"0 0 32 32\">\n",
              "<path d=\"M16 0c-8.837 0-16 2.239-16 5v4c0 2.761 7.163 5 16 5s16-2.239 16-5v-4c0-2.761-7.163-5-16-5z\"></path>\n",
              "<path d=\"M16 17c-8.837 0-16-2.239-16-5v6c0 2.761 7.163 5 16 5s16-2.239 16-5v-6c0 2.761-7.163 5-16 5z\"></path>\n",
              "<path d=\"M16 26c-8.837 0-16-2.239-16-5v6c0 2.761 7.163 5 16 5s16-2.239 16-5v-6c0 2.761-7.163 5-16 5z\"></path>\n",
              "</symbol>\n",
              "<symbol id=\"icon-file-text2\" viewBox=\"0 0 32 32\">\n",
              "<path d=\"M28.681 7.159c-0.694-0.947-1.662-2.053-2.724-3.116s-2.169-2.030-3.116-2.724c-1.612-1.182-2.393-1.319-2.841-1.319h-15.5c-1.378 0-2.5 1.121-2.5 2.5v27c0 1.378 1.122 2.5 2.5 2.5h23c1.378 0 2.5-1.122 2.5-2.5v-19.5c0-0.448-0.137-1.23-1.319-2.841zM24.543 5.457c0.959 0.959 1.712 1.825 2.268 2.543h-4.811v-4.811c0.718 0.556 1.584 1.309 2.543 2.268zM28 29.5c0 0.271-0.229 0.5-0.5 0.5h-23c-0.271 0-0.5-0.229-0.5-0.5v-27c0-0.271 0.229-0.5 0.5-0.5 0 0 15.499-0 15.5 0v7c0 0.552 0.448 1 1 1h7v19.5z\"></path>\n",
              "<path d=\"M23 26h-14c-0.552 0-1-0.448-1-1s0.448-1 1-1h14c0.552 0 1 0.448 1 1s-0.448 1-1 1z\"></path>\n",
              "<path d=\"M23 22h-14c-0.552 0-1-0.448-1-1s0.448-1 1-1h14c0.552 0 1 0.448 1 1s-0.448 1-1 1z\"></path>\n",
              "<path d=\"M23 18h-14c-0.552 0-1-0.448-1-1s0.448-1 1-1h14c0.552 0 1 0.448 1 1s-0.448 1-1 1z\"></path>\n",
              "</symbol>\n",
              "</defs>\n",
              "</svg>\n",
              "<style>/* CSS stylesheet for displaying xarray objects in jupyterlab.\n",
              " *\n",
              " */\n",
              "\n",
              ":root {\n",
              "  --xr-font-color0: var(--jp-content-font-color0, rgba(0, 0, 0, 1));\n",
              "  --xr-font-color2: var(--jp-content-font-color2, rgba(0, 0, 0, 0.54));\n",
              "  --xr-font-color3: var(--jp-content-font-color3, rgba(0, 0, 0, 0.38));\n",
              "  --xr-border-color: var(--jp-border-color2, #e0e0e0);\n",
              "  --xr-disabled-color: var(--jp-layout-color3, #bdbdbd);\n",
              "  --xr-background-color: var(--jp-layout-color0, white);\n",
              "  --xr-background-color-row-even: var(--jp-layout-color1, white);\n",
              "  --xr-background-color-row-odd: var(--jp-layout-color2, #eeeeee);\n",
              "}\n",
              "\n",
              "html[theme=dark],\n",
              "body.vscode-dark {\n",
              "  --xr-font-color0: rgba(255, 255, 255, 1);\n",
              "  --xr-font-color2: rgba(255, 255, 255, 0.54);\n",
              "  --xr-font-color3: rgba(255, 255, 255, 0.38);\n",
              "  --xr-border-color: #1F1F1F;\n",
              "  --xr-disabled-color: #515151;\n",
              "  --xr-background-color: #111111;\n",
              "  --xr-background-color-row-even: #111111;\n",
              "  --xr-background-color-row-odd: #313131;\n",
              "}\n",
              "\n",
              ".xr-wrap {\n",
              "  display: block !important;\n",
              "  min-width: 300px;\n",
              "  max-width: 700px;\n",
              "}\n",
              "\n",
              ".xr-text-repr-fallback {\n",
              "  /* fallback to plain text repr when CSS is not injected (untrusted notebook) */\n",
              "  display: none;\n",
              "}\n",
              "\n",
              ".xr-header {\n",
              "  padding-top: 6px;\n",
              "  padding-bottom: 6px;\n",
              "  margin-bottom: 4px;\n",
              "  border-bottom: solid 1px var(--xr-border-color);\n",
              "}\n",
              "\n",
              ".xr-header > div,\n",
              ".xr-header > ul {\n",
              "  display: inline;\n",
              "  margin-top: 0;\n",
              "  margin-bottom: 0;\n",
              "}\n",
              "\n",
              ".xr-obj-type,\n",
              ".xr-array-name {\n",
              "  margin-left: 2px;\n",
              "  margin-right: 10px;\n",
              "}\n",
              "\n",
              ".xr-obj-type {\n",
              "  color: var(--xr-font-color2);\n",
              "}\n",
              "\n",
              ".xr-sections {\n",
              "  padding-left: 0 !important;\n",
              "  display: grid;\n",
              "  grid-template-columns: 150px auto auto 1fr 20px 20px;\n",
              "}\n",
              "\n",
              ".xr-section-item {\n",
              "  display: contents;\n",
              "}\n",
              "\n",
              ".xr-section-item input {\n",
              "  display: none;\n",
              "}\n",
              "\n",
              ".xr-section-item input + label {\n",
              "  color: var(--xr-disabled-color);\n",
              "}\n",
              "\n",
              ".xr-section-item input:enabled + label {\n",
              "  cursor: pointer;\n",
              "  color: var(--xr-font-color2);\n",
              "}\n",
              "\n",
              ".xr-section-item input:enabled + label:hover {\n",
              "  color: var(--xr-font-color0);\n",
              "}\n",
              "\n",
              ".xr-section-summary {\n",
              "  grid-column: 1;\n",
              "  color: var(--xr-font-color2);\n",
              "  font-weight: 500;\n",
              "}\n",
              "\n",
              ".xr-section-summary > span {\n",
              "  display: inline-block;\n",
              "  padding-left: 0.5em;\n",
              "}\n",
              "\n",
              ".xr-section-summary-in:disabled + label {\n",
              "  color: var(--xr-font-color2);\n",
              "}\n",
              "\n",
              ".xr-section-summary-in + label:before {\n",
              "  display: inline-block;\n",
              "  content: '►';\n",
              "  font-size: 11px;\n",
              "  width: 15px;\n",
              "  text-align: center;\n",
              "}\n",
              "\n",
              ".xr-section-summary-in:disabled + label:before {\n",
              "  color: var(--xr-disabled-color);\n",
              "}\n",
              "\n",
              ".xr-section-summary-in:checked + label:before {\n",
              "  content: '▼';\n",
              "}\n",
              "\n",
              ".xr-section-summary-in:checked + label > span {\n",
              "  display: none;\n",
              "}\n",
              "\n",
              ".xr-section-summary,\n",
              ".xr-section-inline-details {\n",
              "  padding-top: 4px;\n",
              "  padding-bottom: 4px;\n",
              "}\n",
              "\n",
              ".xr-section-inline-details {\n",
              "  grid-column: 2 / -1;\n",
              "}\n",
              "\n",
              ".xr-section-details {\n",
              "  display: none;\n",
              "  grid-column: 1 / -1;\n",
              "  margin-bottom: 5px;\n",
              "}\n",
              "\n",
              ".xr-section-summary-in:checked ~ .xr-section-details {\n",
              "  display: contents;\n",
              "}\n",
              "\n",
              ".xr-array-wrap {\n",
              "  grid-column: 1 / -1;\n",
              "  display: grid;\n",
              "  grid-template-columns: 20px auto;\n",
              "}\n",
              "\n",
              ".xr-array-wrap > label {\n",
              "  grid-column: 1;\n",
              "  vertical-align: top;\n",
              "}\n",
              "\n",
              ".xr-preview {\n",
              "  color: var(--xr-font-color3);\n",
              "}\n",
              "\n",
              ".xr-array-preview,\n",
              ".xr-array-data {\n",
              "  padding: 0 5px !important;\n",
              "  grid-column: 2;\n",
              "}\n",
              "\n",
              ".xr-array-data,\n",
              ".xr-array-in:checked ~ .xr-array-preview {\n",
              "  display: none;\n",
              "}\n",
              "\n",
              ".xr-array-in:checked ~ .xr-array-data,\n",
              ".xr-array-preview {\n",
              "  display: inline-block;\n",
              "}\n",
              "\n",
              ".xr-dim-list {\n",
              "  display: inline-block !important;\n",
              "  list-style: none;\n",
              "  padding: 0 !important;\n",
              "  margin: 0;\n",
              "}\n",
              "\n",
              ".xr-dim-list li {\n",
              "  display: inline-block;\n",
              "  padding: 0;\n",
              "  margin: 0;\n",
              "}\n",
              "\n",
              ".xr-dim-list:before {\n",
              "  content: '(';\n",
              "}\n",
              "\n",
              ".xr-dim-list:after {\n",
              "  content: ')';\n",
              "}\n",
              "\n",
              ".xr-dim-list li:not(:last-child):after {\n",
              "  content: ',';\n",
              "  padding-right: 5px;\n",
              "}\n",
              "\n",
              ".xr-has-index {\n",
              "  font-weight: bold;\n",
              "}\n",
              "\n",
              ".xr-var-list,\n",
              ".xr-var-item {\n",
              "  display: contents;\n",
              "}\n",
              "\n",
              ".xr-var-item > div,\n",
              ".xr-var-item label,\n",
              ".xr-var-item > .xr-var-name span {\n",
              "  background-color: var(--xr-background-color-row-even);\n",
              "  margin-bottom: 0;\n",
              "}\n",
              "\n",
              ".xr-var-item > .xr-var-name:hover span {\n",
              "  padding-right: 5px;\n",
              "}\n",
              "\n",
              ".xr-var-list > li:nth-child(odd) > div,\n",
              ".xr-var-list > li:nth-child(odd) > label,\n",
              ".xr-var-list > li:nth-child(odd) > .xr-var-name span {\n",
              "  background-color: var(--xr-background-color-row-odd);\n",
              "}\n",
              "\n",
              ".xr-var-name {\n",
              "  grid-column: 1;\n",
              "}\n",
              "\n",
              ".xr-var-dims {\n",
              "  grid-column: 2;\n",
              "}\n",
              "\n",
              ".xr-var-dtype {\n",
              "  grid-column: 3;\n",
              "  text-align: right;\n",
              "  color: var(--xr-font-color2);\n",
              "}\n",
              "\n",
              ".xr-var-preview {\n",
              "  grid-column: 4;\n",
              "}\n",
              "\n",
              ".xr-var-name,\n",
              ".xr-var-dims,\n",
              ".xr-var-dtype,\n",
              ".xr-preview,\n",
              ".xr-attrs dt {\n",
              "  white-space: nowrap;\n",
              "  overflow: hidden;\n",
              "  text-overflow: ellipsis;\n",
              "  padding-right: 10px;\n",
              "}\n",
              "\n",
              ".xr-var-name:hover,\n",
              ".xr-var-dims:hover,\n",
              ".xr-var-dtype:hover,\n",
              ".xr-attrs dt:hover {\n",
              "  overflow: visible;\n",
              "  width: auto;\n",
              "  z-index: 1;\n",
              "}\n",
              "\n",
              ".xr-var-attrs,\n",
              ".xr-var-data {\n",
              "  display: none;\n",
              "  background-color: var(--xr-background-color) !important;\n",
              "  padding-bottom: 5px !important;\n",
              "}\n",
              "\n",
              ".xr-var-attrs-in:checked ~ .xr-var-attrs,\n",
              ".xr-var-data-in:checked ~ .xr-var-data {\n",
              "  display: block;\n",
              "}\n",
              "\n",
              ".xr-var-data > table {\n",
              "  float: right;\n",
              "}\n",
              "\n",
              ".xr-var-name span,\n",
              ".xr-var-data,\n",
              ".xr-attrs {\n",
              "  padding-left: 25px !important;\n",
              "}\n",
              "\n",
              ".xr-attrs,\n",
              ".xr-var-attrs,\n",
              ".xr-var-data {\n",
              "  grid-column: 1 / -1;\n",
              "}\n",
              "\n",
              "dl.xr-attrs {\n",
              "  padding: 0;\n",
              "  margin: 0;\n",
              "  display: grid;\n",
              "  grid-template-columns: 125px auto;\n",
              "}\n",
              "\n",
              ".xr-attrs dt,\n",
              ".xr-attrs dd {\n",
              "  padding: 0;\n",
              "  margin: 0;\n",
              "  float: left;\n",
              "  padding-right: 10px;\n",
              "  width: auto;\n",
              "}\n",
              "\n",
              ".xr-attrs dt {\n",
              "  font-weight: normal;\n",
              "  grid-column: 1;\n",
              "}\n",
              "\n",
              ".xr-attrs dt:hover span {\n",
              "  display: inline-block;\n",
              "  background: var(--xr-background-color);\n",
              "  padding-right: 10px;\n",
              "}\n",
              "\n",
              ".xr-attrs dd {\n",
              "  grid-column: 2;\n",
              "  white-space: pre-wrap;\n",
              "  word-break: break-all;\n",
              "}\n",
              "\n",
              ".xr-icon-database,\n",
              ".xr-icon-file-text2 {\n",
              "  display: inline-block;\n",
              "  vertical-align: middle;\n",
              "  width: 1em;\n",
              "  height: 1.5em !important;\n",
              "  stroke-width: 0;\n",
              "  stroke: currentColor;\n",
              "  fill: currentColor;\n",
              "}\n",
              "</style><pre class='xr-text-repr-fallback'>&lt;xarray.Dataset&gt;\n",
              "Dimensions:          (lat: 585, crs: 1, lon: 1386, time: 672)\n",
              "Coordinates:\n",
              "  * lat              (lat) float64 25.06 25.1 25.15 25.19 ... 49.31 49.35 49.4\n",
              "  * crs              (crs) int32 1\n",
              "  * lon              (lon) float64 235.2 235.3 235.3 235.4 ... 292.9 292.9 292.9\n",
              "  * time             (time) object 1950-01-15 00:00:00 ... 2005-12-15 00:00:00\n",
              "Data variables:\n",
              "    air_temperature  (time, lat, lon) float32 ...\n",
              "Attributes: (12/46)\n",
              "    description:                     Multivariate Adaptive Constructed Analog...\n",
              "    id:                              MACAv2-METDATA\n",
              "    naming_authority:                edu.uidaho.reacch\n",
              "    Metadata_Conventions:            Unidata Dataset Discovery v1.0\n",
              "    Metadata_Link:                   \n",
              "    cdm_data_type:                   FLOAT\n",
              "    ...                              ...\n",
              "    contributor_role:                Postdoctoral Fellow\n",
              "    publisher_name:                  REACCH\n",
              "    publisher_email:                 reacch@uidaho.edu\n",
              "    publisher_url:                   http://www.reacchpna.org/\n",
              "    license:                         Creative Commons CC0 1.0 Universal Dedic...\n",
              "    coordinate_system:               WGS84,EPSG:4326</pre><div class='xr-wrap' style='display:none'><div class='xr-header'><div class='xr-obj-type'>xarray.Dataset</div></div><ul class='xr-sections'><li class='xr-section-item'><input id='section-159ad678-975e-4ba7-94fd-df41df4d2055' class='xr-section-summary-in' type='checkbox' disabled ><label for='section-159ad678-975e-4ba7-94fd-df41df4d2055' class='xr-section-summary'  title='Expand/collapse section'>Dimensions:</label><div class='xr-section-inline-details'><ul class='xr-dim-list'><li><span class='xr-has-index'>lat</span>: 585</li><li><span class='xr-has-index'>crs</span>: 1</li><li><span class='xr-has-index'>lon</span>: 1386</li><li><span class='xr-has-index'>time</span>: 672</li></ul></div><div class='xr-section-details'></div></li><li class='xr-section-item'><input id='section-23486df9-f7d5-476e-8b6b-26a015dc2572' class='xr-section-summary-in' type='checkbox'  checked><label for='section-23486df9-f7d5-476e-8b6b-26a015dc2572' class='xr-section-summary' >Coordinates: <span>(4)</span></label><div class='xr-section-inline-details'></div><div class='xr-section-details'><ul class='xr-var-list'><li class='xr-var-item'><div class='xr-var-name'><span class='xr-has-index'>lat</span></div><div class='xr-var-dims'>(lat)</div><div class='xr-var-dtype'>float64</div><div class='xr-var-preview xr-preview'>25.06 25.1 25.15 ... 49.35 49.4</div><input id='attrs-b8619fab-0d5e-4a95-95e9-24ddeb9c0d8f' class='xr-var-attrs-in' type='checkbox' ><label for='attrs-b8619fab-0d5e-4a95-95e9-24ddeb9c0d8f' title='Show/Hide attributes'><svg class='icon xr-icon-file-text2'><use xlink:href='#icon-file-text2'></use></svg></label><input id='data-2ec8b406-cbe9-4fee-8ae7-c00c3ba17655' class='xr-var-data-in' type='checkbox'><label for='data-2ec8b406-cbe9-4fee-8ae7-c00c3ba17655' title='Show/Hide data repr'><svg class='icon xr-icon-database'><use xlink:href='#icon-database'></use></svg></label><div class='xr-var-attrs'><dl class='xr-attrs'><dt><span>long_name :</span></dt><dd>latitude</dd><dt><span>standard_name :</span></dt><dd>latitude</dd><dt><span>units :</span></dt><dd>degrees_north</dd><dt><span>axis :</span></dt><dd>Y</dd><dt><span>description :</span></dt><dd>Latitude of the center of the grid cell</dd></dl></div><div class='xr-var-data'><pre>array([25.063078, 25.104744, 25.14641 , ..., 49.312691, 49.354359, 49.396023])</pre></div></li><li class='xr-var-item'><div class='xr-var-name'><span class='xr-has-index'>crs</span></div><div class='xr-var-dims'>(crs)</div><div class='xr-var-dtype'>int32</div><div class='xr-var-preview xr-preview'>1</div><input id='attrs-407386f3-f143-467d-8e27-d66a762c37ba' class='xr-var-attrs-in' type='checkbox' ><label for='attrs-407386f3-f143-467d-8e27-d66a762c37ba' title='Show/Hide attributes'><svg class='icon xr-icon-file-text2'><use xlink:href='#icon-file-text2'></use></svg></label><input id='data-a3543aae-a96d-4075-9ad1-1148c2e2141f' class='xr-var-data-in' type='checkbox'><label for='data-a3543aae-a96d-4075-9ad1-1148c2e2141f' title='Show/Hide data repr'><svg class='icon xr-icon-database'><use xlink:href='#icon-database'></use></svg></label><div class='xr-var-attrs'><dl class='xr-attrs'><dt><span>grid_mapping_name :</span></dt><dd>latitude_longitude</dd><dt><span>longitude_of_prime_meridian :</span></dt><dd>0.0</dd><dt><span>semi_major_axis :</span></dt><dd>6378137.0</dd><dt><span>inverse_flattening :</span></dt><dd>298.257223563</dd></dl></div><div class='xr-var-data'><pre>array([1], dtype=int32)</pre></div></li><li class='xr-var-item'><div class='xr-var-name'><span class='xr-has-index'>lon</span></div><div class='xr-var-dims'>(lon)</div><div class='xr-var-dtype'>float64</div><div class='xr-var-preview xr-preview'>235.2 235.3 235.3 ... 292.9 292.9</div><input id='attrs-50ac9830-b4b9-4f9b-bdaf-5816cc4cfaf6' class='xr-var-attrs-in' type='checkbox' ><label for='attrs-50ac9830-b4b9-4f9b-bdaf-5816cc4cfaf6' title='Show/Hide attributes'><svg class='icon xr-icon-file-text2'><use xlink:href='#icon-file-text2'></use></svg></label><input id='data-ae8e30b1-5e61-46d8-bff9-e17ca700a071' class='xr-var-data-in' type='checkbox'><label for='data-ae8e30b1-5e61-46d8-bff9-e17ca700a071' title='Show/Hide data repr'><svg class='icon xr-icon-database'><use xlink:href='#icon-database'></use></svg></label><div class='xr-var-attrs'><dl class='xr-attrs'><dt><span>units :</span></dt><dd>degrees_east</dd><dt><span>description :</span></dt><dd>Longitude of the center of the grid cell</dd><dt><span>long_name :</span></dt><dd>longitude</dd><dt><span>standard_name :</span></dt><dd>longitude</dd><dt><span>axis :</span></dt><dd>X</dd></dl></div><div class='xr-var-data'><pre>array([235.227844, 235.269501, 235.311157, ..., 292.851929, 292.893585,\n",
              "       292.935242])</pre></div></li><li class='xr-var-item'><div class='xr-var-name'><span class='xr-has-index'>time</span></div><div class='xr-var-dims'>(time)</div><div class='xr-var-dtype'>object</div><div class='xr-var-preview xr-preview'>1950-01-15 00:00:00 ... 2005-12-...</div><input id='attrs-6b57dbe1-25c0-4942-9fcd-621ddb2d7acb' class='xr-var-attrs-in' type='checkbox' ><label for='attrs-6b57dbe1-25c0-4942-9fcd-621ddb2d7acb' title='Show/Hide attributes'><svg class='icon xr-icon-file-text2'><use xlink:href='#icon-file-text2'></use></svg></label><input id='data-0a4690fc-e3f2-41a5-8414-4e802dc9ffc1' class='xr-var-data-in' type='checkbox'><label for='data-0a4690fc-e3f2-41a5-8414-4e802dc9ffc1' title='Show/Hide data repr'><svg class='icon xr-icon-database'><use xlink:href='#icon-database'></use></svg></label><div class='xr-var-attrs'><dl class='xr-attrs'><dt><span>description :</span></dt><dd>days since 1900-01-01</dd></dl></div><div class='xr-var-data'><pre>array([cftime.DatetimeNoLeap(1950, 1, 15, 0, 0, 0, 0, has_year_zero=True),\n",
              "       cftime.DatetimeNoLeap(1950, 2, 15, 0, 0, 0, 0, has_year_zero=True),\n",
              "       cftime.DatetimeNoLeap(1950, 3, 15, 0, 0, 0, 0, has_year_zero=True), ...,\n",
              "       cftime.DatetimeNoLeap(2005, 10, 15, 0, 0, 0, 0, has_year_zero=True),\n",
              "       cftime.DatetimeNoLeap(2005, 11, 15, 0, 0, 0, 0, has_year_zero=True),\n",
              "       cftime.DatetimeNoLeap(2005, 12, 15, 0, 0, 0, 0, has_year_zero=True)],\n",
              "      dtype=object)</pre></div></li></ul></div></li><li class='xr-section-item'><input id='section-816369dd-9292-46a6-836f-d1d0cf801f3f' class='xr-section-summary-in' type='checkbox'  checked><label for='section-816369dd-9292-46a6-836f-d1d0cf801f3f' class='xr-section-summary' >Data variables: <span>(1)</span></label><div class='xr-section-inline-details'></div><div class='xr-section-details'><ul class='xr-var-list'><li class='xr-var-item'><div class='xr-var-name'><span>air_temperature</span></div><div class='xr-var-dims'>(time, lat, lon)</div><div class='xr-var-dtype'>float32</div><div class='xr-var-preview xr-preview'>...</div><input id='attrs-d25d0201-de23-487d-b316-129ea6b981ba' class='xr-var-attrs-in' type='checkbox' ><label for='attrs-d25d0201-de23-487d-b316-129ea6b981ba' title='Show/Hide attributes'><svg class='icon xr-icon-file-text2'><use xlink:href='#icon-file-text2'></use></svg></label><input id='data-f0287378-8739-4b0b-98ff-49d1043e6c0b' class='xr-var-data-in' type='checkbox'><label for='data-f0287378-8739-4b0b-98ff-49d1043e6c0b' title='Show/Hide data repr'><svg class='icon xr-icon-database'><use xlink:href='#icon-database'></use></svg></label><div class='xr-var-attrs'><dl class='xr-attrs'><dt><span>long_name :</span></dt><dd>Monthly Average of Daily Maximum Near-Surface Air Temperature</dd><dt><span>units :</span></dt><dd>K</dd><dt><span>grid_mapping :</span></dt><dd>crs</dd><dt><span>standard_name :</span></dt><dd>air_temperature</dd><dt><span>height :</span></dt><dd>2 m</dd><dt><span>cell_methods :</span></dt><dd>time: maximum(interval: 24 hours);mean over days</dd><dt><span>_ChunkSizes :</span></dt><dd>[ 10  44 107]</dd></dl></div><div class='xr-var-data'><pre>[544864320 values with dtype=float32]</pre></div></li></ul></div></li><li class='xr-section-item'><input id='section-8491a95d-2dbc-4350-aee9-5d3785b48cdb' class='xr-section-summary-in' type='checkbox'  ><label for='section-8491a95d-2dbc-4350-aee9-5d3785b48cdb' class='xr-section-summary' >Attributes: <span>(46)</span></label><div class='xr-section-inline-details'></div><div class='xr-section-details'><dl class='xr-attrs'><dt><span>description :</span></dt><dd>Multivariate Adaptive Constructed Analogs (MACA) method, version 2.3,Dec 2013.</dd><dt><span>id :</span></dt><dd>MACAv2-METDATA</dd><dt><span>naming_authority :</span></dt><dd>edu.uidaho.reacch</dd><dt><span>Metadata_Conventions :</span></dt><dd>Unidata Dataset Discovery v1.0</dd><dt><span>Metadata_Link :</span></dt><dd></dd><dt><span>cdm_data_type :</span></dt><dd>FLOAT</dd><dt><span>title :</span></dt><dd>Monthly aggregation of downscaled daily meteorological data of Monthly Average of Daily Maximum Near-Surface Air Temperature from College of Global Change and Earth System Science, Beijing Normal University (BNU-ESM) using the run r1i1p1 of the historical scenario.</dd><dt><span>summary :</span></dt><dd>This archive contains monthly downscaled meteorological and hydrological projections for the Conterminous United States at 1/24-deg resolution. These monthly values are obtained by aggregating the daily values obtained from the downscaling using the Multivariate Adaptive Constructed Analogs (MACA, Abatzoglou, 2012) statistical downscaling method with the METDATA (Abatzoglou,2013) training dataset. The downscaled meteorological variables are maximum/minimum temperature(tasmax/tasmin), maximum/minimum relative humidity (rhsmax/rhsmin),precipitation amount(pr), downward shortwave solar radiation(rsds), eastward wind(uas), northward wind(vas), and specific humidity(huss). The downscaling is based on the 365-day model outputs from different global climate models (GCMs) from Phase 5 of the Coupled Model Inter-comparison Project (CMIP3) utlizing the historical (1950-2005) and future RCP4.5/8.5(2006-2099) scenarios. </dd><dt><span>keywords :</span></dt><dd>monthly, precipitation, maximum temperature, minimum temperature, downward shortwave solar radiation, specific humidity, wind velocity, CMIP5, Gridded Meteorological Data</dd><dt><span>keywords_vocabulary :</span></dt><dd></dd><dt><span>standard_name_vocabulary :</span></dt><dd>CF-1.0</dd><dt><span>history :</span></dt><dd>No revisions.</dd><dt><span>comment :</span></dt><dd></dd><dt><span>geospatial_bounds :</span></dt><dd>POLYGON((-124.7722 25.0631,-124.7722 49.3960, -67.0648 49.3960,-67.0648, 25.0631, -124.7722,25.0631))</dd><dt><span>geospatial_lat_min :</span></dt><dd>25.0631</dd><dt><span>geospatial_lat_max :</span></dt><dd>49.3960</dd><dt><span>geospatial_lon_min :</span></dt><dd>-124.7722</dd><dt><span>geospatial_lon_max :</span></dt><dd>-67.0648</dd><dt><span>geospatial_lat_units :</span></dt><dd>decimal degrees north</dd><dt><span>geospatial_lon_units :</span></dt><dd>decimal degrees east</dd><dt><span>geospatial_lat_resolution :</span></dt><dd>0.0417</dd><dt><span>geospatial_lon_resolution :</span></dt><dd>0.0417</dd><dt><span>geospatial_vertical_min :</span></dt><dd>0.0</dd><dt><span>geospatial_vertical_max :</span></dt><dd>0.0</dd><dt><span>geospatial_vertical_resolution :</span></dt><dd>0.0</dd><dt><span>geospatial_vertical_positive :</span></dt><dd>up</dd><dt><span>time_coverage_start :</span></dt><dd>2000-01-01T00:0</dd><dt><span>time_coverage_end :</span></dt><dd>2004-12-31T00:00</dd><dt><span>time_coverage_duration :</span></dt><dd>P5Y</dd><dt><span>time_coverage_resolution :</span></dt><dd>P1M</dd><dt><span>date_created :</span></dt><dd>2014-05-15</dd><dt><span>date_modified :</span></dt><dd>2014-05-15</dd><dt><span>date_issued :</span></dt><dd>2014-05-15</dd><dt><span>creator_name :</span></dt><dd>John Abatzoglou</dd><dt><span>creator_url :</span></dt><dd>http://maca.northwestknowledge.net</dd><dt><span>creator_email :</span></dt><dd>jabatzoglou@uidaho.edu</dd><dt><span>institution :</span></dt><dd>University of Idaho</dd><dt><span>processing_level :</span></dt><dd>GRID</dd><dt><span>project :</span></dt><dd></dd><dt><span>contributor_name :</span></dt><dd>Katherine C. Hegewisch</dd><dt><span>contributor_role :</span></dt><dd>Postdoctoral Fellow</dd><dt><span>publisher_name :</span></dt><dd>REACCH</dd><dt><span>publisher_email :</span></dt><dd>reacch@uidaho.edu</dd><dt><span>publisher_url :</span></dt><dd>http://www.reacchpna.org/</dd><dt><span>license :</span></dt><dd>Creative Commons CC0 1.0 Universal Dedication(http://creativecommons.org/publicdomain/zero/1.0/legalcode)</dd><dt><span>coordinate_system :</span></dt><dd>WGS84,EPSG:4326</dd></dl></div></li></ul></div></div>"
            ]
          },
          "metadata": {},
          "execution_count": 10
        }
      ]
    },
    {
      "cell_type": "code",
      "source": [
        "# converting to dataframe\n",
        "# Convert to dataframe -- then this can easily be exported to a csv\n",
        "one_point_df = one_point.to_dataframe()\n",
        "# View just the first 5 rows of the data\n",
        "one_point_df.head()"
      ],
      "metadata": {
        "id": "gAfSvUZVnS8s",
        "colab": {
          "base_uri": "https://localhost:8080/",
          "height": 287
        },
        "outputId": "7c2724d1-baba-45dc-9fa8-0d7cf48aab03"
      },
      "execution_count": null,
      "outputs": [
        {
          "output_type": "error",
          "ename": "NameError",
          "evalue": "ignored",
          "traceback": [
            "\u001b[0;31m---------------------------------------------------------------------------\u001b[0m",
            "\u001b[0;31mNameError\u001b[0m                                 Traceback (most recent call last)",
            "\u001b[0;32m<ipython-input-108-a911b05324ca>\u001b[0m in \u001b[0;36m<module>\u001b[0;34m()\u001b[0m\n\u001b[1;32m      1\u001b[0m \u001b[0;31m# converting to dataframe\u001b[0m\u001b[0;34m\u001b[0m\u001b[0;34m\u001b[0m\u001b[0;34m\u001b[0m\u001b[0m\n\u001b[1;32m      2\u001b[0m \u001b[0;31m# Convert to dataframe -- then this can easily be exported to a csv\u001b[0m\u001b[0;34m\u001b[0m\u001b[0;34m\u001b[0m\u001b[0;34m\u001b[0m\u001b[0m\n\u001b[0;32m----> 3\u001b[0;31m \u001b[0mone_point_df\u001b[0m \u001b[0;34m=\u001b[0m \u001b[0mone_point\u001b[0m\u001b[0;34m.\u001b[0m\u001b[0mto_dataframe\u001b[0m\u001b[0;34m(\u001b[0m\u001b[0;34m)\u001b[0m\u001b[0;34m\u001b[0m\u001b[0;34m\u001b[0m\u001b[0m\n\u001b[0m\u001b[1;32m      4\u001b[0m \u001b[0;31m# View just the first 5 rows of the data\u001b[0m\u001b[0;34m\u001b[0m\u001b[0;34m\u001b[0m\u001b[0;34m\u001b[0m\u001b[0m\n\u001b[1;32m      5\u001b[0m \u001b[0mone_point_df\u001b[0m\u001b[0;34m.\u001b[0m\u001b[0mhead\u001b[0m\u001b[0;34m(\u001b[0m\u001b[0;34m)\u001b[0m\u001b[0;34m\u001b[0m\u001b[0;34m\u001b[0m\u001b[0m\n",
            "\u001b[0;31mNameError\u001b[0m: name 'one_point' is not defined"
          ]
        }
      ]
    },
    {
      "cell_type": "markdown",
      "source": [
        "\n",
        "\n",
        "---\n",
        "\n"
      ],
      "metadata": {
        "id": "pM-JyvV6mQEf"
      }
    },
    {
      "cell_type": "markdown",
      "source": [
        "\n",
        "\n",
        "---\n",
        "\n"
      ],
      "metadata": {
        "id": "yx8zf6AYmBI9"
      }
    },
    {
      "cell_type": "code",
      "source": [
        "from pandas.io.parsers.readers import read_csv\n",
        "import pandas as pd\n",
        "\n"
      ],
      "metadata": {
        "id": "fYKcj89RsBO5"
      },
      "execution_count": null,
      "outputs": []
    },
    {
      "cell_type": "code",
      "source": [
        "path = '/content/df_one.csv'"
      ],
      "metadata": {
        "id": "CR_FLE9TUoXU"
      },
      "execution_count": null,
      "outputs": []
    },
    {
      "cell_type": "code",
      "source": [
        "import pandas as pd\n",
        "df = pd.read_csv('/content/df_one.csv')\n"
      ],
      "metadata": {
        "id": "3Mi_enMcfULy"
      },
      "execution_count": null,
      "outputs": []
    },
    {
      "cell_type": "code",
      "source": [
        "#df = pd.read_csv( /content/df_one.csv)\n",
        "#df\n",
        "import pandas as pd \n",
        "\n",
        "\n",
        "# converting to csv from read\n",
        "\n",
        "#pd.read_csv('df')"
      ],
      "metadata": {
        "id": "4DUL0TVMr5OJ"
      },
      "execution_count": null,
      "outputs": []
    },
    {
      "cell_type": "code",
      "source": [
        ""
      ],
      "metadata": {
        "id": "j4dnpfYVM2m4"
      },
      "execution_count": null,
      "outputs": []
    },
    {
      "cell_type": "markdown",
      "source": [
        "# Practice Block"
      ],
      "metadata": {
        "id": "Y2t7deCptKXM"
      }
    },
    {
      "cell_type": "markdown",
      "source": [
        "It works!  🥲"
      ],
      "metadata": {
        "id": "6KyLtAyZx8Vh"
      }
    },
    {
      "cell_type": "code",
      "source": [
        "from datetime import date\n",
        "#from dash import Dash, dcc, html\n",
        "from dash.dependencies import Input, Output\n",
        "\n",
        "from jupyter_dash import JupyterDash  # pip install dash\n",
        "import dash_cytoscape as cyto  # pip install dash-cytoscape==0.2.0 or higher\n",
        "import dash_html_components as html\n",
        "import dash_core_components as dcc\n",
        "from dash.dependencies import Output, Input\n",
        "import pandas as pd  # pip install pandas\n",
        "import plotly.express as px\n",
        "import math\n",
        "from dash import no_update"
      ],
      "metadata": {
        "id": "RG-5oslN1hnw",
        "colab": {
          "base_uri": "https://localhost:8080/",
          "height": 374
        },
        "outputId": "dfbdf458-6fc1-47f0-99b9-6cb72c6f9837"
      },
      "execution_count": null,
      "outputs": [
        {
          "output_type": "error",
          "ename": "ModuleNotFoundError",
          "evalue": "ignored",
          "traceback": [
            "\u001b[0;31m---------------------------------------------------------------------------\u001b[0m",
            "\u001b[0;31mModuleNotFoundError\u001b[0m                       Traceback (most recent call last)",
            "\u001b[0;32m<ipython-input-1-d524876de4c9>\u001b[0m in \u001b[0;36m<module>\u001b[0;34m()\u001b[0m\n\u001b[1;32m      1\u001b[0m \u001b[0;32mfrom\u001b[0m \u001b[0mdatetime\u001b[0m \u001b[0;32mimport\u001b[0m \u001b[0mdate\u001b[0m\u001b[0;34m\u001b[0m\u001b[0;34m\u001b[0m\u001b[0m\n\u001b[1;32m      2\u001b[0m \u001b[0;31m#from dash import Dash, dcc, html\u001b[0m\u001b[0;34m\u001b[0m\u001b[0;34m\u001b[0m\u001b[0;34m\u001b[0m\u001b[0m\n\u001b[0;32m----> 3\u001b[0;31m \u001b[0;32mfrom\u001b[0m \u001b[0mdash\u001b[0m\u001b[0;34m.\u001b[0m\u001b[0mdependencies\u001b[0m \u001b[0;32mimport\u001b[0m \u001b[0mInput\u001b[0m\u001b[0;34m,\u001b[0m \u001b[0mOutput\u001b[0m\u001b[0;34m\u001b[0m\u001b[0;34m\u001b[0m\u001b[0m\n\u001b[0m\u001b[1;32m      4\u001b[0m \u001b[0;34m\u001b[0m\u001b[0m\n\u001b[1;32m      5\u001b[0m \u001b[0;32mfrom\u001b[0m \u001b[0mjupyter_dash\u001b[0m \u001b[0;32mimport\u001b[0m \u001b[0mJupyterDash\u001b[0m  \u001b[0;31m# pip install dash\u001b[0m\u001b[0;34m\u001b[0m\u001b[0;34m\u001b[0m\u001b[0m\n",
            "\u001b[0;31mModuleNotFoundError\u001b[0m: No module named 'dash'",
            "",
            "\u001b[0;31m---------------------------------------------------------------------------\u001b[0;32m\nNOTE: If your import is failing due to a missing package, you can\nmanually install dependencies using either !pip or !apt.\n\nTo view examples of installing some common dependencies, click the\n\"Open Examples\" button below.\n\u001b[0;31m---------------------------------------------------------------------------\u001b[0m\n"
          ],
          "errorDetails": {
            "actions": [
              {
                "action": "open_url",
                "actionText": "Open Examples",
                "url": "/notebooks/snippets/importing_libraries.ipynb"
              }
            ]
          }
        }
      ]
    },
    {
      "cell_type": "code",
      "source": [
        "external_stylesheets = ['/content/style.css']\n",
        "app = JupyterDash(__name__, external_stylesheets= external_stylesheets)"
      ],
      "metadata": {
        "id": "qwvaHklM1qw5"
      },
      "execution_count": null,
      "outputs": []
    },
    {
      "cell_type": "code",
      "source": [
        "app.layout = html.Div([\n",
        "    html.H2(\"Sea Surface Temperatures\"),\n",
        "    dcc.DatePickerRange(\n",
        "        id='my-date-picker-range',\n",
        "        min_date_allowed=date(1995, 8, 5),\n",
        "        max_date_allowed=date(2017, 9, 19),\n",
        "        initial_visible_month=date(2017, 8, 5),\n",
        "        end_date=date(2017, 8, 25)\n",
        "    ),\n",
        "     html.Div(id='output-container-date-picker-range')\n",
        "])\n",
        "\n",
        "\n",
        "@app.callback(\n",
        "    Output('output-container-date-picker-range', 'children'),\n",
        "    Input('my-date-picker-range', 'start_date'),\n",
        "    Input('my-date-picker-range', 'end_date'))\n",
        "def update_output(start_date, end_date):\n",
        "    string_prefix = 'You have selected: '\n",
        "    if start_date is not None:\n",
        "        start_date_object = date.fromisoformat(start_date)\n",
        "        start_date_string = start_date_object.strftime('%B %d, %Y')\n",
        "        string_prefix = string_prefix + 'Start Date: ' + start_date_string + ' | '\n",
        "    if end_date is not None:\n",
        "        end_date_object = date.fromisoformat(end_date)\n",
        "        end_date_string = end_date_object.strftime('%B %d, %Y')\n",
        "        string_prefix = string_prefix + 'End Date: ' + end_date_string\n",
        "    if len(string_prefix) == len('You have selected: '):\n",
        "        return 'Select a date to see it displayed here'\n",
        "    else:\n",
        "        return string_prefix\n",
        "\n",
        "\n",
        "if __name__ == '__main__':\n",
        "    app.run_server(debug=True)"
      ],
      "metadata": {
        "colab": {
          "base_uri": "https://localhost:8080/",
          "height": 52
        },
        "id": "9QfNOhRd1uPz",
        "outputId": "9aeb911d-bac4-4928-e6d5-1e6a8c0bedd8"
      },
      "execution_count": null,
      "outputs": [
        {
          "output_type": "stream",
          "name": "stdout",
          "text": [
            "Dash app running on:\n"
          ]
        },
        {
          "output_type": "display_data",
          "data": {
            "text/plain": [
              "<IPython.core.display.Javascript object>"
            ],
            "application/javascript": [
              "(async (port, path, text, element) => {\n",
              "    if (!google.colab.kernel.accessAllowed) {\n",
              "      return;\n",
              "    }\n",
              "    element.appendChild(document.createTextNode(''));\n",
              "    const url = await google.colab.kernel.proxyPort(port);\n",
              "    const anchor = document.createElement('a');\n",
              "    anchor.href = new URL(path, url).toString();\n",
              "    anchor.target = '_blank';\n",
              "    anchor.setAttribute('data-href', url + path);\n",
              "    anchor.textContent = text;\n",
              "    element.appendChild(anchor);\n",
              "  })(8050, \"/\", \"http://127.0.0.1:8050/\", window.element)"
            ]
          },
          "metadata": {}
        }
      ]
    },
    {
      "cell_type": "code",
      "source": [
        ""
      ],
      "metadata": {
        "id": "7QfU152N0olJ"
      },
      "execution_count": null,
      "outputs": []
    },
    {
      "cell_type": "markdown",
      "source": [
        "# API for Scatter 3d Globe"
      ],
      "metadata": {
        "id": "kimQ87PpXjRo"
      }
    },
    {
      "cell_type": "markdown",
      "source": [
        "list out options and. features "
      ],
      "metadata": {
        "id": "DDnYrRCkXvhS"
      }
    },
    {
      "cell_type": "code",
      "source": [
        "help(px.scatter_geo)"
      ],
      "metadata": {
        "id": "QeZpuFky0phA",
        "colab": {
          "base_uri": "https://localhost:8080/"
        },
        "outputId": "25f8d13f-0582-4cef-9a43-403ddc02b600"
      },
      "execution_count": null,
      "outputs": [
        {
          "output_type": "stream",
          "name": "stdout",
          "text": [
            "Help on function scatter_geo in module plotly.express._chart_types:\n",
            "\n",
            "scatter_geo(data_frame=None, lat=None, lon=None, locations=None, locationmode=None, geojson=None, featureidkey=None, color=None, text=None, symbol=None, facet_row=None, facet_col=None, facet_col_wrap=0, facet_row_spacing=None, facet_col_spacing=None, hover_name=None, hover_data=None, custom_data=None, size=None, animation_frame=None, animation_group=None, category_orders=None, labels=None, color_discrete_sequence=None, color_discrete_map=None, color_continuous_scale=None, range_color=None, color_continuous_midpoint=None, symbol_sequence=None, symbol_map=None, opacity=None, size_max=None, projection=None, scope=None, center=None, fitbounds=None, basemap_visible=None, title=None, template=None, width=None, height=None)\n",
            "        In a geographic scatter plot, each row of `data_frame` is represented\n",
            "        by a symbol mark on a map.\n",
            "        \n",
            "    Parameters\n",
            "    ----------\n",
            "    data_frame: DataFrame or array-like or dict\n",
            "        This argument needs to be passed for column names (and not keyword\n",
            "        names) to be used. Array-like and dict are tranformed internally to a\n",
            "        pandas DataFrame. Optional: if missing, a DataFrame gets constructed\n",
            "        under the hood using the other arguments.\n",
            "    lat: str or int or Series or array-like\n",
            "        Either a name of a column in `data_frame`, or a pandas Series or\n",
            "        array_like object. Values from this column or array_like are used to\n",
            "        position marks according to latitude on a map.\n",
            "    lon: str or int or Series or array-like\n",
            "        Either a name of a column in `data_frame`, or a pandas Series or\n",
            "        array_like object. Values from this column or array_like are used to\n",
            "        position marks according to longitude on a map.\n",
            "    locations: str or int or Series or array-like\n",
            "        Either a name of a column in `data_frame`, or a pandas Series or\n",
            "        array_like object. Values from this column or array_like are to be\n",
            "        interpreted according to `locationmode` and mapped to\n",
            "        longitude/latitude.\n",
            "    locationmode: str\n",
            "        One of 'ISO-3', 'USA-states', or 'country names' Determines the set of\n",
            "        locations used to match entries in `locations` to regions on the map.\n",
            "    geojson: GeoJSON-formatted dict\n",
            "        Must contain a Polygon feature collection, with IDs, which are\n",
            "        references from `locations`.\n",
            "    featureidkey: str (default: `'id'`)\n",
            "        Path to field in GeoJSON feature object with which to match the values\n",
            "        passed in to `locations`.The most common alternative to the default is\n",
            "        of the form `'properties.<key>`.\n",
            "    color: str or int or Series or array-like\n",
            "        Either a name of a column in `data_frame`, or a pandas Series or\n",
            "        array_like object. Values from this column or array_like are used to\n",
            "        assign color to marks.\n",
            "    text: str or int or Series or array-like\n",
            "        Either a name of a column in `data_frame`, or a pandas Series or\n",
            "        array_like object. Values from this column or array_like appear in the\n",
            "        figure as text labels.\n",
            "    symbol: str or int or Series or array-like\n",
            "        Either a name of a column in `data_frame`, or a pandas Series or\n",
            "        array_like object. Values from this column or array_like are used to\n",
            "        assign symbols to marks.\n",
            "    facet_row: str or int or Series or array-like\n",
            "        Either a name of a column in `data_frame`, or a pandas Series or\n",
            "        array_like object. Values from this column or array_like are used to\n",
            "        assign marks to facetted subplots in the vertical direction.\n",
            "    facet_col: str or int or Series or array-like\n",
            "        Either a name of a column in `data_frame`, or a pandas Series or\n",
            "        array_like object. Values from this column or array_like are used to\n",
            "        assign marks to facetted subplots in the horizontal direction.\n",
            "    facet_col_wrap: int\n",
            "        Maximum number of facet columns. Wraps the column variable at this\n",
            "        width, so that the column facets span multiple rows. Ignored if 0, and\n",
            "        forced to 0 if `facet_row` or a `marginal` is set.\n",
            "    facet_row_spacing: float between 0 and 1\n",
            "        Spacing between facet rows, in paper units. Default is 0.03 or 0.0.7\n",
            "        when facet_col_wrap is used.\n",
            "    facet_col_spacing: float between 0 and 1\n",
            "        Spacing between facet columns, in paper units Default is 0.02.\n",
            "    hover_name: str or int or Series or array-like\n",
            "        Either a name of a column in `data_frame`, or a pandas Series or\n",
            "        array_like object. Values from this column or array_like appear in bold\n",
            "        in the hover tooltip.\n",
            "    hover_data: list of str or int, or Series or array-like, or dict\n",
            "        Either a list of names of columns in `data_frame`, or pandas Series, or\n",
            "        array_like objects or a dict with column names as keys, with values\n",
            "        True (for default formatting) False (in order to remove this column\n",
            "        from hover information), or a formatting string, for example ':.3f' or\n",
            "        '|%a' or list-like data to appear in the hover tooltip or tuples with a\n",
            "        bool or formatting string as first element, and list-like data to\n",
            "        appear in hover as second element Values from these columns appear as\n",
            "        extra data in the hover tooltip.\n",
            "    custom_data: list of str or int, or Series or array-like\n",
            "        Either names of columns in `data_frame`, or pandas Series, or\n",
            "        array_like objects Values from these columns are extra data, to be used\n",
            "        in widgets or Dash callbacks for example. This data is not user-visible\n",
            "        but is included in events emitted by the figure (lasso selection etc.)\n",
            "    size: str or int or Series or array-like\n",
            "        Either a name of a column in `data_frame`, or a pandas Series or\n",
            "        array_like object. Values from this column or array_like are used to\n",
            "        assign mark sizes.\n",
            "    animation_frame: str or int or Series or array-like\n",
            "        Either a name of a column in `data_frame`, or a pandas Series or\n",
            "        array_like object. Values from this column or array_like are used to\n",
            "        assign marks to animation frames.\n",
            "    animation_group: str or int or Series or array-like\n",
            "        Either a name of a column in `data_frame`, or a pandas Series or\n",
            "        array_like object. Values from this column or array_like are used to\n",
            "        provide object-constancy across animation frames: rows with matching\n",
            "        `animation_group`s will be treated as if they describe the same object\n",
            "        in each frame.\n",
            "    category_orders: dict with str keys and list of str values (default `{}`)\n",
            "        By default, in Python 3.6+, the order of categorical values in axes,\n",
            "        legends and facets depends on the order in which these values are first\n",
            "        encountered in `data_frame` (and no order is guaranteed by default in\n",
            "        Python below 3.6). This parameter is used to force a specific ordering\n",
            "        of values per column. The keys of this dict should correspond to column\n",
            "        names, and the values should be lists of strings corresponding to the\n",
            "        specific display order desired.\n",
            "    labels: dict with str keys and str values (default `{}`)\n",
            "        By default, column names are used in the figure for axis titles, legend\n",
            "        entries and hovers. This parameter allows this to be overridden. The\n",
            "        keys of this dict should correspond to column names, and the values\n",
            "        should correspond to the desired label to be displayed.\n",
            "    color_discrete_sequence: list of str\n",
            "        Strings should define valid CSS-colors. When `color` is set and the\n",
            "        values in the corresponding column are not numeric, values in that\n",
            "        column are assigned colors by cycling through `color_discrete_sequence`\n",
            "        in the order described in `category_orders`, unless the value of\n",
            "        `color` is a key in `color_discrete_map`. Various useful color\n",
            "        sequences are available in the `plotly.express.colors` submodules,\n",
            "        specifically `plotly.express.colors.qualitative`.\n",
            "    color_discrete_map: dict with str keys and str values (default `{}`)\n",
            "        String values should define valid CSS-colors Used to override\n",
            "        `color_discrete_sequence` to assign a specific colors to marks\n",
            "        corresponding with specific values. Keys in `color_discrete_map` should\n",
            "        be values in the column denoted by `color`. Alternatively, if the\n",
            "        values of `color` are valid colors, the string `'identity'` may be\n",
            "        passed to cause them to be used directly.\n",
            "    color_continuous_scale: list of str\n",
            "        Strings should define valid CSS-colors This list is used to build a\n",
            "        continuous color scale when the column denoted by `color` contains\n",
            "        numeric data. Various useful color scales are available in the\n",
            "        `plotly.express.colors` submodules, specifically\n",
            "        `plotly.express.colors.sequential`, `plotly.express.colors.diverging`\n",
            "        and `plotly.express.colors.cyclical`.\n",
            "    range_color: list of two numbers\n",
            "        If provided, overrides auto-scaling on the continuous color scale.\n",
            "    color_continuous_midpoint: number (default `None`)\n",
            "        If set, computes the bounds of the continuous color scale to have the\n",
            "        desired midpoint. Setting this value is recommended when using\n",
            "        `plotly.express.colors.diverging` color scales as the inputs to\n",
            "        `color_continuous_scale`.\n",
            "    symbol_sequence: list of str\n",
            "        Strings should define valid plotly.js symbols. When `symbol` is set,\n",
            "        values in that column are assigned symbols by cycling through\n",
            "        `symbol_sequence` in the order described in `category_orders`, unless\n",
            "        the value of `symbol` is a key in `symbol_map`.\n",
            "    symbol_map: dict with str keys and str values (default `{}`)\n",
            "        String values should define plotly.js symbols Used to override\n",
            "        `symbol_sequence` to assign a specific symbols to marks corresponding\n",
            "        with specific values. Keys in `symbol_map` should be values in the\n",
            "        column denoted by `symbol`. Alternatively, if the values of `symbol`\n",
            "        are valid symbol names, the string `'identity'` may be passed to cause\n",
            "        them to be used directly.\n",
            "    opacity: float\n",
            "        Value between 0 and 1. Sets the opacity for markers.\n",
            "    size_max: int (default `20`)\n",
            "        Set the maximum mark size when using `size`.\n",
            "    projection: str \n",
            "        One of `'equirectangular'`, `'mercator'`, `'orthographic'`, `'natural\n",
            "        earth'`, `'kavrayskiy7'`, `'miller'`, `'robinson'`, `'eckert4'`,\n",
            "        `'azimuthal equal area'`, `'azimuthal equidistant'`, `'conic equal\n",
            "        area'`, `'conic conformal'`, `'conic equidistant'`, `'gnomonic'`,\n",
            "        `'stereographic'`, `'mollweide'`, `'hammer'`, `'transverse mercator'`,\n",
            "        `'albers usa'`, `'winkel tripel'`, `'aitoff'`, or `'sinusoidal'`Default\n",
            "        depends on `scope`.\n",
            "    scope: str (default `'world'`).\n",
            "        One of `'world'`, `'usa'`, `'europe'`, `'asia'`, `'africa'`, `'north\n",
            "        america'`, or `'south america'`Default is `'world'` unless `projection`\n",
            "        is set to `'albers usa'`, which forces `'usa'`.\n",
            "    center: dict\n",
            "        Dict keys are `'lat'` and `'lon'` Sets the center point of the map.\n",
            "    fitbounds: str (default `False`).\n",
            "        One of `False`, `locations` or `geojson`.\n",
            "    basemap_visible: bool\n",
            "        Force the basemap visibility.\n",
            "    title: str\n",
            "        The figure title.\n",
            "    template: str or dict or plotly.graph_objects.layout.Template instance\n",
            "        The figure template name (must be a key in plotly.io.templates) or\n",
            "        definition.\n",
            "    width: int (default `None`)\n",
            "        The figure width in pixels.\n",
            "    height: int (default `None`)\n",
            "        The figure height in pixels.\n",
            "    \n",
            "    Returns\n",
            "    -------\n",
            "        plotly.graph_objects.Figure\n",
            "\n"
          ]
        }
      ]
    },
    {
      "cell_type": "code",
      "source": [
        "!pip install requests"
      ],
      "metadata": {
        "colab": {
          "base_uri": "https://localhost:8080/"
        },
        "id": "6QWjDwH2bY-K",
        "outputId": "9bc3601e-466a-4953-f265-72e7e6ef3270"
      },
      "execution_count": null,
      "outputs": [
        {
          "output_type": "stream",
          "name": "stdout",
          "text": [
            "Looking in indexes: https://pypi.org/simple, https://us-python.pkg.dev/colab-wheels/public/simple/\n",
            "Requirement already satisfied: requests in /usr/local/lib/python3.7/dist-packages (2.23.0)\n",
            "Requirement already satisfied: certifi>=2017.4.17 in /usr/local/lib/python3.7/dist-packages (from requests) (2022.6.15)\n",
            "Requirement already satisfied: idna<3,>=2.5 in /usr/local/lib/python3.7/dist-packages (from requests) (2.10)\n",
            "Requirement already satisfied: chardet<4,>=3.0.2 in /usr/local/lib/python3.7/dist-packages (from requests) (3.0.4)\n",
            "Requirement already satisfied: urllib3!=1.25.0,!=1.25.1,<1.26,>=1.21.1 in /usr/local/lib/python3.7/dist-packages (from requests) (1.24.3)\n"
          ]
        }
      ]
    },
    {
      "cell_type": "code",
      "source": [
        "!pip install plotly.graph_objects "
      ],
      "metadata": {
        "colab": {
          "base_uri": "https://localhost:8080/"
        },
        "id": "XDh7jTbbbmSf",
        "outputId": "fcedb779-c9ce-495a-de5d-d14e3a40705c"
      },
      "execution_count": null,
      "outputs": [
        {
          "output_type": "stream",
          "name": "stdout",
          "text": [
            "Looking in indexes: https://pypi.org/simple, https://us-python.pkg.dev/colab-wheels/public/simple/\n",
            "\u001b[31mERROR: Could not find a version that satisfies the requirement plotly.graph_objects (from versions: none)\u001b[0m\n",
            "\u001b[31mERROR: No matching distribution found for plotly.graph_objects\u001b[0m\n"
          ]
        }
      ]
    },
    {
      "cell_type": "code",
      "source": [
        "import plotly.graph_objects as go\n",
        "import requests"
      ],
      "metadata": {
        "id": "zXt98CbObZZx"
      },
      "execution_count": null,
      "outputs": []
    },
    {
      "cell_type": "code",
      "source": [
        "#getting my public IP (from the internet provider)\n",
        "# returning json\n",
        "my_ip = requests.get('https://api.ipify.org?format=json').json()\n",
        "#assinging only the IP adress to te my_ip variable\n",
        "my_ip = my_ip['ip'] \n",
        "my_ip"
      ],
      "metadata": {
        "colab": {
          "base_uri": "https://localhost:8080/",
          "height": 35
        },
        "id": "m5sd4Vc-bvP8",
        "outputId": "4bc08d08-f046-434d-9263-bd9c1610a53e"
      },
      "execution_count": null,
      "outputs": [
        {
          "output_type": "execute_result",
          "data": {
            "text/plain": [
              "'104.196.51.225'"
            ],
            "application/vnd.google.colaboratory.intrinsic+json": {
              "type": "string"
            }
          },
          "metadata": {},
          "execution_count": 91
        }
      ]
    },
    {
      "cell_type": "code",
      "source": [
        "#returning information of my ID\n",
        "ip_json = requests.get('http://ip-api.com/json/' + my_ip).json()\n",
        "ip_json"
      ],
      "metadata": {
        "colab": {
          "base_uri": "https://localhost:8080/"
        },
        "id": "KgNgOanKbvZT",
        "outputId": "1d84b6a8-5dc4-4a3b-e2e1-aa373537e7df"
      },
      "execution_count": null,
      "outputs": [
        {
          "output_type": "execute_result",
          "data": {
            "text/plain": [
              "{'as': 'AS396982 Google LLC',\n",
              " 'city': 'North Charleston',\n",
              " 'country': 'United States',\n",
              " 'countryCode': 'US',\n",
              " 'isp': 'Google LLC',\n",
              " 'lat': 32.8771,\n",
              " 'lon': -80.013,\n",
              " 'org': 'Google Cloud (us-east1)',\n",
              " 'query': '104.196.51.225',\n",
              " 'region': 'SC',\n",
              " 'regionName': 'South Carolina',\n",
              " 'status': 'success',\n",
              " 'timezone': 'America/New_York',\n",
              " 'zip': ''}"
            ]
          },
          "metadata": {},
          "execution_count": 92
        }
      ]
    },
    {
      "cell_type": "code",
      "source": [
        "latitude = ip_json['lat']\n",
        "longitude = ip_json['lon']"
      ],
      "metadata": {
        "id": "G818DymTb6gR"
      },
      "execution_count": null,
      "outputs": []
    },
    {
      "cell_type": "code",
      "source": [
        "#making the plot\n",
        "#if you are passing just one lat and lon, put it within \"[]\"\n",
        "fig = go.Figure(go.Scattergeo(lat=[latitude], lon=[longitude]))\n",
        "\n",
        "\n",
        "#editing the marker\n",
        "fig.update_traces(marker_size=20, line=dict(color='Red'))\n",
        "# this projection_type = 'orthographic is the projection which return 3d globe map'\n",
        "fig.update_geos(projection_type=\"orthographic\")\n",
        "\n",
        "\n",
        "#layout, exporting html and showing the plot\n",
        "fig.update_layout(width= 500, height=500, margin={\"r\":0,\"t\":0,\"l\":0,\"b\":0})\n",
        "fig.write_html(\"3d_plot.html\")\n",
        "fig.show()"
      ],
      "metadata": {
        "colab": {
          "base_uri": "https://localhost:8080/",
          "height": 517
        },
        "id": "WIngAAi5bZk9",
        "outputId": "9d1a4350-f505-4e27-c8b4-18641a8ed98a"
      },
      "execution_count": null,
      "outputs": [
        {
          "output_type": "display_data",
          "data": {
            "text/html": [
              "<html>\n",
              "<head><meta charset=\"utf-8\" /></head>\n",
              "<body>\n",
              "    <div>            <script src=\"https://cdnjs.cloudflare.com/ajax/libs/mathjax/2.7.5/MathJax.js?config=TeX-AMS-MML_SVG\"></script><script type=\"text/javascript\">if (window.MathJax) {MathJax.Hub.Config({SVG: {font: \"STIX-Web\"}});}</script>                <script type=\"text/javascript\">window.PlotlyConfig = {MathJaxConfig: 'local'};</script>\n",
              "        <script src=\"https://cdn.plot.ly/plotly-2.8.3.min.js\"></script>                <div id=\"f8ad769c-d680-4299-8e38-21c8c8f7f252\" class=\"plotly-graph-div\" style=\"height:500px; width:500px;\"></div>            <script type=\"text/javascript\">                                    window.PLOTLYENV=window.PLOTLYENV || {};                                    if (document.getElementById(\"f8ad769c-d680-4299-8e38-21c8c8f7f252\")) {                    Plotly.newPlot(                        \"f8ad769c-d680-4299-8e38-21c8c8f7f252\",                        [{\"lat\":[32.8771],\"lon\":[-80.013],\"type\":\"scattergeo\",\"marker\":{\"size\":20},\"line\":{\"color\":\"Red\"}}],                        {\"template\":{\"data\":{\"bar\":[{\"error_x\":{\"color\":\"#2a3f5f\"},\"error_y\":{\"color\":\"#2a3f5f\"},\"marker\":{\"line\":{\"color\":\"#E5ECF6\",\"width\":0.5},\"pattern\":{\"fillmode\":\"overlay\",\"size\":10,\"solidity\":0.2}},\"type\":\"bar\"}],\"barpolar\":[{\"marker\":{\"line\":{\"color\":\"#E5ECF6\",\"width\":0.5},\"pattern\":{\"fillmode\":\"overlay\",\"size\":10,\"solidity\":0.2}},\"type\":\"barpolar\"}],\"carpet\":[{\"aaxis\":{\"endlinecolor\":\"#2a3f5f\",\"gridcolor\":\"white\",\"linecolor\":\"white\",\"minorgridcolor\":\"white\",\"startlinecolor\":\"#2a3f5f\"},\"baxis\":{\"endlinecolor\":\"#2a3f5f\",\"gridcolor\":\"white\",\"linecolor\":\"white\",\"minorgridcolor\":\"white\",\"startlinecolor\":\"#2a3f5f\"},\"type\":\"carpet\"}],\"choropleth\":[{\"colorbar\":{\"outlinewidth\":0,\"ticks\":\"\"},\"type\":\"choropleth\"}],\"contour\":[{\"colorbar\":{\"outlinewidth\":0,\"ticks\":\"\"},\"colorscale\":[[0.0,\"#0d0887\"],[0.1111111111111111,\"#46039f\"],[0.2222222222222222,\"#7201a8\"],[0.3333333333333333,\"#9c179e\"],[0.4444444444444444,\"#bd3786\"],[0.5555555555555556,\"#d8576b\"],[0.6666666666666666,\"#ed7953\"],[0.7777777777777778,\"#fb9f3a\"],[0.8888888888888888,\"#fdca26\"],[1.0,\"#f0f921\"]],\"type\":\"contour\"}],\"contourcarpet\":[{\"colorbar\":{\"outlinewidth\":0,\"ticks\":\"\"},\"type\":\"contourcarpet\"}],\"heatmap\":[{\"colorbar\":{\"outlinewidth\":0,\"ticks\":\"\"},\"colorscale\":[[0.0,\"#0d0887\"],[0.1111111111111111,\"#46039f\"],[0.2222222222222222,\"#7201a8\"],[0.3333333333333333,\"#9c179e\"],[0.4444444444444444,\"#bd3786\"],[0.5555555555555556,\"#d8576b\"],[0.6666666666666666,\"#ed7953\"],[0.7777777777777778,\"#fb9f3a\"],[0.8888888888888888,\"#fdca26\"],[1.0,\"#f0f921\"]],\"type\":\"heatmap\"}],\"heatmapgl\":[{\"colorbar\":{\"outlinewidth\":0,\"ticks\":\"\"},\"colorscale\":[[0.0,\"#0d0887\"],[0.1111111111111111,\"#46039f\"],[0.2222222222222222,\"#7201a8\"],[0.3333333333333333,\"#9c179e\"],[0.4444444444444444,\"#bd3786\"],[0.5555555555555556,\"#d8576b\"],[0.6666666666666666,\"#ed7953\"],[0.7777777777777778,\"#fb9f3a\"],[0.8888888888888888,\"#fdca26\"],[1.0,\"#f0f921\"]],\"type\":\"heatmapgl\"}],\"histogram\":[{\"marker\":{\"pattern\":{\"fillmode\":\"overlay\",\"size\":10,\"solidity\":0.2}},\"type\":\"histogram\"}],\"histogram2d\":[{\"colorbar\":{\"outlinewidth\":0,\"ticks\":\"\"},\"colorscale\":[[0.0,\"#0d0887\"],[0.1111111111111111,\"#46039f\"],[0.2222222222222222,\"#7201a8\"],[0.3333333333333333,\"#9c179e\"],[0.4444444444444444,\"#bd3786\"],[0.5555555555555556,\"#d8576b\"],[0.6666666666666666,\"#ed7953\"],[0.7777777777777778,\"#fb9f3a\"],[0.8888888888888888,\"#fdca26\"],[1.0,\"#f0f921\"]],\"type\":\"histogram2d\"}],\"histogram2dcontour\":[{\"colorbar\":{\"outlinewidth\":0,\"ticks\":\"\"},\"colorscale\":[[0.0,\"#0d0887\"],[0.1111111111111111,\"#46039f\"],[0.2222222222222222,\"#7201a8\"],[0.3333333333333333,\"#9c179e\"],[0.4444444444444444,\"#bd3786\"],[0.5555555555555556,\"#d8576b\"],[0.6666666666666666,\"#ed7953\"],[0.7777777777777778,\"#fb9f3a\"],[0.8888888888888888,\"#fdca26\"],[1.0,\"#f0f921\"]],\"type\":\"histogram2dcontour\"}],\"mesh3d\":[{\"colorbar\":{\"outlinewidth\":0,\"ticks\":\"\"},\"type\":\"mesh3d\"}],\"parcoords\":[{\"line\":{\"colorbar\":{\"outlinewidth\":0,\"ticks\":\"\"}},\"type\":\"parcoords\"}],\"pie\":[{\"automargin\":true,\"type\":\"pie\"}],\"scatter\":[{\"marker\":{\"colorbar\":{\"outlinewidth\":0,\"ticks\":\"\"}},\"type\":\"scatter\"}],\"scatter3d\":[{\"line\":{\"colorbar\":{\"outlinewidth\":0,\"ticks\":\"\"}},\"marker\":{\"colorbar\":{\"outlinewidth\":0,\"ticks\":\"\"}},\"type\":\"scatter3d\"}],\"scattercarpet\":[{\"marker\":{\"colorbar\":{\"outlinewidth\":0,\"ticks\":\"\"}},\"type\":\"scattercarpet\"}],\"scattergeo\":[{\"marker\":{\"colorbar\":{\"outlinewidth\":0,\"ticks\":\"\"}},\"type\":\"scattergeo\"}],\"scattergl\":[{\"marker\":{\"colorbar\":{\"outlinewidth\":0,\"ticks\":\"\"}},\"type\":\"scattergl\"}],\"scattermapbox\":[{\"marker\":{\"colorbar\":{\"outlinewidth\":0,\"ticks\":\"\"}},\"type\":\"scattermapbox\"}],\"scatterpolar\":[{\"marker\":{\"colorbar\":{\"outlinewidth\":0,\"ticks\":\"\"}},\"type\":\"scatterpolar\"}],\"scatterpolargl\":[{\"marker\":{\"colorbar\":{\"outlinewidth\":0,\"ticks\":\"\"}},\"type\":\"scatterpolargl\"}],\"scatterternary\":[{\"marker\":{\"colorbar\":{\"outlinewidth\":0,\"ticks\":\"\"}},\"type\":\"scatterternary\"}],\"surface\":[{\"colorbar\":{\"outlinewidth\":0,\"ticks\":\"\"},\"colorscale\":[[0.0,\"#0d0887\"],[0.1111111111111111,\"#46039f\"],[0.2222222222222222,\"#7201a8\"],[0.3333333333333333,\"#9c179e\"],[0.4444444444444444,\"#bd3786\"],[0.5555555555555556,\"#d8576b\"],[0.6666666666666666,\"#ed7953\"],[0.7777777777777778,\"#fb9f3a\"],[0.8888888888888888,\"#fdca26\"],[1.0,\"#f0f921\"]],\"type\":\"surface\"}],\"table\":[{\"cells\":{\"fill\":{\"color\":\"#EBF0F8\"},\"line\":{\"color\":\"white\"}},\"header\":{\"fill\":{\"color\":\"#C8D4E3\"},\"line\":{\"color\":\"white\"}},\"type\":\"table\"}]},\"layout\":{\"annotationdefaults\":{\"arrowcolor\":\"#2a3f5f\",\"arrowhead\":0,\"arrowwidth\":1},\"autotypenumbers\":\"strict\",\"coloraxis\":{\"colorbar\":{\"outlinewidth\":0,\"ticks\":\"\"}},\"colorscale\":{\"diverging\":[[0,\"#8e0152\"],[0.1,\"#c51b7d\"],[0.2,\"#de77ae\"],[0.3,\"#f1b6da\"],[0.4,\"#fde0ef\"],[0.5,\"#f7f7f7\"],[0.6,\"#e6f5d0\"],[0.7,\"#b8e186\"],[0.8,\"#7fbc41\"],[0.9,\"#4d9221\"],[1,\"#276419\"]],\"sequential\":[[0.0,\"#0d0887\"],[0.1111111111111111,\"#46039f\"],[0.2222222222222222,\"#7201a8\"],[0.3333333333333333,\"#9c179e\"],[0.4444444444444444,\"#bd3786\"],[0.5555555555555556,\"#d8576b\"],[0.6666666666666666,\"#ed7953\"],[0.7777777777777778,\"#fb9f3a\"],[0.8888888888888888,\"#fdca26\"],[1.0,\"#f0f921\"]],\"sequentialminus\":[[0.0,\"#0d0887\"],[0.1111111111111111,\"#46039f\"],[0.2222222222222222,\"#7201a8\"],[0.3333333333333333,\"#9c179e\"],[0.4444444444444444,\"#bd3786\"],[0.5555555555555556,\"#d8576b\"],[0.6666666666666666,\"#ed7953\"],[0.7777777777777778,\"#fb9f3a\"],[0.8888888888888888,\"#fdca26\"],[1.0,\"#f0f921\"]]},\"colorway\":[\"#636efa\",\"#EF553B\",\"#00cc96\",\"#ab63fa\",\"#FFA15A\",\"#19d3f3\",\"#FF6692\",\"#B6E880\",\"#FF97FF\",\"#FECB52\"],\"font\":{\"color\":\"#2a3f5f\"},\"geo\":{\"bgcolor\":\"white\",\"lakecolor\":\"white\",\"landcolor\":\"#E5ECF6\",\"showlakes\":true,\"showland\":true,\"subunitcolor\":\"white\"},\"hoverlabel\":{\"align\":\"left\"},\"hovermode\":\"closest\",\"mapbox\":{\"style\":\"light\"},\"paper_bgcolor\":\"white\",\"plot_bgcolor\":\"#E5ECF6\",\"polar\":{\"angularaxis\":{\"gridcolor\":\"white\",\"linecolor\":\"white\",\"ticks\":\"\"},\"bgcolor\":\"#E5ECF6\",\"radialaxis\":{\"gridcolor\":\"white\",\"linecolor\":\"white\",\"ticks\":\"\"}},\"scene\":{\"xaxis\":{\"backgroundcolor\":\"#E5ECF6\",\"gridcolor\":\"white\",\"gridwidth\":2,\"linecolor\":\"white\",\"showbackground\":true,\"ticks\":\"\",\"zerolinecolor\":\"white\"},\"yaxis\":{\"backgroundcolor\":\"#E5ECF6\",\"gridcolor\":\"white\",\"gridwidth\":2,\"linecolor\":\"white\",\"showbackground\":true,\"ticks\":\"\",\"zerolinecolor\":\"white\"},\"zaxis\":{\"backgroundcolor\":\"#E5ECF6\",\"gridcolor\":\"white\",\"gridwidth\":2,\"linecolor\":\"white\",\"showbackground\":true,\"ticks\":\"\",\"zerolinecolor\":\"white\"}},\"shapedefaults\":{\"line\":{\"color\":\"#2a3f5f\"}},\"ternary\":{\"aaxis\":{\"gridcolor\":\"white\",\"linecolor\":\"white\",\"ticks\":\"\"},\"baxis\":{\"gridcolor\":\"white\",\"linecolor\":\"white\",\"ticks\":\"\"},\"bgcolor\":\"#E5ECF6\",\"caxis\":{\"gridcolor\":\"white\",\"linecolor\":\"white\",\"ticks\":\"\"}},\"title\":{\"x\":0.05},\"xaxis\":{\"automargin\":true,\"gridcolor\":\"white\",\"linecolor\":\"white\",\"ticks\":\"\",\"title\":{\"standoff\":15},\"zerolinecolor\":\"white\",\"zerolinewidth\":2},\"yaxis\":{\"automargin\":true,\"gridcolor\":\"white\",\"linecolor\":\"white\",\"ticks\":\"\",\"title\":{\"standoff\":15},\"zerolinecolor\":\"white\",\"zerolinewidth\":2}}},\"geo\":{\"projection\":{\"type\":\"orthographic\"}},\"margin\":{\"r\":0,\"t\":0,\"l\":0,\"b\":0},\"width\":500,\"height\":500},                        {\"responsive\": true}                    ).then(function(){\n",
              "                            \n",
              "var gd = document.getElementById('f8ad769c-d680-4299-8e38-21c8c8f7f252');\n",
              "var x = new MutationObserver(function (mutations, observer) {{\n",
              "        var display = window.getComputedStyle(gd).display;\n",
              "        if (!display || display === 'none') {{\n",
              "            console.log([gd, 'removed!']);\n",
              "            Plotly.purge(gd);\n",
              "            observer.disconnect();\n",
              "        }}\n",
              "}});\n",
              "\n",
              "// Listen for the removal of the full notebook cells\n",
              "var notebookContainer = gd.closest('#notebook-container');\n",
              "if (notebookContainer) {{\n",
              "    x.observe(notebookContainer, {childList: true});\n",
              "}}\n",
              "\n",
              "// Listen for the clearing of the current output cell\n",
              "var outputEl = gd.closest('.output');\n",
              "if (outputEl) {{\n",
              "    x.observe(outputEl, {childList: true});\n",
              "}}\n",
              "\n",
              "                        })                };                            </script>        </div>\n",
              "</body>\n",
              "</html>"
            ]
          },
          "metadata": {}
        }
      ]
    },
    {
      "cell_type": "code",
      "source": [
        "#making the plot\n",
        "#if you are passing just one lat and lon, put it within \"[]\"\n",
        "fig = go.Figure(go.Scattergeo(lat=[latitude], lon=[longitude]))\n",
        "\n",
        "\n",
        "#editing the map\n",
        "#fig.update_layout(width= 800, height=800, margin={\"r\":0,\"t\":0,\"l\":0,\"b\":0})\n",
        "\n",
        "#EDITing the figure html/css ORR importing your own figure\n",
        "fig.update_layout()\n",
        "\n",
        "\n",
        "\n",
        "fig.show()"
      ],
      "metadata": {
        "colab": {
          "base_uri": "https://localhost:8080/",
          "height": 542
        },
        "id": "Kjaqq2SRci7k",
        "outputId": "0d17511c-9026-4973-9d74-fa536078107f"
      },
      "execution_count": null,
      "outputs": [
        {
          "output_type": "display_data",
          "data": {
            "text/html": [
              "<html>\n",
              "<head><meta charset=\"utf-8\" /></head>\n",
              "<body>\n",
              "    <div>            <script src=\"https://cdnjs.cloudflare.com/ajax/libs/mathjax/2.7.5/MathJax.js?config=TeX-AMS-MML_SVG\"></script><script type=\"text/javascript\">if (window.MathJax) {MathJax.Hub.Config({SVG: {font: \"STIX-Web\"}});}</script>                <script type=\"text/javascript\">window.PlotlyConfig = {MathJaxConfig: 'local'};</script>\n",
              "        <script src=\"https://cdn.plot.ly/plotly-2.8.3.min.js\"></script>                <div id=\"899aeab2-8a66-4074-90de-2ef672f7561e\" class=\"plotly-graph-div\" style=\"height:525px; width:100%;\"></div>            <script type=\"text/javascript\">                                    window.PLOTLYENV=window.PLOTLYENV || {};                                    if (document.getElementById(\"899aeab2-8a66-4074-90de-2ef672f7561e\")) {                    Plotly.newPlot(                        \"899aeab2-8a66-4074-90de-2ef672f7561e\",                        [{\"lat\":[32.8771],\"lon\":[-80.013],\"type\":\"scattergeo\"}],                        {\"template\":{\"data\":{\"bar\":[{\"error_x\":{\"color\":\"#2a3f5f\"},\"error_y\":{\"color\":\"#2a3f5f\"},\"marker\":{\"line\":{\"color\":\"#E5ECF6\",\"width\":0.5},\"pattern\":{\"fillmode\":\"overlay\",\"size\":10,\"solidity\":0.2}},\"type\":\"bar\"}],\"barpolar\":[{\"marker\":{\"line\":{\"color\":\"#E5ECF6\",\"width\":0.5},\"pattern\":{\"fillmode\":\"overlay\",\"size\":10,\"solidity\":0.2}},\"type\":\"barpolar\"}],\"carpet\":[{\"aaxis\":{\"endlinecolor\":\"#2a3f5f\",\"gridcolor\":\"white\",\"linecolor\":\"white\",\"minorgridcolor\":\"white\",\"startlinecolor\":\"#2a3f5f\"},\"baxis\":{\"endlinecolor\":\"#2a3f5f\",\"gridcolor\":\"white\",\"linecolor\":\"white\",\"minorgridcolor\":\"white\",\"startlinecolor\":\"#2a3f5f\"},\"type\":\"carpet\"}],\"choropleth\":[{\"colorbar\":{\"outlinewidth\":0,\"ticks\":\"\"},\"type\":\"choropleth\"}],\"contour\":[{\"colorbar\":{\"outlinewidth\":0,\"ticks\":\"\"},\"colorscale\":[[0.0,\"#0d0887\"],[0.1111111111111111,\"#46039f\"],[0.2222222222222222,\"#7201a8\"],[0.3333333333333333,\"#9c179e\"],[0.4444444444444444,\"#bd3786\"],[0.5555555555555556,\"#d8576b\"],[0.6666666666666666,\"#ed7953\"],[0.7777777777777778,\"#fb9f3a\"],[0.8888888888888888,\"#fdca26\"],[1.0,\"#f0f921\"]],\"type\":\"contour\"}],\"contourcarpet\":[{\"colorbar\":{\"outlinewidth\":0,\"ticks\":\"\"},\"type\":\"contourcarpet\"}],\"heatmap\":[{\"colorbar\":{\"outlinewidth\":0,\"ticks\":\"\"},\"colorscale\":[[0.0,\"#0d0887\"],[0.1111111111111111,\"#46039f\"],[0.2222222222222222,\"#7201a8\"],[0.3333333333333333,\"#9c179e\"],[0.4444444444444444,\"#bd3786\"],[0.5555555555555556,\"#d8576b\"],[0.6666666666666666,\"#ed7953\"],[0.7777777777777778,\"#fb9f3a\"],[0.8888888888888888,\"#fdca26\"],[1.0,\"#f0f921\"]],\"type\":\"heatmap\"}],\"heatmapgl\":[{\"colorbar\":{\"outlinewidth\":0,\"ticks\":\"\"},\"colorscale\":[[0.0,\"#0d0887\"],[0.1111111111111111,\"#46039f\"],[0.2222222222222222,\"#7201a8\"],[0.3333333333333333,\"#9c179e\"],[0.4444444444444444,\"#bd3786\"],[0.5555555555555556,\"#d8576b\"],[0.6666666666666666,\"#ed7953\"],[0.7777777777777778,\"#fb9f3a\"],[0.8888888888888888,\"#fdca26\"],[1.0,\"#f0f921\"]],\"type\":\"heatmapgl\"}],\"histogram\":[{\"marker\":{\"pattern\":{\"fillmode\":\"overlay\",\"size\":10,\"solidity\":0.2}},\"type\":\"histogram\"}],\"histogram2d\":[{\"colorbar\":{\"outlinewidth\":0,\"ticks\":\"\"},\"colorscale\":[[0.0,\"#0d0887\"],[0.1111111111111111,\"#46039f\"],[0.2222222222222222,\"#7201a8\"],[0.3333333333333333,\"#9c179e\"],[0.4444444444444444,\"#bd3786\"],[0.5555555555555556,\"#d8576b\"],[0.6666666666666666,\"#ed7953\"],[0.7777777777777778,\"#fb9f3a\"],[0.8888888888888888,\"#fdca26\"],[1.0,\"#f0f921\"]],\"type\":\"histogram2d\"}],\"histogram2dcontour\":[{\"colorbar\":{\"outlinewidth\":0,\"ticks\":\"\"},\"colorscale\":[[0.0,\"#0d0887\"],[0.1111111111111111,\"#46039f\"],[0.2222222222222222,\"#7201a8\"],[0.3333333333333333,\"#9c179e\"],[0.4444444444444444,\"#bd3786\"],[0.5555555555555556,\"#d8576b\"],[0.6666666666666666,\"#ed7953\"],[0.7777777777777778,\"#fb9f3a\"],[0.8888888888888888,\"#fdca26\"],[1.0,\"#f0f921\"]],\"type\":\"histogram2dcontour\"}],\"mesh3d\":[{\"colorbar\":{\"outlinewidth\":0,\"ticks\":\"\"},\"type\":\"mesh3d\"}],\"parcoords\":[{\"line\":{\"colorbar\":{\"outlinewidth\":0,\"ticks\":\"\"}},\"type\":\"parcoords\"}],\"pie\":[{\"automargin\":true,\"type\":\"pie\"}],\"scatter\":[{\"marker\":{\"colorbar\":{\"outlinewidth\":0,\"ticks\":\"\"}},\"type\":\"scatter\"}],\"scatter3d\":[{\"line\":{\"colorbar\":{\"outlinewidth\":0,\"ticks\":\"\"}},\"marker\":{\"colorbar\":{\"outlinewidth\":0,\"ticks\":\"\"}},\"type\":\"scatter3d\"}],\"scattercarpet\":[{\"marker\":{\"colorbar\":{\"outlinewidth\":0,\"ticks\":\"\"}},\"type\":\"scattercarpet\"}],\"scattergeo\":[{\"marker\":{\"colorbar\":{\"outlinewidth\":0,\"ticks\":\"\"}},\"type\":\"scattergeo\"}],\"scattergl\":[{\"marker\":{\"colorbar\":{\"outlinewidth\":0,\"ticks\":\"\"}},\"type\":\"scattergl\"}],\"scattermapbox\":[{\"marker\":{\"colorbar\":{\"outlinewidth\":0,\"ticks\":\"\"}},\"type\":\"scattermapbox\"}],\"scatterpolar\":[{\"marker\":{\"colorbar\":{\"outlinewidth\":0,\"ticks\":\"\"}},\"type\":\"scatterpolar\"}],\"scatterpolargl\":[{\"marker\":{\"colorbar\":{\"outlinewidth\":0,\"ticks\":\"\"}},\"type\":\"scatterpolargl\"}],\"scatterternary\":[{\"marker\":{\"colorbar\":{\"outlinewidth\":0,\"ticks\":\"\"}},\"type\":\"scatterternary\"}],\"surface\":[{\"colorbar\":{\"outlinewidth\":0,\"ticks\":\"\"},\"colorscale\":[[0.0,\"#0d0887\"],[0.1111111111111111,\"#46039f\"],[0.2222222222222222,\"#7201a8\"],[0.3333333333333333,\"#9c179e\"],[0.4444444444444444,\"#bd3786\"],[0.5555555555555556,\"#d8576b\"],[0.6666666666666666,\"#ed7953\"],[0.7777777777777778,\"#fb9f3a\"],[0.8888888888888888,\"#fdca26\"],[1.0,\"#f0f921\"]],\"type\":\"surface\"}],\"table\":[{\"cells\":{\"fill\":{\"color\":\"#EBF0F8\"},\"line\":{\"color\":\"white\"}},\"header\":{\"fill\":{\"color\":\"#C8D4E3\"},\"line\":{\"color\":\"white\"}},\"type\":\"table\"}]},\"layout\":{\"annotationdefaults\":{\"arrowcolor\":\"#2a3f5f\",\"arrowhead\":0,\"arrowwidth\":1},\"autotypenumbers\":\"strict\",\"coloraxis\":{\"colorbar\":{\"outlinewidth\":0,\"ticks\":\"\"}},\"colorscale\":{\"diverging\":[[0,\"#8e0152\"],[0.1,\"#c51b7d\"],[0.2,\"#de77ae\"],[0.3,\"#f1b6da\"],[0.4,\"#fde0ef\"],[0.5,\"#f7f7f7\"],[0.6,\"#e6f5d0\"],[0.7,\"#b8e186\"],[0.8,\"#7fbc41\"],[0.9,\"#4d9221\"],[1,\"#276419\"]],\"sequential\":[[0.0,\"#0d0887\"],[0.1111111111111111,\"#46039f\"],[0.2222222222222222,\"#7201a8\"],[0.3333333333333333,\"#9c179e\"],[0.4444444444444444,\"#bd3786\"],[0.5555555555555556,\"#d8576b\"],[0.6666666666666666,\"#ed7953\"],[0.7777777777777778,\"#fb9f3a\"],[0.8888888888888888,\"#fdca26\"],[1.0,\"#f0f921\"]],\"sequentialminus\":[[0.0,\"#0d0887\"],[0.1111111111111111,\"#46039f\"],[0.2222222222222222,\"#7201a8\"],[0.3333333333333333,\"#9c179e\"],[0.4444444444444444,\"#bd3786\"],[0.5555555555555556,\"#d8576b\"],[0.6666666666666666,\"#ed7953\"],[0.7777777777777778,\"#fb9f3a\"],[0.8888888888888888,\"#fdca26\"],[1.0,\"#f0f921\"]]},\"colorway\":[\"#636efa\",\"#EF553B\",\"#00cc96\",\"#ab63fa\",\"#FFA15A\",\"#19d3f3\",\"#FF6692\",\"#B6E880\",\"#FF97FF\",\"#FECB52\"],\"font\":{\"color\":\"#2a3f5f\"},\"geo\":{\"bgcolor\":\"white\",\"lakecolor\":\"white\",\"landcolor\":\"#E5ECF6\",\"showlakes\":true,\"showland\":true,\"subunitcolor\":\"white\"},\"hoverlabel\":{\"align\":\"left\"},\"hovermode\":\"closest\",\"mapbox\":{\"style\":\"light\"},\"paper_bgcolor\":\"white\",\"plot_bgcolor\":\"#E5ECF6\",\"polar\":{\"angularaxis\":{\"gridcolor\":\"white\",\"linecolor\":\"white\",\"ticks\":\"\"},\"bgcolor\":\"#E5ECF6\",\"radialaxis\":{\"gridcolor\":\"white\",\"linecolor\":\"white\",\"ticks\":\"\"}},\"scene\":{\"xaxis\":{\"backgroundcolor\":\"#E5ECF6\",\"gridcolor\":\"white\",\"gridwidth\":2,\"linecolor\":\"white\",\"showbackground\":true,\"ticks\":\"\",\"zerolinecolor\":\"white\"},\"yaxis\":{\"backgroundcolor\":\"#E5ECF6\",\"gridcolor\":\"white\",\"gridwidth\":2,\"linecolor\":\"white\",\"showbackground\":true,\"ticks\":\"\",\"zerolinecolor\":\"white\"},\"zaxis\":{\"backgroundcolor\":\"#E5ECF6\",\"gridcolor\":\"white\",\"gridwidth\":2,\"linecolor\":\"white\",\"showbackground\":true,\"ticks\":\"\",\"zerolinecolor\":\"white\"}},\"shapedefaults\":{\"line\":{\"color\":\"#2a3f5f\"}},\"ternary\":{\"aaxis\":{\"gridcolor\":\"white\",\"linecolor\":\"white\",\"ticks\":\"\"},\"baxis\":{\"gridcolor\":\"white\",\"linecolor\":\"white\",\"ticks\":\"\"},\"bgcolor\":\"#E5ECF6\",\"caxis\":{\"gridcolor\":\"white\",\"linecolor\":\"white\",\"ticks\":\"\"}},\"title\":{\"x\":0.05},\"xaxis\":{\"automargin\":true,\"gridcolor\":\"white\",\"linecolor\":\"white\",\"ticks\":\"\",\"title\":{\"standoff\":15},\"zerolinecolor\":\"white\",\"zerolinewidth\":2},\"yaxis\":{\"automargin\":true,\"gridcolor\":\"white\",\"linecolor\":\"white\",\"ticks\":\"\",\"title\":{\"standoff\":15},\"zerolinecolor\":\"white\",\"zerolinewidth\":2}}}},                        {\"responsive\": true}                    ).then(function(){\n",
              "                            \n",
              "var gd = document.getElementById('899aeab2-8a66-4074-90de-2ef672f7561e');\n",
              "var x = new MutationObserver(function (mutations, observer) {{\n",
              "        var display = window.getComputedStyle(gd).display;\n",
              "        if (!display || display === 'none') {{\n",
              "            console.log([gd, 'removed!']);\n",
              "            Plotly.purge(gd);\n",
              "            observer.disconnect();\n",
              "        }}\n",
              "}});\n",
              "\n",
              "// Listen for the removal of the full notebook cells\n",
              "var notebookContainer = gd.closest('#notebook-container');\n",
              "if (notebookContainer) {{\n",
              "    x.observe(notebookContainer, {childList: true});\n",
              "}}\n",
              "\n",
              "// Listen for the clearing of the current output cell\n",
              "var outputEl = gd.closest('.output');\n",
              "if (outputEl) {{\n",
              "    x.observe(outputEl, {childList: true});\n",
              "}}\n",
              "\n",
              "                        })                };                            </script>        </div>\n",
              "</body>\n",
              "</html>"
            ]
          },
          "metadata": {}
        }
      ]
    },
    {
      "cell_type": "code",
      "source": [
        "# Creating object. for reference\n",
        "###DONT RUN NOW #####\n",
        "map_fig = px.scatter_geo(country_data,locations = 'iso-alpha', projection = 'orthographic', color = 'continent', opacity = .8, hover_name='country', hover_data =. ['lifeExpectancy']\n",
        ")\n",
        "map_fig.show()"
      ],
      "metadata": {
        "id": "t36nubYj0pkE",
        "colab": {
          "base_uri": "https://localhost:8080/",
          "height": 183
        },
        "outputId": "cc547c25-7c26-46d5-9742-9738a990982f"
      },
      "execution_count": null,
      "outputs": [
        {
          "output_type": "error",
          "ename": "SyntaxError",
          "evalue": "ignored",
          "traceback": [
            "\u001b[0;36m  File \u001b[0;32m\"<ipython-input-96-233d09fd7238>\"\u001b[0;36m, line \u001b[0;32m3\u001b[0m\n\u001b[0;31m    map_fig = px.scatter_geo(country_data,locations = 'iso-alpha', projection = 'orthographic', color = 'continent', opacity = .8, hover_name='country', hover_data =. ['lifeExpectancy']\u001b[0m\n\u001b[0m                                                                                                                                                                     ^\u001b[0m\n\u001b[0;31mSyntaxError\u001b[0m\u001b[0;31m:\u001b[0m invalid syntax\n"
          ]
        }
      ]
    },
    {
      "cell_type": "code",
      "source": [
        "pip install dash-vtk"
      ],
      "metadata": {
        "colab": {
          "base_uri": "https://localhost:8080/"
        },
        "id": "QKg7H3gM0pnJ",
        "outputId": "06c524a6-ab32-4af9-d153-c75289617842"
      },
      "execution_count": null,
      "outputs": [
        {
          "output_type": "stream",
          "name": "stdout",
          "text": [
            "Looking in indexes: https://pypi.org/simple, https://us-python.pkg.dev/colab-wheels/public/simple/\n",
            "Collecting dash-vtk\n",
            "  Downloading dash_vtk-0.0.9-py3-none-any.whl (421 kB)\n",
            "\u001b[K     |████████████████████████████████| 421 kB 5.1 MB/s \n",
            "\u001b[?25hCollecting vtk\n",
            "  Downloading vtk-9.1.0-cp37-cp37m-manylinux_2_17_x86_64.manylinux2014_x86_64.whl (88.3 MB)\n",
            "\u001b[K     |████████████████████████████████| 88.3 MB 166 kB/s \n",
            "\u001b[?25hRequirement already satisfied: dash in /usr/local/lib/python3.7/dist-packages (from dash-vtk) (1.19.0)\n",
            "Requirement already satisfied: plotly in /usr/local/lib/python3.7/dist-packages (from dash->dash-vtk) (5.5.0)\n",
            "Requirement already satisfied: Flask>=1.0.4 in /usr/local/lib/python3.7/dist-packages (from dash->dash-vtk) (1.1.4)\n",
            "Requirement already satisfied: dash-table==4.11.2 in /usr/local/lib/python3.7/dist-packages (from dash->dash-vtk) (4.11.2)\n",
            "Requirement already satisfied: dash-html-components==1.1.2 in /usr/local/lib/python3.7/dist-packages (from dash->dash-vtk) (1.1.2)\n",
            "Requirement already satisfied: future in /usr/local/lib/python3.7/dist-packages (from dash->dash-vtk) (0.16.0)\n",
            "Requirement already satisfied: flask-compress in /usr/local/lib/python3.7/dist-packages (from dash->dash-vtk) (1.12)\n",
            "Requirement already satisfied: dash-core-components==1.15.0 in /usr/local/lib/python3.7/dist-packages (from dash->dash-vtk) (1.15.0)\n",
            "Requirement already satisfied: dash-renderer==1.9.0 in /usr/local/lib/python3.7/dist-packages (from dash->dash-vtk) (1.9.0)\n",
            "Requirement already satisfied: click<8.0,>=5.1 in /usr/local/lib/python3.7/dist-packages (from Flask>=1.0.4->dash->dash-vtk) (7.1.2)\n",
            "Requirement already satisfied: Jinja2<3.0,>=2.10.1 in /usr/local/lib/python3.7/dist-packages (from Flask>=1.0.4->dash->dash-vtk) (2.11.3)\n",
            "Requirement already satisfied: itsdangerous<2.0,>=0.24 in /usr/local/lib/python3.7/dist-packages (from Flask>=1.0.4->dash->dash-vtk) (1.1.0)\n",
            "Requirement already satisfied: Werkzeug<2.0,>=0.15 in /usr/local/lib/python3.7/dist-packages (from Flask>=1.0.4->dash->dash-vtk) (1.0.1)\n",
            "Requirement already satisfied: MarkupSafe>=0.23 in /usr/local/lib/python3.7/dist-packages (from Jinja2<3.0,>=2.10.1->Flask>=1.0.4->dash->dash-vtk) (2.0.1)\n",
            "Requirement already satisfied: brotli in /usr/local/lib/python3.7/dist-packages (from flask-compress->dash->dash-vtk) (1.0.9)\n",
            "Requirement already satisfied: six in /usr/local/lib/python3.7/dist-packages (from plotly->dash->dash-vtk) (1.15.0)\n",
            "Requirement already satisfied: tenacity>=6.2.0 in /usr/local/lib/python3.7/dist-packages (from plotly->dash->dash-vtk) (8.0.1)\n",
            "Requirement already satisfied: matplotlib>=2.0.0 in /usr/local/lib/python3.7/dist-packages (from vtk->dash-vtk) (3.2.2)\n",
            "Collecting wslink>=1.0.4\n",
            "  Downloading wslink-1.6.5-py3-none-any.whl (22 kB)\n",
            "Requirement already satisfied: numpy>=1.11 in /usr/local/lib/python3.7/dist-packages (from matplotlib>=2.0.0->vtk->dash-vtk) (1.21.6)\n",
            "Requirement already satisfied: pyparsing!=2.0.4,!=2.1.2,!=2.1.6,>=2.0.1 in /usr/local/lib/python3.7/dist-packages (from matplotlib>=2.0.0->vtk->dash-vtk) (3.0.9)\n",
            "Requirement already satisfied: cycler>=0.10 in /usr/local/lib/python3.7/dist-packages (from matplotlib>=2.0.0->vtk->dash-vtk) (0.11.0)\n",
            "Requirement already satisfied: python-dateutil>=2.1 in /usr/local/lib/python3.7/dist-packages (from matplotlib>=2.0.0->vtk->dash-vtk) (2.8.2)\n",
            "Requirement already satisfied: kiwisolver>=1.0.1 in /usr/local/lib/python3.7/dist-packages (from matplotlib>=2.0.0->vtk->dash-vtk) (1.4.3)\n",
            "Requirement already satisfied: typing-extensions in /usr/local/lib/python3.7/dist-packages (from kiwisolver>=1.0.1->matplotlib>=2.0.0->vtk->dash-vtk) (4.1.1)\n",
            "Collecting aiohttp\n",
            "  Downloading aiohttp-3.8.1-cp37-cp37m-manylinux_2_5_x86_64.manylinux1_x86_64.manylinux_2_12_x86_64.manylinux2010_x86_64.whl (1.1 MB)\n",
            "\u001b[K     |████████████████████████████████| 1.1 MB 55.9 MB/s \n",
            "\u001b[?25hCollecting asynctest==0.13.0\n",
            "  Downloading asynctest-0.13.0-py3-none-any.whl (26 kB)\n",
            "Collecting yarl<2.0,>=1.0\n",
            "  Downloading yarl-1.7.2-cp37-cp37m-manylinux_2_5_x86_64.manylinux1_x86_64.manylinux_2_12_x86_64.manylinux2010_x86_64.whl (271 kB)\n",
            "\u001b[K     |████████████████████████████████| 271 kB 62.0 MB/s \n",
            "\u001b[?25hCollecting async-timeout<5.0,>=4.0.0a3\n",
            "  Downloading async_timeout-4.0.2-py3-none-any.whl (5.8 kB)\n",
            "Requirement already satisfied: attrs>=17.3.0 in /usr/local/lib/python3.7/dist-packages (from aiohttp->wslink>=1.0.4->vtk->dash-vtk) (21.4.0)\n",
            "Collecting aiosignal>=1.1.2\n",
            "  Downloading aiosignal-1.2.0-py3-none-any.whl (8.2 kB)\n",
            "Collecting frozenlist>=1.1.1\n",
            "  Downloading frozenlist-1.3.0-cp37-cp37m-manylinux_2_5_x86_64.manylinux1_x86_64.manylinux_2_17_x86_64.manylinux2014_x86_64.whl (144 kB)\n",
            "\u001b[K     |████████████████████████████████| 144 kB 51.4 MB/s \n",
            "\u001b[?25hRequirement already satisfied: charset-normalizer<3.0,>=2.0 in /usr/local/lib/python3.7/dist-packages (from aiohttp->wslink>=1.0.4->vtk->dash-vtk) (2.0.12)\n",
            "Collecting multidict<7.0,>=4.5\n",
            "  Downloading multidict-6.0.2-cp37-cp37m-manylinux_2_17_x86_64.manylinux2014_x86_64.whl (94 kB)\n",
            "\u001b[K     |████████████████████████████████| 94 kB 3.7 MB/s \n",
            "\u001b[?25hRequirement already satisfied: idna>=2.0 in /usr/local/lib/python3.7/dist-packages (from yarl<2.0,>=1.0->aiohttp->wslink>=1.0.4->vtk->dash-vtk) (2.10)\n",
            "Installing collected packages: multidict, frozenlist, yarl, asynctest, async-timeout, aiosignal, aiohttp, wslink, vtk, dash-vtk\n",
            "Successfully installed aiohttp-3.8.1 aiosignal-1.2.0 async-timeout-4.0.2 asynctest-0.13.0 dash-vtk-0.0.9 frozenlist-1.3.0 multidict-6.0.2 vtk-9.1.0 wslink-1.6.5 yarl-1.7.2\n"
          ]
        }
      ]
    },
    {
      "cell_type": "code",
      "source": [
        "from dash_vtk.utils import to_mesh_state\n",
        "from dash_vtk.utils import presets"
      ],
      "metadata": {
        "id": "VoPoD6QDyjDb"
      },
      "execution_count": null,
      "outputs": []
    },
    {
      "cell_type": "markdown",
      "source": [
        "# 3D Virtual \n"
      ],
      "metadata": {
        "id": "6T7Y4dCMyk9y"
      }
    },
    {
      "cell_type": "code",
      "source": [
        "!pip install dash_vtk.utils\n",
        "#!pip install mesh_state"
      ],
      "metadata": {
        "colab": {
          "base_uri": "https://localhost:8080/"
        },
        "id": "f4cGkfENyq3L",
        "outputId": "6f28389c-548a-4586-e7ee-b24990b754ff"
      },
      "execution_count": null,
      "outputs": [
        {
          "output_type": "stream",
          "name": "stdout",
          "text": [
            "Looking in indexes: https://pypi.org/simple, https://us-python.pkg.dev/colab-wheels/public/simple/\n",
            "\u001b[31mERROR: Could not find a version that satisfies the requirement dash_vtk.utils (from versions: none)\u001b[0m\n",
            "\u001b[31mERROR: No matching distribution found for dash_vtk.utils\u001b[0m\n"
          ]
        }
      ]
    },
    {
      "cell_type": "code",
      "source": [
        "\n",
        "\n",
        "import dash\n",
        "import dash_html_components as html\n",
        "\n",
        "import dash_vtk\n",
        "from dash_vtk.utils import to_mesh_state\n",
        "\n",
        "try:\n",
        "    # VTK 9+\n",
        "    from vtkmodules.vtkImagingCore import vtkRTAnalyticSource\n",
        "except ImportError:\n",
        "    # VTK =< 8\n",
        "    from vtk.vtkImagingCore import vtkRTAnalyticSource\n",
        "\n",
        "# Use VTK to get some data\n",
        "data_source = vtkRTAnalyticSource()\n",
        "data_source.Update()  # <= Execute source to produce an output\n",
        "dataset = data_source.GetOutput()\n",
        "\n",
        "# Use helper to get a mesh structure that can be passed as-is to a Mesh\n",
        "# RTData is the name of the field\n",
        "mesh_state = to_mesh_state(dataset)\n",
        "\n",
        "content = dash_vtk.View([\n",
        "    dash_vtk.GeometryRepresentation([\n",
        "        dash_vtk.Mesh(state=mesh_state)\n",
        "    ]),\n",
        "])\n",
        "\n",
        "# Dash setup\n",
        "app = JupyterDash(__name__)\n",
        "server = app.server\n",
        "\n",
        "app.layout = html.Div(\n",
        "    style={\"width\": \"100%\", \"height\": \"700px\"},\n",
        "    children=[content],\n",
        ")\n",
        "\n",
        "if __name__ == \"__main__\":\n",
        "    app.run_server(mode = \"inline\")"
      ],
      "metadata": {
        "colab": {
          "base_uri": "https://localhost:8080/",
          "height": 443
        },
        "id": "drVfEWCftH2k",
        "outputId": "1424625e-8efd-492b-c410-64554ee5a05c"
      },
      "execution_count": null,
      "outputs": [
        {
          "output_type": "error",
          "ename": "ModuleNotFoundError",
          "evalue": "ignored",
          "traceback": [
            "\u001b[0;31m---------------------------------------------------------------------------\u001b[0m",
            "\u001b[0;31mModuleNotFoundError\u001b[0m                       Traceback (most recent call last)",
            "\u001b[0;32m<ipython-input-8-459207930a92>\u001b[0m in \u001b[0;36m<module>\u001b[0;34m()\u001b[0m\n\u001b[1;32m      4\u001b[0m \u001b[0;32mimport\u001b[0m \u001b[0mdash_html_components\u001b[0m \u001b[0;32mas\u001b[0m \u001b[0mhtml\u001b[0m\u001b[0;34m\u001b[0m\u001b[0;34m\u001b[0m\u001b[0m\n\u001b[1;32m      5\u001b[0m \u001b[0;34m\u001b[0m\u001b[0m\n\u001b[0;32m----> 6\u001b[0;31m \u001b[0;32mimport\u001b[0m \u001b[0mdash_vtk\u001b[0m\u001b[0;34m\u001b[0m\u001b[0;34m\u001b[0m\u001b[0m\n\u001b[0m\u001b[1;32m      7\u001b[0m \u001b[0;32mfrom\u001b[0m \u001b[0mdash_vtk\u001b[0m\u001b[0;34m.\u001b[0m\u001b[0mutils\u001b[0m \u001b[0;32mimport\u001b[0m \u001b[0mto_mesh_state\u001b[0m\u001b[0;34m\u001b[0m\u001b[0;34m\u001b[0m\u001b[0m\n\u001b[1;32m      8\u001b[0m \u001b[0;34m\u001b[0m\u001b[0m\n",
            "\u001b[0;31mModuleNotFoundError\u001b[0m: No module named 'dash_vtk'",
            "",
            "\u001b[0;31m---------------------------------------------------------------------------\u001b[0;32m\nNOTE: If your import is failing due to a missing package, you can\nmanually install dependencies using either !pip or !apt.\n\nTo view examples of installing some common dependencies, click the\n\"Open Examples\" button below.\n\u001b[0;31m---------------------------------------------------------------------------\u001b[0m\n"
          ],
          "errorDetails": {
            "actions": [
              {
                "action": "open_url",
                "actionText": "Open Examples",
                "url": "/notebooks/snippets/importing_libraries.ipynb"
              }
            ]
          }
        }
      ]
    },
    {
      "cell_type": "code",
      "source": [
        ""
      ],
      "metadata": {
        "id": "zORnmhqJtH8N"
      },
      "execution_count": null,
      "outputs": []
    },
    {
      "cell_type": "code",
      "source": [
        ""
      ],
      "metadata": {
        "id": "4CEUbJAltIAF"
      },
      "execution_count": null,
      "outputs": []
    },
    {
      "cell_type": "code",
      "source": [
        ""
      ],
      "metadata": {
        "id": "lXia5sE_tICe"
      },
      "execution_count": null,
      "outputs": []
    },
    {
      "cell_type": "code",
      "source": [
        ""
      ],
      "metadata": {
        "id": "5OEzbAqVtILR"
      },
      "execution_count": null,
      "outputs": []
    },
    {
      "cell_type": "code",
      "source": [
        ""
      ],
      "metadata": {
        "id": "Ioe6w4edtINc"
      },
      "execution_count": null,
      "outputs": []
    },
    {
      "cell_type": "code",
      "source": [
        ""
      ],
      "metadata": {
        "id": "WL-W-pe_tIP2"
      },
      "execution_count": null,
      "outputs": []
    },
    {
      "cell_type": "code",
      "source": [
        ""
      ],
      "metadata": {
        "id": "0SywND80tISh"
      },
      "execution_count": null,
      "outputs": []
    },
    {
      "cell_type": "code",
      "source": [
        "df"
      ],
      "metadata": {
        "colab": {
          "base_uri": "https://localhost:8080/",
          "height": 238
        },
        "id": "B4JZJ1k7tIVP",
        "outputId": "1dd097bd-e62e-493b-e912-ed158b61a1ce"
      },
      "execution_count": null,
      "outputs": [
        {
          "output_type": "execute_result",
          "data": {
            "text/plain": [
              "                           name  age  books  slaves_freed color\n",
              "0  Executive Director (Harriet)   52      4            21  blue\n",
              "1        Vice President (Sarah)   45      2            40  blue\n",
              "2    Vice President (Charlotte)   25      1           107  blue\n",
              "3   Program Officer (Sojourner)   35      2            54  blue\n",
              "4   Program Officer (Elizabeth)   40      1            68  blue\n",
              "5     Program Associate (Ellen)   78      3            19  blue"
            ],
            "text/html": [
              "\n",
              "  <div id=\"df-a8ebf929-682b-4842-a8a9-262575e5559b\">\n",
              "    <div class=\"colab-df-container\">\n",
              "      <div>\n",
              "<style scoped>\n",
              "    .dataframe tbody tr th:only-of-type {\n",
              "        vertical-align: middle;\n",
              "    }\n",
              "\n",
              "    .dataframe tbody tr th {\n",
              "        vertical-align: top;\n",
              "    }\n",
              "\n",
              "    .dataframe thead th {\n",
              "        text-align: right;\n",
              "    }\n",
              "</style>\n",
              "<table border=\"1\" class=\"dataframe\">\n",
              "  <thead>\n",
              "    <tr style=\"text-align: right;\">\n",
              "      <th></th>\n",
              "      <th>name</th>\n",
              "      <th>age</th>\n",
              "      <th>books</th>\n",
              "      <th>slaves_freed</th>\n",
              "      <th>color</th>\n",
              "    </tr>\n",
              "  </thead>\n",
              "  <tbody>\n",
              "    <tr>\n",
              "      <th>0</th>\n",
              "      <td>Executive Director (Harriet)</td>\n",
              "      <td>52</td>\n",
              "      <td>4</td>\n",
              "      <td>21</td>\n",
              "      <td>blue</td>\n",
              "    </tr>\n",
              "    <tr>\n",
              "      <th>1</th>\n",
              "      <td>Vice President (Sarah)</td>\n",
              "      <td>45</td>\n",
              "      <td>2</td>\n",
              "      <td>40</td>\n",
              "      <td>blue</td>\n",
              "    </tr>\n",
              "    <tr>\n",
              "      <th>2</th>\n",
              "      <td>Vice President (Charlotte)</td>\n",
              "      <td>25</td>\n",
              "      <td>1</td>\n",
              "      <td>107</td>\n",
              "      <td>blue</td>\n",
              "    </tr>\n",
              "    <tr>\n",
              "      <th>3</th>\n",
              "      <td>Program Officer (Sojourner)</td>\n",
              "      <td>35</td>\n",
              "      <td>2</td>\n",
              "      <td>54</td>\n",
              "      <td>blue</td>\n",
              "    </tr>\n",
              "    <tr>\n",
              "      <th>4</th>\n",
              "      <td>Program Officer (Elizabeth)</td>\n",
              "      <td>40</td>\n",
              "      <td>1</td>\n",
              "      <td>68</td>\n",
              "      <td>blue</td>\n",
              "    </tr>\n",
              "    <tr>\n",
              "      <th>5</th>\n",
              "      <td>Program Associate (Ellen)</td>\n",
              "      <td>78</td>\n",
              "      <td>3</td>\n",
              "      <td>19</td>\n",
              "      <td>blue</td>\n",
              "    </tr>\n",
              "  </tbody>\n",
              "</table>\n",
              "</div>\n",
              "      <button class=\"colab-df-convert\" onclick=\"convertToInteractive('df-a8ebf929-682b-4842-a8a9-262575e5559b')\"\n",
              "              title=\"Convert this dataframe to an interactive table.\"\n",
              "              style=\"display:none;\">\n",
              "        \n",
              "  <svg xmlns=\"http://www.w3.org/2000/svg\" height=\"24px\"viewBox=\"0 0 24 24\"\n",
              "       width=\"24px\">\n",
              "    <path d=\"M0 0h24v24H0V0z\" fill=\"none\"/>\n",
              "    <path d=\"M18.56 5.44l.94 2.06.94-2.06 2.06-.94-2.06-.94-.94-2.06-.94 2.06-2.06.94zm-11 1L8.5 8.5l.94-2.06 2.06-.94-2.06-.94L8.5 2.5l-.94 2.06-2.06.94zm10 10l.94 2.06.94-2.06 2.06-.94-2.06-.94-.94-2.06-.94 2.06-2.06.94z\"/><path d=\"M17.41 7.96l-1.37-1.37c-.4-.4-.92-.59-1.43-.59-.52 0-1.04.2-1.43.59L10.3 9.45l-7.72 7.72c-.78.78-.78 2.05 0 2.83L4 21.41c.39.39.9.59 1.41.59.51 0 1.02-.2 1.41-.59l7.78-7.78 2.81-2.81c.8-.78.8-2.07 0-2.86zM5.41 20L4 18.59l7.72-7.72 1.47 1.35L5.41 20z\"/>\n",
              "  </svg>\n",
              "      </button>\n",
              "      \n",
              "  <style>\n",
              "    .colab-df-container {\n",
              "      display:flex;\n",
              "      flex-wrap:wrap;\n",
              "      gap: 12px;\n",
              "    }\n",
              "\n",
              "    .colab-df-convert {\n",
              "      background-color: #E8F0FE;\n",
              "      border: none;\n",
              "      border-radius: 50%;\n",
              "      cursor: pointer;\n",
              "      display: none;\n",
              "      fill: #1967D2;\n",
              "      height: 32px;\n",
              "      padding: 0 0 0 0;\n",
              "      width: 32px;\n",
              "    }\n",
              "\n",
              "    .colab-df-convert:hover {\n",
              "      background-color: #E2EBFA;\n",
              "      box-shadow: 0px 1px 2px rgba(60, 64, 67, 0.3), 0px 1px 3px 1px rgba(60, 64, 67, 0.15);\n",
              "      fill: #174EA6;\n",
              "    }\n",
              "\n",
              "    [theme=dark] .colab-df-convert {\n",
              "      background-color: #3B4455;\n",
              "      fill: #D2E3FC;\n",
              "    }\n",
              "\n",
              "    [theme=dark] .colab-df-convert:hover {\n",
              "      background-color: #434B5C;\n",
              "      box-shadow: 0px 1px 3px 1px rgba(0, 0, 0, 0.15);\n",
              "      filter: drop-shadow(0px 1px 2px rgba(0, 0, 0, 0.3));\n",
              "      fill: #FFFFFF;\n",
              "    }\n",
              "  </style>\n",
              "\n",
              "      <script>\n",
              "        const buttonEl =\n",
              "          document.querySelector('#df-a8ebf929-682b-4842-a8a9-262575e5559b button.colab-df-convert');\n",
              "        buttonEl.style.display =\n",
              "          google.colab.kernel.accessAllowed ? 'block' : 'none';\n",
              "\n",
              "        async function convertToInteractive(key) {\n",
              "          const element = document.querySelector('#df-a8ebf929-682b-4842-a8a9-262575e5559b');\n",
              "          const dataTable =\n",
              "            await google.colab.kernel.invokeFunction('convertToInteractive',\n",
              "                                                     [key], {});\n",
              "          if (!dataTable) return;\n",
              "\n",
              "          const docLinkHtml = 'Like what you see? Visit the ' +\n",
              "            '<a target=\"_blank\" href=https://colab.research.google.com/notebooks/data_table.ipynb>data table notebook</a>'\n",
              "            + ' to learn more about interactive tables.';\n",
              "          element.innerHTML = '';\n",
              "          dataTable['output_type'] = 'display_data';\n",
              "          await google.colab.output.renderOutput(dataTable, element);\n",
              "          const docLink = document.createElement('div');\n",
              "          docLink.innerHTML = docLinkHtml;\n",
              "          element.appendChild(docLink);\n",
              "        }\n",
              "      </script>\n",
              "    </div>\n",
              "  </div>\n",
              "  "
            ]
          },
          "metadata": {},
          "execution_count": 24
        }
      ]
    },
    {
      "cell_type": "code",
      "source": [
        "from jupyter_dash import JupyterDash  # pip install dash\n",
        "import dash_cytoscape as cyto  # pip install dash-cytoscape==0.2.0 or higher\n",
        "import dash_html_components as html\n",
        "import dash_core_components as dcc\n",
        "from dash.dependencies import Output, Input\n",
        "import pandas as pd  # pip install pandas\n",
        "import plotly.express as px\n",
        "import math\n",
        "from dash import no_update\n",
        "\n",
        "\n",
        "external_stylesheets = ['/content/style.css']\n",
        "app = JupyterDash(__name__, external_stylesheets=external_stylesheets)\n",
        "\n",
        "\n",
        "df = pd.read_csv(\"https://raw.githubusercontent.com/Coding-with-Adam/Dash-by-Plotly/master/Cytoscape/org-data.csv\")\n",
        "\n",
        "\n",
        "#name,age,books,slaves_freed,color\n",
        "#Executive Director (Harriet),52,4,21,blue\n",
        "#Vice President (Sarah),45,2,40,blue\n",
        "#Vice President (Charlotte),25,1,107,blue\n",
        "#Program Officer (Sojourner),35,2,54,blue\n",
        "#Program Officer (Elizabeth),40,1,68,blue\n",
        "#Program Associate (Ellen),78,3,19,blue\n",
        "\n",
        "# THE LAYOUT\n",
        "app.layout = html.Div([\n",
        "    html.Div([\n",
        "        dcc.Dropdown(\n",
        "            id='dpdn',\n",
        "            value='breadthfirst',\n",
        "            clearable=False,\n",
        "            options=[\n",
        "                {'label': name.capitalize(), 'value': name}\n",
        "                for name in ['breadthfirst' ,'grid', 'random', 'circle', 'cose', 'concentric']\n",
        "            ]\n",
        "        ), #Chart Cytoscape Features\n",
        "        cyto.Cytoscape(\n",
        "            id='org-chart',\n",
        "            autoungrabify=True,\n",
        "            minZoom=0.2,\n",
        "            maxZoom=1,\n",
        "            layout={'name': 'breadthfirst'},\n",
        "            style={'width': '100%', 'height': '500px'},\n",
        "            elements=\n",
        "                [\n",
        "                    # Nodes elements\n",
        "                    {'data': {'id': x, 'label': x}} for x in df.name\n",
        "                ]\n",
        "                +\n",
        "                [\n",
        "                    # Edge elements\n",
        "                    {'data': {'source': 'Executive Director (Harriet)', 'target': 'Vice President (Sarah)'}},\n",
        "                    {'data': {'source': 'Executive Director (Harriet)', 'target': 'Vice President (Charlotte)'}},\n",
        "                    {'data': {'source': 'Vice President (Sarah)', 'target': 'Program Officer (Sojourner)'}},\n",
        "                    {'data': {'source': 'Vice President (Sarah)', 'target': 'Program Officer (Elizabeth)'}},\n",
        "                    {'data': {'source': 'Vice President (Charlotte)', 'target': 'Program Associate (Ellen)'}},\n",
        "                ]\n",
        "        )\n",
        "    ], className='six columns'),\n",
        "\n",
        "    html.Div([\n",
        "        html.Div(id='empty-div', children='')\n",
        "    ],className='one column'),\n",
        "\n",
        "    html.Div([\n",
        "        dcc.Graph(id='test', figure=px.bar(df, x='name', y='slaves_freed'))\n",
        "    ], className='five columns'),\n",
        "\n",
        "], className='row')\n",
        "\n",
        "\n",
        "\n",
        "# Second CallBack\n",
        "@app.callback(Output('org-chart', 'layout'),\n",
        "              Input('dpdn', 'value'))\n",
        "def update_layout(layout_value):\n",
        "    if layout_value == 'breadthfirst':\n",
        "        return {\n",
        "        'name': layout_value,\n",
        "        'roots': '[id = \"Executive Director (Harriet)\"]',\n",
        "        'animate': True\n",
        "        }\n",
        "    else:\n",
        "        return {\n",
        "            'name': layout_value,\n",
        "            'animate': True\n",
        "        }\n",
        "\n",
        "# Third Callback\n",
        "@app.callback(\n",
        "    Output('test','figure'),\n",
        "    Input('org-chart','tapNodeData'),\n",
        ")\n",
        "\n",
        "# Labeled Data Info nodes returned\n",
        "def update_nodes(data):\n",
        "    if data is None:\n",
        "        return no_update\n",
        "    else:\n",
        "        dff = df.copy()\n",
        "        dff.loc[dff.name == data['label'], 'color'] = \"yellow\"\n",
        "        fig = px.bar(dff, x='name', y='slaves_freed')\n",
        "        fig.update_traces(marker={'color': dff['color']})\n",
        "        return fig\n",
        "\n",
        "\n",
        "#Serving Locally \n",
        "app.css.config.serve_locally=True\n",
        "app.scripts.config.serve_locally=True\n",
        "\n",
        "if __name__ =='__main__':\n",
        "    app.run_server(mode=\"external\")"
      ],
      "metadata": {
        "id": "YRis38nIqExr",
        "outputId": "b545c5db-79a4-458d-adf5-cc0acada6082",
        "colab": {
          "base_uri": "https://localhost:8080/",
          "height": 52
        }
      },
      "execution_count": null,
      "outputs": [
        {
          "output_type": "stream",
          "name": "stdout",
          "text": [
            "Dash app running on:\n"
          ]
        },
        {
          "output_type": "display_data",
          "data": {
            "text/plain": [
              "<IPython.core.display.Javascript object>"
            ],
            "application/javascript": [
              "(async (port, path, text, element) => {\n",
              "    if (!google.colab.kernel.accessAllowed) {\n",
              "      return;\n",
              "    }\n",
              "    element.appendChild(document.createTextNode(''));\n",
              "    const url = await google.colab.kernel.proxyPort(port);\n",
              "    const anchor = document.createElement('a');\n",
              "    anchor.href = new URL(path, url).toString();\n",
              "    anchor.target = '_blank';\n",
              "    anchor.setAttribute('data-href', url + path);\n",
              "    anchor.textContent = text;\n",
              "    element.appendChild(anchor);\n",
              "  })(8050, \"/\", \"http://127.0.0.1:8050/\", window.element)"
            ]
          },
          "metadata": {}
        }
      ]
    },
    {
      "cell_type": "code",
      "source": [
        "!pip install dash_core_components\n",
        "!pip install dash_vtk"
      ],
      "metadata": {
        "id": "Knoht6aoCsbP"
      },
      "execution_count": null,
      "outputs": []
    },
    {
      "cell_type": "code",
      "source": [
        ""
      ],
      "metadata": {
        "id": "xx6lqonWqE43"
      },
      "execution_count": null,
      "outputs": []
    },
    {
      "cell_type": "code",
      "source": [
        ""
      ],
      "metadata": {
        "id": "l-_PiESfqE9o"
      },
      "execution_count": null,
      "outputs": []
    },
    {
      "cell_type": "code",
      "source": [
        ""
      ],
      "metadata": {
        "id": "Xuh3DDUcqFAo"
      },
      "execution_count": null,
      "outputs": []
    },
    {
      "cell_type": "code",
      "source": [
        ""
      ],
      "metadata": {
        "id": "BvwKFY8mqFCs"
      },
      "execution_count": null,
      "outputs": []
    },
    {
      "cell_type": "code",
      "source": [
        ""
      ],
      "metadata": {
        "id": "PISKFwhyqFEy"
      },
      "execution_count": null,
      "outputs": []
    },
    {
      "cell_type": "code",
      "source": [
        "import jupyterlab_dash\n",
        "\n",
        "import dash\n",
        "import dash_html_components as html\n",
        "\n",
        "viewer = jupyterlab_dash.AppViewer()\n",
        "\n",
        "app = dash.Dash(__name__)\n",
        "\n",
        "app.layout = html.Div('Hello World')\n",
        "\n",
        "viewer.show(app)"
      ],
      "metadata": {
        "id": "pKJ069FPQJuv"
      },
      "execution_count": null,
      "outputs": []
    },
    {
      "cell_type": "code",
      "source": [
        "\"\"\"Instantiate a Dash app.\"\"\"\n",
        "import dash \n",
        "#from dash import \n",
        "#from dash import dcc\n",
        "import jupyterlab_dash\n",
        "import dash_html_components as datatable\n",
        "import dash_core_components as dcc\n",
        "import dash_html_components as html\n",
        "#from dash import html\n",
        "import dash_cytoscape as cyto \n",
        "\n",
        "\n",
        "\n",
        "#from data import create_dataframe\n",
        "#from .data import create_dataframe\n",
        "#from .layout import html_layout\n",
        "\n",
        "\n",
        "def init_dashboard(server):\n",
        "    \"\"\"Create a Plotly Dash dashboard.\"\"\"\n",
        "    dash_app = dash.Dash(\n",
        "        server=server,\n",
        "        routes_pathname_prefix=\"/dashapp/\",\n",
        "        external_stylesheets=[\n",
        "            \"/static/dist/css/styles.css\",\n",
        "            \"https://fonts.googleapis.com/css?family=Lato\",\n",
        "        ],\n",
        "    )\n",
        "\n",
        "    # Load DataFrame\n",
        "    df = create_dataframe()\n",
        "\n",
        "    # Custom HTML layout\n",
        "    dash_app.index_string = html_layout\n",
        "\n",
        "    # Create Layout\n",
        "    dash_app.layout = html.Div(\n",
        "        children=[\n",
        "            dcc.Graph(\n",
        "                id=\"histogram-graph\",\n",
        "                figure={\n",
        "                    \"data\": [\n",
        "                        {\n",
        "                            \"x\": df[\"complaint_type\"],\n",
        "                            \"text\": df[\"complaint_type\"],\n",
        "                            \"customdata\": df[\"key\"],\n",
        "                            \"name\": \"311 Calls by region.\",\n",
        "                            \"type\": \"histogram\",\n",
        "                        }\n",
        "                    ],\n",
        "                    \"layout\": {\n",
        "                        \"title\": \"NYC 311 Calls category.\",\n",
        "                        \"height\": 500,\n",
        "                        \"padding\": 150,\n",
        "                    },\n",
        "                },\n",
        "            ),\n",
        "            create_data_table(df),\n",
        "        ],\n",
        "        id=\"dash-container\",\n",
        "    )\n",
        "    return dash_app.server"
      ],
      "metadata": {
        "id": "WoOGPqItX37V"
      },
      "execution_count": null,
      "outputs": []
    },
    {
      "cell_type": "code",
      "source": [
        ""
      ],
      "metadata": {
        "id": "SjiYt9-te-X4"
      },
      "execution_count": null,
      "outputs": []
    },
    {
      "cell_type": "code",
      "source": [
        ""
      ],
      "metadata": {
        "id": "-O8q3XJtqCgX"
      },
      "execution_count": null,
      "outputs": []
    },
    {
      "cell_type": "code",
      "source": [
        ""
      ],
      "metadata": {
        "id": "WK14kP7SqCmW"
      },
      "execution_count": null,
      "outputs": []
    },
    {
      "cell_type": "code",
      "source": [
        "import dash\n",
        "import dash_html_components as html\n",
        "\n",
        "import dash_vtk\n",
        "from dash_vtk.utils import to_mesh_state\n",
        "\n",
        "try:\n",
        "    # VTK 9+\n",
        "    from vtkmodules.vtkImagingCore import vtkRTAnalyticSource\n",
        "except ImportError:\n",
        "    # VTK =< 8\n",
        "    from vtk.vtkImagingCore import vtkRTAnalyticSource\n",
        "\n",
        "# Use VTK to get some data\n",
        "data_source = vtkRTAnalyticSource()\n",
        "data_source.Update()  # <= Execute source to produce an output\n",
        "dataset = data_source.GetOutput()\n",
        "\n",
        "# Use helper to get a mesh structure that can be passed as-is to a Mesh\n",
        "# RTData is the name of the field\n",
        "mesh_state = to_mesh_state(dataset)\n",
        "\n",
        "content = dash_vtk.View([\n",
        "    dash_vtk.GeometryRepresentation([\n",
        "        dash_vtk.Mesh(state=mesh_state)\n",
        "    ]),\n",
        "])\n",
        "\n",
        "# Dash setup\n",
        "app = dash.Dash(__name__)\n",
        "\n",
        "server = app.server\n",
        "\n",
        "@app.route('/predict', methods=['POST'])\n",
        "\n",
        "app.layout = html.Div(\n",
        "    style={\"width\": \"100%\", \"height\": \"400px\"},\n",
        "    children=[content],\n",
        ")\n",
        "\n",
        "if __name__ == \"__main__\":\n",
        "    app.run_server(mode=\"external\")"
      ],
      "metadata": {
        "colab": {
          "base_uri": "https://localhost:8080/",
          "height": 572
        },
        "id": "g2mXtjPpAst8",
        "outputId": "ab144ab1-81d2-4284-f95a-62502b69c6a6"
      },
      "execution_count": null,
      "outputs": [
        {
          "output_type": "stream",
          "name": "stdout",
          "text": [
            "Dash is running on http://127.0.0.1:8050/\n",
            "\n",
            "Dash is running on http://127.0.0.1:8050/\n",
            "\n",
            "Dash is running on http://127.0.0.1:8050/\n",
            "\n",
            "Dash is running on http://127.0.0.1:8050/\n",
            "\n",
            " * Serving Flask app \"__main__\" (lazy loading)\n",
            " * Environment: production\n",
            "\u001b[31m   WARNING: This is a development server. Do not use it in a production deployment.\u001b[0m\n",
            "\u001b[2m   Use a production WSGI server instead.\u001b[0m\n",
            " * Debug mode: off\n"
          ]
        },
        {
          "output_type": "error",
          "ename": "TypeError",
          "evalue": "ignored",
          "traceback": [
            "\u001b[0;31m---------------------------------------------------------------------------\u001b[0m",
            "\u001b[0;31mTypeError\u001b[0m                                 Traceback (most recent call last)",
            "\u001b[0;32m<ipython-input-60-a48644283630>\u001b[0m in \u001b[0;36m<module>\u001b[0;34m()\u001b[0m\n\u001b[1;32m     37\u001b[0m \u001b[0;34m\u001b[0m\u001b[0m\n\u001b[1;32m     38\u001b[0m \u001b[0;32mif\u001b[0m \u001b[0m__name__\u001b[0m \u001b[0;34m==\u001b[0m \u001b[0;34m\"__main__\"\u001b[0m\u001b[0;34m:\u001b[0m\u001b[0;34m\u001b[0m\u001b[0;34m\u001b[0m\u001b[0m\n\u001b[0;32m---> 39\u001b[0;31m     \u001b[0mapp\u001b[0m\u001b[0;34m.\u001b[0m\u001b[0mrun_server\u001b[0m\u001b[0;34m(\u001b[0m\u001b[0mmode\u001b[0m\u001b[0;34m=\u001b[0m\u001b[0;34m\"external\"\u001b[0m\u001b[0;34m)\u001b[0m\u001b[0;34m\u001b[0m\u001b[0;34m\u001b[0m\u001b[0m\n\u001b[0m",
            "\u001b[0;32m/usr/local/lib/python3.7/dist-packages/dash/dash.py\u001b[0m in \u001b[0;36mrun_server\u001b[0;34m(self, host, port, proxy, debug, dev_tools_ui, dev_tools_props_check, dev_tools_serve_dev_bundles, dev_tools_hot_reload, dev_tools_hot_reload_interval, dev_tools_hot_reload_watch_interval, dev_tools_hot_reload_max_retry, dev_tools_silence_routes_logging, dev_tools_prune_errors, **flask_run_options)\u001b[0m\n\u001b[1;32m   1715\u001b[0m             \u001b[0mself\u001b[0m\u001b[0;34m.\u001b[0m\u001b[0mlogger\u001b[0m\u001b[0;34m.\u001b[0m\u001b[0minfo\u001b[0m\u001b[0;34m(\u001b[0m\u001b[0;34m\"Dash is running on %s://%s%s%s\\n\"\u001b[0m\u001b[0;34m,\u001b[0m \u001b[0;34m*\u001b[0m\u001b[0mdisplay_url\u001b[0m\u001b[0;34m)\u001b[0m\u001b[0;34m\u001b[0m\u001b[0;34m\u001b[0m\u001b[0m\n\u001b[1;32m   1716\u001b[0m \u001b[0;34m\u001b[0m\u001b[0m\n\u001b[0;32m-> 1717\u001b[0;31m         \u001b[0mself\u001b[0m\u001b[0;34m.\u001b[0m\u001b[0mserver\u001b[0m\u001b[0;34m.\u001b[0m\u001b[0mrun\u001b[0m\u001b[0;34m(\u001b[0m\u001b[0mhost\u001b[0m\u001b[0;34m=\u001b[0m\u001b[0mhost\u001b[0m\u001b[0;34m,\u001b[0m \u001b[0mport\u001b[0m\u001b[0;34m=\u001b[0m\u001b[0mport\u001b[0m\u001b[0;34m,\u001b[0m \u001b[0mdebug\u001b[0m\u001b[0;34m=\u001b[0m\u001b[0mdebug\u001b[0m\u001b[0;34m,\u001b[0m \u001b[0;34m**\u001b[0m\u001b[0mflask_run_options\u001b[0m\u001b[0;34m)\u001b[0m\u001b[0;34m\u001b[0m\u001b[0;34m\u001b[0m\u001b[0m\n\u001b[0m",
            "\u001b[0;32m/usr/local/lib/python3.7/dist-packages/flask/app.py\u001b[0m in \u001b[0;36mrun\u001b[0;34m(self, host, port, debug, load_dotenv, **options)\u001b[0m\n\u001b[1;32m    988\u001b[0m \u001b[0;34m\u001b[0m\u001b[0m\n\u001b[1;32m    989\u001b[0m         \u001b[0;32mtry\u001b[0m\u001b[0;34m:\u001b[0m\u001b[0;34m\u001b[0m\u001b[0;34m\u001b[0m\u001b[0m\n\u001b[0;32m--> 990\u001b[0;31m             \u001b[0mrun_simple\u001b[0m\u001b[0;34m(\u001b[0m\u001b[0mhost\u001b[0m\u001b[0;34m,\u001b[0m \u001b[0mport\u001b[0m\u001b[0;34m,\u001b[0m \u001b[0mself\u001b[0m\u001b[0;34m,\u001b[0m \u001b[0;34m**\u001b[0m\u001b[0moptions\u001b[0m\u001b[0;34m)\u001b[0m\u001b[0;34m\u001b[0m\u001b[0;34m\u001b[0m\u001b[0m\n\u001b[0m\u001b[1;32m    991\u001b[0m         \u001b[0;32mfinally\u001b[0m\u001b[0;34m:\u001b[0m\u001b[0;34m\u001b[0m\u001b[0;34m\u001b[0m\u001b[0m\n\u001b[1;32m    992\u001b[0m             \u001b[0;31m# reset the first request information if the development server\u001b[0m\u001b[0;34m\u001b[0m\u001b[0;34m\u001b[0m\u001b[0;34m\u001b[0m\u001b[0m\n",
            "\u001b[0;31mTypeError\u001b[0m: run_simple() got an unexpected keyword argument 'mode'"
          ]
        }
      ]
    },
    {
      "cell_type": "code",
      "source": [
        "%tb"
      ],
      "metadata": {
        "colab": {
          "base_uri": "https://localhost:8080/",
          "height": 346
        },
        "id": "33ZpoAFaCrSE",
        "outputId": "14639897-5cba-4734-9a63-85000944bcaf"
      },
      "execution_count": null,
      "outputs": [
        {
          "output_type": "error",
          "ename": "TypeError",
          "evalue": "ignored",
          "traceback": [
            "\u001b[0;31m---------------------------------------------------------------------------\u001b[0m",
            "\u001b[0;31mTypeError\u001b[0m                                 Traceback (most recent call last)",
            "\u001b[0;32m<ipython-input-52-a48644283630>\u001b[0m in \u001b[0;36m<module>\u001b[0;34m()\u001b[0m\n\u001b[1;32m     37\u001b[0m \u001b[0;34m\u001b[0m\u001b[0m\n\u001b[1;32m     38\u001b[0m \u001b[0;32mif\u001b[0m \u001b[0m__name__\u001b[0m \u001b[0;34m==\u001b[0m \u001b[0;34m\"__main__\"\u001b[0m\u001b[0;34m:\u001b[0m\u001b[0;34m\u001b[0m\u001b[0;34m\u001b[0m\u001b[0m\n\u001b[0;32m---> 39\u001b[0;31m     \u001b[0mapp\u001b[0m\u001b[0;34m.\u001b[0m\u001b[0mrun_server\u001b[0m\u001b[0;34m(\u001b[0m\u001b[0mmode\u001b[0m\u001b[0;34m=\u001b[0m\u001b[0;34m\"external\"\u001b[0m\u001b[0;34m)\u001b[0m\u001b[0;34m\u001b[0m\u001b[0;34m\u001b[0m\u001b[0m\n\u001b[0m",
            "\u001b[0;32m/usr/local/lib/python3.7/dist-packages/dash/dash.py\u001b[0m in \u001b[0;36mrun_server\u001b[0;34m(self, host, port, proxy, debug, dev_tools_ui, dev_tools_props_check, dev_tools_serve_dev_bundles, dev_tools_hot_reload, dev_tools_hot_reload_interval, dev_tools_hot_reload_watch_interval, dev_tools_hot_reload_max_retry, dev_tools_silence_routes_logging, dev_tools_prune_errors, **flask_run_options)\u001b[0m\n\u001b[1;32m   1715\u001b[0m             \u001b[0mself\u001b[0m\u001b[0;34m.\u001b[0m\u001b[0mlogger\u001b[0m\u001b[0;34m.\u001b[0m\u001b[0minfo\u001b[0m\u001b[0;34m(\u001b[0m\u001b[0;34m\"Dash is running on %s://%s%s%s\\n\"\u001b[0m\u001b[0;34m,\u001b[0m \u001b[0;34m*\u001b[0m\u001b[0mdisplay_url\u001b[0m\u001b[0;34m)\u001b[0m\u001b[0;34m\u001b[0m\u001b[0;34m\u001b[0m\u001b[0m\n\u001b[1;32m   1716\u001b[0m \u001b[0;34m\u001b[0m\u001b[0m\n\u001b[0;32m-> 1717\u001b[0;31m         \u001b[0mself\u001b[0m\u001b[0;34m.\u001b[0m\u001b[0mserver\u001b[0m\u001b[0;34m.\u001b[0m\u001b[0mrun\u001b[0m\u001b[0;34m(\u001b[0m\u001b[0mhost\u001b[0m\u001b[0;34m=\u001b[0m\u001b[0mhost\u001b[0m\u001b[0;34m,\u001b[0m \u001b[0mport\u001b[0m\u001b[0;34m=\u001b[0m\u001b[0mport\u001b[0m\u001b[0;34m,\u001b[0m \u001b[0mdebug\u001b[0m\u001b[0;34m=\u001b[0m\u001b[0mdebug\u001b[0m\u001b[0;34m,\u001b[0m \u001b[0;34m**\u001b[0m\u001b[0mflask_run_options\u001b[0m\u001b[0;34m)\u001b[0m\u001b[0;34m\u001b[0m\u001b[0;34m\u001b[0m\u001b[0m\n\u001b[0m",
            "\u001b[0;32m/usr/local/lib/python3.7/dist-packages/flask/app.py\u001b[0m in \u001b[0;36mrun\u001b[0;34m(self, host, port, debug, load_dotenv, **options)\u001b[0m\n\u001b[1;32m    988\u001b[0m \u001b[0;34m\u001b[0m\u001b[0m\n\u001b[1;32m    989\u001b[0m         \u001b[0;32mtry\u001b[0m\u001b[0;34m:\u001b[0m\u001b[0;34m\u001b[0m\u001b[0;34m\u001b[0m\u001b[0m\n\u001b[0;32m--> 990\u001b[0;31m             \u001b[0mrun_simple\u001b[0m\u001b[0;34m(\u001b[0m\u001b[0mhost\u001b[0m\u001b[0;34m,\u001b[0m \u001b[0mport\u001b[0m\u001b[0;34m,\u001b[0m \u001b[0mself\u001b[0m\u001b[0;34m,\u001b[0m \u001b[0;34m**\u001b[0m\u001b[0moptions\u001b[0m\u001b[0;34m)\u001b[0m\u001b[0;34m\u001b[0m\u001b[0;34m\u001b[0m\u001b[0m\n\u001b[0m\u001b[1;32m    991\u001b[0m         \u001b[0;32mfinally\u001b[0m\u001b[0;34m:\u001b[0m\u001b[0;34m\u001b[0m\u001b[0;34m\u001b[0m\u001b[0m\n\u001b[1;32m    992\u001b[0m             \u001b[0;31m# reset the first request information if the development server\u001b[0m\u001b[0;34m\u001b[0m\u001b[0;34m\u001b[0m\u001b[0;34m\u001b[0m\u001b[0m\n",
            "\u001b[0;31mTypeError\u001b[0m: run_simple() got an unexpected keyword argument 'mode'"
          ]
        }
      ]
    },
    {
      "cell_type": "code",
      "source": [
        ""
      ],
      "metadata": {
        "id": "gCIL87h5A7z2"
      },
      "execution_count": null,
      "outputs": []
    },
    {
      "metadata": {
        "id": "QVb3TaoVtFom"
      },
      "cell_type": "markdown",
      "source": [
        "# Dash"
      ]
    },
    {
      "cell_type": "markdown",
      "source": [
        "# How to connect html/css to dash app"
      ],
      "metadata": {
        "id": "vFFNyHaQHDZU"
      }
    },
    {
      "metadata": {
        "id": "TWJF-fKekaq0"
      },
      "cell_type": "code",
      "source": [
        ""
      ],
      "execution_count": null,
      "outputs": []
    }
  ]
}